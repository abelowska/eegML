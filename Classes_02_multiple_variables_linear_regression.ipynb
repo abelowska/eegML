{
  "nbformat": 4,
  "nbformat_minor": 0,
  "metadata": {
    "colab": {
      "provenance": [],
      "collapsed_sections": [],
      "authorship_tag": "ABX9TyNW7dAR+xyC64FVEW/xpfwb",
      "include_colab_link": true
    },
    "kernelspec": {
      "name": "python3",
      "display_name": "Python 3"
    },
    "language_info": {
      "name": "python"
    },
    "widgets": {
      "application/vnd.jupyter.widget-state+json": {
        "a795aacdfe7c46898fe7bbda948a6b33": {
          "model_module": "@jupyter-widgets/controls",
          "model_name": "VBoxModel",
          "model_module_version": "1.5.0",
          "state": {
            "_dom_classes": [
              "widget-interact"
            ],
            "_model_module": "@jupyter-widgets/controls",
            "_model_module_version": "1.5.0",
            "_model_name": "VBoxModel",
            "_view_count": null,
            "_view_module": "@jupyter-widgets/controls",
            "_view_module_version": "1.5.0",
            "_view_name": "VBoxView",
            "box_style": "",
            "children": [
              "IPY_MODEL_45681054571b444faf15547c61e3560f",
              "IPY_MODEL_007a190d395b4dec95f0606df1603122",
              "IPY_MODEL_96d67cc9277b41128f682d6ebf4afcc9"
            ],
            "layout": "IPY_MODEL_d63dd3875ffb4d4d8ac6d384337cd22c"
          }
        },
        "45681054571b444faf15547c61e3560f": {
          "model_module": "@jupyter-widgets/controls",
          "model_name": "FloatSliderModel",
          "model_module_version": "1.5.0",
          "state": {
            "_dom_classes": [],
            "_model_module": "@jupyter-widgets/controls",
            "_model_module_version": "1.5.0",
            "_model_name": "FloatSliderModel",
            "_view_count": null,
            "_view_module": "@jupyter-widgets/controls",
            "_view_module_version": "1.5.0",
            "_view_name": "FloatSliderView",
            "continuous_update": true,
            "description": "R2",
            "description_tooltip": null,
            "disabled": false,
            "layout": "IPY_MODEL_9082413ccba0457ba5663602440e45fc",
            "max": 1,
            "min": 0,
            "orientation": "horizontal",
            "readout": true,
            "readout_format": ".2f",
            "step": 0.01,
            "style": "IPY_MODEL_c8348d86252a41b789c4f983b6e5ca1e",
            "value": 0.08
          }
        },
        "007a190d395b4dec95f0606df1603122": {
          "model_module": "@jupyter-widgets/controls",
          "model_name": "IntSliderModel",
          "model_module_version": "1.5.0",
          "state": {
            "_dom_classes": [],
            "_model_module": "@jupyter-widgets/controls",
            "_model_module_version": "1.5.0",
            "_model_name": "IntSliderModel",
            "_view_count": null,
            "_view_module": "@jupyter-widgets/controls",
            "_view_module_version": "1.5.0",
            "_view_name": "IntSliderView",
            "continuous_update": true,
            "description": "Features",
            "description_tooltip": null,
            "disabled": false,
            "layout": "IPY_MODEL_196dbdde774e46909bc347aef0127177",
            "max": 28,
            "min": 1,
            "orientation": "horizontal",
            "readout": true,
            "readout_format": "d",
            "step": 1,
            "style": "IPY_MODEL_22c32c3d1e56447bb2f1781156410c1b",
            "value": 3
          }
        },
        "96d67cc9277b41128f682d6ebf4afcc9": {
          "model_module": "@jupyter-widgets/output",
          "model_name": "OutputModel",
          "model_module_version": "1.0.0",
          "state": {
            "_dom_classes": [],
            "_model_module": "@jupyter-widgets/output",
            "_model_module_version": "1.0.0",
            "_model_name": "OutputModel",
            "_view_count": null,
            "_view_module": "@jupyter-widgets/output",
            "_view_module_version": "1.0.0",
            "_view_name": "OutputView",
            "layout": "IPY_MODEL_fcc67da25b9e487d9fcbafff16c69e24",
            "msg_id": "",
            "outputs": [
              {
                "output_type": "display_data",
                "data": {
                  "text/plain": "<Figure size 720x360 with 1 Axes>",
                  "image/png": "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\n"
                },
                "metadata": {
                  "needs_background": "light"
                }
              }
            ]
          }
        },
        "d63dd3875ffb4d4d8ac6d384337cd22c": {
          "model_module": "@jupyter-widgets/base",
          "model_name": "LayoutModel",
          "model_module_version": "1.2.0",
          "state": {
            "_model_module": "@jupyter-widgets/base",
            "_model_module_version": "1.2.0",
            "_model_name": "LayoutModel",
            "_view_count": null,
            "_view_module": "@jupyter-widgets/base",
            "_view_module_version": "1.2.0",
            "_view_name": "LayoutView",
            "align_content": null,
            "align_items": null,
            "align_self": null,
            "border": null,
            "bottom": null,
            "display": null,
            "flex": null,
            "flex_flow": null,
            "grid_area": null,
            "grid_auto_columns": null,
            "grid_auto_flow": null,
            "grid_auto_rows": null,
            "grid_column": null,
            "grid_gap": null,
            "grid_row": null,
            "grid_template_areas": null,
            "grid_template_columns": null,
            "grid_template_rows": null,
            "height": null,
            "justify_content": null,
            "justify_items": null,
            "left": null,
            "margin": null,
            "max_height": null,
            "max_width": null,
            "min_height": null,
            "min_width": null,
            "object_fit": null,
            "object_position": null,
            "order": null,
            "overflow": null,
            "overflow_x": null,
            "overflow_y": null,
            "padding": null,
            "right": null,
            "top": null,
            "visibility": null,
            "width": null
          }
        },
        "9082413ccba0457ba5663602440e45fc": {
          "model_module": "@jupyter-widgets/base",
          "model_name": "LayoutModel",
          "model_module_version": "1.2.0",
          "state": {
            "_model_module": "@jupyter-widgets/base",
            "_model_module_version": "1.2.0",
            "_model_name": "LayoutModel",
            "_view_count": null,
            "_view_module": "@jupyter-widgets/base",
            "_view_module_version": "1.2.0",
            "_view_name": "LayoutView",
            "align_content": null,
            "align_items": null,
            "align_self": null,
            "border": null,
            "bottom": null,
            "display": null,
            "flex": null,
            "flex_flow": null,
            "grid_area": null,
            "grid_auto_columns": null,
            "grid_auto_flow": null,
            "grid_auto_rows": null,
            "grid_column": null,
            "grid_gap": null,
            "grid_row": null,
            "grid_template_areas": null,
            "grid_template_columns": null,
            "grid_template_rows": null,
            "height": null,
            "justify_content": null,
            "justify_items": null,
            "left": null,
            "margin": null,
            "max_height": null,
            "max_width": null,
            "min_height": null,
            "min_width": null,
            "object_fit": null,
            "object_position": null,
            "order": null,
            "overflow": null,
            "overflow_x": null,
            "overflow_y": null,
            "padding": null,
            "right": null,
            "top": null,
            "visibility": null,
            "width": null
          }
        },
        "c8348d86252a41b789c4f983b6e5ca1e": {
          "model_module": "@jupyter-widgets/controls",
          "model_name": "SliderStyleModel",
          "model_module_version": "1.5.0",
          "state": {
            "_model_module": "@jupyter-widgets/controls",
            "_model_module_version": "1.5.0",
            "_model_name": "SliderStyleModel",
            "_view_count": null,
            "_view_module": "@jupyter-widgets/base",
            "_view_module_version": "1.2.0",
            "_view_name": "StyleView",
            "description_width": "",
            "handle_color": null
          }
        },
        "196dbdde774e46909bc347aef0127177": {
          "model_module": "@jupyter-widgets/base",
          "model_name": "LayoutModel",
          "model_module_version": "1.2.0",
          "state": {
            "_model_module": "@jupyter-widgets/base",
            "_model_module_version": "1.2.0",
            "_model_name": "LayoutModel",
            "_view_count": null,
            "_view_module": "@jupyter-widgets/base",
            "_view_module_version": "1.2.0",
            "_view_name": "LayoutView",
            "align_content": null,
            "align_items": null,
            "align_self": null,
            "border": null,
            "bottom": null,
            "display": null,
            "flex": null,
            "flex_flow": null,
            "grid_area": null,
            "grid_auto_columns": null,
            "grid_auto_flow": null,
            "grid_auto_rows": null,
            "grid_column": null,
            "grid_gap": null,
            "grid_row": null,
            "grid_template_areas": null,
            "grid_template_columns": null,
            "grid_template_rows": null,
            "height": null,
            "justify_content": null,
            "justify_items": null,
            "left": null,
            "margin": null,
            "max_height": null,
            "max_width": null,
            "min_height": null,
            "min_width": null,
            "object_fit": null,
            "object_position": null,
            "order": null,
            "overflow": null,
            "overflow_x": null,
            "overflow_y": null,
            "padding": null,
            "right": null,
            "top": null,
            "visibility": null,
            "width": null
          }
        },
        "22c32c3d1e56447bb2f1781156410c1b": {
          "model_module": "@jupyter-widgets/controls",
          "model_name": "SliderStyleModel",
          "model_module_version": "1.5.0",
          "state": {
            "_model_module": "@jupyter-widgets/controls",
            "_model_module_version": "1.5.0",
            "_model_name": "SliderStyleModel",
            "_view_count": null,
            "_view_module": "@jupyter-widgets/base",
            "_view_module_version": "1.2.0",
            "_view_name": "StyleView",
            "description_width": "",
            "handle_color": null
          }
        },
        "fcc67da25b9e487d9fcbafff16c69e24": {
          "model_module": "@jupyter-widgets/base",
          "model_name": "LayoutModel",
          "model_module_version": "1.2.0",
          "state": {
            "_model_module": "@jupyter-widgets/base",
            "_model_module_version": "1.2.0",
            "_model_name": "LayoutModel",
            "_view_count": null,
            "_view_module": "@jupyter-widgets/base",
            "_view_module_version": "1.2.0",
            "_view_name": "LayoutView",
            "align_content": null,
            "align_items": null,
            "align_self": null,
            "border": null,
            "bottom": null,
            "display": null,
            "flex": null,
            "flex_flow": null,
            "grid_area": null,
            "grid_auto_columns": null,
            "grid_auto_flow": null,
            "grid_auto_rows": null,
            "grid_column": null,
            "grid_gap": null,
            "grid_row": null,
            "grid_template_areas": null,
            "grid_template_columns": null,
            "grid_template_rows": null,
            "height": null,
            "justify_content": null,
            "justify_items": null,
            "left": null,
            "margin": null,
            "max_height": null,
            "max_width": null,
            "min_height": null,
            "min_width": null,
            "object_fit": null,
            "object_position": null,
            "order": null,
            "overflow": null,
            "overflow_x": null,
            "overflow_y": null,
            "padding": null,
            "right": null,
            "top": null,
            "visibility": null,
            "width": null
          }
        }
      }
    }
  },
  "cells": [
    {
      "cell_type": "markdown",
      "metadata": {
        "id": "view-in-github",
        "colab_type": "text"
      },
      "source": [
        "<a href=\"https://colab.research.google.com/github/abelowska/eegML/blob/main/Classes_02_multiple_variables_linear_regression.ipynb\" target=\"_parent\"><img src=\"https://colab.research.google.com/assets/colab-badge.svg\" alt=\"Open In Colab\"/></a>"
      ]
    },
    {
      "cell_type": "markdown",
      "source": [
        "# Multiple variable linear regression"
      ],
      "metadata": {
        "id": "0UM_-fA16Wx0"
      }
    },
    {
      "cell_type": "markdown",
      "source": [
        "Using an open source [diabetes dataset](https://scikit-learn.org/stable/modules/generated/sklearn.datasets.load_diabetes.html#sklearn.datasets.load_diabetes) we're going to predict diabetes progression based on BMI scores with linear regression but now using more than one predictor. "
      ],
      "metadata": {
        "id": "kP1JP1zeZ9Yx"
      }
    },
    {
      "cell_type": "markdown",
      "source": [
        "Imports"
      ],
      "metadata": {
        "id": "8Q6dBZxA7WVj"
      }
    },
    {
      "cell_type": "code",
      "execution_count": null,
      "metadata": {
        "id": "VEyKd5686Pt8"
      },
      "outputs": [],
      "source": [
        "import matplotlib.pyplot as plt\n",
        "import numpy as np\n",
        "from sklearn import datasets, linear_model\n",
        "from sklearn.metrics import mean_squared_error, mean_absolute_error, r2_score\n",
        "from sklearn.model_selection import train_test_split\n",
        "import pandas as pd\n",
        "import seaborn as sns\n",
        "import io\n",
        "import plotly.graph_objects as go\n",
        "\n",
        "from ipywidgets import interact, interactive, fixed, interact_manual\n",
        "import ipywidgets as widgets"
      ]
    },
    {
      "cell_type": "markdown",
      "source": [
        "## Load the [diabetes dataset](https://scikit-learn.org/stable/modules/generated/sklearn.datasets.load_diabetes.html#sklearn.datasets.load_diabetes)"
      ],
      "metadata": {
        "id": "C40f350QVvNb"
      }
    },
    {
      "cell_type": "code",
      "source": [
        "diabets_data = datasets.load_diabetes(as_frame=True)"
      ],
      "metadata": {
        "id": "F_ado_rVXzyc"
      },
      "execution_count": null,
      "outputs": []
    },
    {
      "cell_type": "markdown",
      "source": [
        "Inspect the data"
      ],
      "metadata": {
        "id": "CrXV5zL7VzM8"
      }
    },
    {
      "cell_type": "code",
      "source": [
        "# read the description of dataset: the target and features\n",
        "print(diabets_data.DESCR)"
      ],
      "metadata": {
        "colab": {
          "base_uri": "https://localhost:8080/"
        },
        "id": "LXEDjCG9YHB0",
        "outputId": "684529c6-2638-4a19-d247-69452ab25a1e"
      },
      "execution_count": null,
      "outputs": [
        {
          "output_type": "stream",
          "name": "stdout",
          "text": [
            ".. _diabetes_dataset:\n",
            "\n",
            "Diabetes dataset\n",
            "----------------\n",
            "\n",
            "Ten baseline variables, age, sex, body mass index, average blood\n",
            "pressure, and six blood serum measurements were obtained for each of n =\n",
            "442 diabetes patients, as well as the response of interest, a\n",
            "quantitative measure of disease progression one year after baseline.\n",
            "\n",
            "**Data Set Characteristics:**\n",
            "\n",
            "  :Number of Instances: 442\n",
            "\n",
            "  :Number of Attributes: First 10 columns are numeric predictive values\n",
            "\n",
            "  :Target: Column 11 is a quantitative measure of disease progression one year after baseline\n",
            "\n",
            "  :Attribute Information:\n",
            "      - age     age in years\n",
            "      - sex\n",
            "      - bmi     body mass index\n",
            "      - bp      average blood pressure\n",
            "      - s1      tc, total serum cholesterol\n",
            "      - s2      ldl, low-density lipoproteins\n",
            "      - s3      hdl, high-density lipoproteins\n",
            "      - s4      tch, total cholesterol / HDL\n",
            "      - s5      ltg, possibly log of serum triglycerides level\n",
            "      - s6      glu, blood sugar level\n",
            "\n",
            "Note: Each of these 10 feature variables have been mean centered and scaled by the standard deviation times `n_samples` (i.e. the sum of squares of each column totals 1).\n",
            "\n",
            "Source URL:\n",
            "https://www4.stat.ncsu.edu/~boos/var.select/diabetes.html\n",
            "\n",
            "For more information see:\n",
            "Bradley Efron, Trevor Hastie, Iain Johnstone and Robert Tibshirani (2004) \"Least Angle Regression,\" Annals of Statistics (with discussion), 407-499.\n",
            "(https://web.stanford.edu/~hastie/Papers/LARS/LeastAngle_2002.pdf)\n"
          ]
        }
      ]
    },
    {
      "cell_type": "code",
      "source": [
        "# get dataframe consisting of features (X set)\n",
        "diabetes_X_df = diabets_data.data\n",
        "diabetes_X_df.head()"
      ],
      "metadata": {
        "colab": {
          "base_uri": "https://localhost:8080/",
          "height": 206
        },
        "id": "HI8HRfA2YWAg",
        "outputId": "b41a4a1b-af6d-4bf3-a91d-bcbce689d609"
      },
      "execution_count": null,
      "outputs": [
        {
          "output_type": "execute_result",
          "data": {
            "text/plain": [
              "        age       sex       bmi        bp        s1        s2        s3  \\\n",
              "0  0.038076  0.050680  0.061696  0.021872 -0.044223 -0.034821 -0.043401   \n",
              "1 -0.001882 -0.044642 -0.051474 -0.026328 -0.008449 -0.019163  0.074412   \n",
              "2  0.085299  0.050680  0.044451 -0.005671 -0.045599 -0.034194 -0.032356   \n",
              "3 -0.089063 -0.044642 -0.011595 -0.036656  0.012191  0.024991 -0.036038   \n",
              "4  0.005383 -0.044642 -0.036385  0.021872  0.003935  0.015596  0.008142   \n",
              "\n",
              "         s4        s5        s6  \n",
              "0 -0.002592  0.019908 -0.017646  \n",
              "1 -0.039493 -0.068330 -0.092204  \n",
              "2 -0.002592  0.002864 -0.025930  \n",
              "3  0.034309  0.022692 -0.009362  \n",
              "4 -0.002592 -0.031991 -0.046641  "
            ],
            "text/html": [
              "\n",
              "  <div id=\"df-64d95950-d1c7-40ae-bc9f-ed42766beb51\">\n",
              "    <div class=\"colab-df-container\">\n",
              "      <div>\n",
              "<style scoped>\n",
              "    .dataframe tbody tr th:only-of-type {\n",
              "        vertical-align: middle;\n",
              "    }\n",
              "\n",
              "    .dataframe tbody tr th {\n",
              "        vertical-align: top;\n",
              "    }\n",
              "\n",
              "    .dataframe thead th {\n",
              "        text-align: right;\n",
              "    }\n",
              "</style>\n",
              "<table border=\"1\" class=\"dataframe\">\n",
              "  <thead>\n",
              "    <tr style=\"text-align: right;\">\n",
              "      <th></th>\n",
              "      <th>age</th>\n",
              "      <th>sex</th>\n",
              "      <th>bmi</th>\n",
              "      <th>bp</th>\n",
              "      <th>s1</th>\n",
              "      <th>s2</th>\n",
              "      <th>s3</th>\n",
              "      <th>s4</th>\n",
              "      <th>s5</th>\n",
              "      <th>s6</th>\n",
              "    </tr>\n",
              "  </thead>\n",
              "  <tbody>\n",
              "    <tr>\n",
              "      <th>0</th>\n",
              "      <td>0.038076</td>\n",
              "      <td>0.050680</td>\n",
              "      <td>0.061696</td>\n",
              "      <td>0.021872</td>\n",
              "      <td>-0.044223</td>\n",
              "      <td>-0.034821</td>\n",
              "      <td>-0.043401</td>\n",
              "      <td>-0.002592</td>\n",
              "      <td>0.019908</td>\n",
              "      <td>-0.017646</td>\n",
              "    </tr>\n",
              "    <tr>\n",
              "      <th>1</th>\n",
              "      <td>-0.001882</td>\n",
              "      <td>-0.044642</td>\n",
              "      <td>-0.051474</td>\n",
              "      <td>-0.026328</td>\n",
              "      <td>-0.008449</td>\n",
              "      <td>-0.019163</td>\n",
              "      <td>0.074412</td>\n",
              "      <td>-0.039493</td>\n",
              "      <td>-0.068330</td>\n",
              "      <td>-0.092204</td>\n",
              "    </tr>\n",
              "    <tr>\n",
              "      <th>2</th>\n",
              "      <td>0.085299</td>\n",
              "      <td>0.050680</td>\n",
              "      <td>0.044451</td>\n",
              "      <td>-0.005671</td>\n",
              "      <td>-0.045599</td>\n",
              "      <td>-0.034194</td>\n",
              "      <td>-0.032356</td>\n",
              "      <td>-0.002592</td>\n",
              "      <td>0.002864</td>\n",
              "      <td>-0.025930</td>\n",
              "    </tr>\n",
              "    <tr>\n",
              "      <th>3</th>\n",
              "      <td>-0.089063</td>\n",
              "      <td>-0.044642</td>\n",
              "      <td>-0.011595</td>\n",
              "      <td>-0.036656</td>\n",
              "      <td>0.012191</td>\n",
              "      <td>0.024991</td>\n",
              "      <td>-0.036038</td>\n",
              "      <td>0.034309</td>\n",
              "      <td>0.022692</td>\n",
              "      <td>-0.009362</td>\n",
              "    </tr>\n",
              "    <tr>\n",
              "      <th>4</th>\n",
              "      <td>0.005383</td>\n",
              "      <td>-0.044642</td>\n",
              "      <td>-0.036385</td>\n",
              "      <td>0.021872</td>\n",
              "      <td>0.003935</td>\n",
              "      <td>0.015596</td>\n",
              "      <td>0.008142</td>\n",
              "      <td>-0.002592</td>\n",
              "      <td>-0.031991</td>\n",
              "      <td>-0.046641</td>\n",
              "    </tr>\n",
              "  </tbody>\n",
              "</table>\n",
              "</div>\n",
              "      <button class=\"colab-df-convert\" onclick=\"convertToInteractive('df-64d95950-d1c7-40ae-bc9f-ed42766beb51')\"\n",
              "              title=\"Convert this dataframe to an interactive table.\"\n",
              "              style=\"display:none;\">\n",
              "        \n",
              "  <svg xmlns=\"http://www.w3.org/2000/svg\" height=\"24px\"viewBox=\"0 0 24 24\"\n",
              "       width=\"24px\">\n",
              "    <path d=\"M0 0h24v24H0V0z\" fill=\"none\"/>\n",
              "    <path d=\"M18.56 5.44l.94 2.06.94-2.06 2.06-.94-2.06-.94-.94-2.06-.94 2.06-2.06.94zm-11 1L8.5 8.5l.94-2.06 2.06-.94-2.06-.94L8.5 2.5l-.94 2.06-2.06.94zm10 10l.94 2.06.94-2.06 2.06-.94-2.06-.94-.94-2.06-.94 2.06-2.06.94z\"/><path d=\"M17.41 7.96l-1.37-1.37c-.4-.4-.92-.59-1.43-.59-.52 0-1.04.2-1.43.59L10.3 9.45l-7.72 7.72c-.78.78-.78 2.05 0 2.83L4 21.41c.39.39.9.59 1.41.59.51 0 1.02-.2 1.41-.59l7.78-7.78 2.81-2.81c.8-.78.8-2.07 0-2.86zM5.41 20L4 18.59l7.72-7.72 1.47 1.35L5.41 20z\"/>\n",
              "  </svg>\n",
              "      </button>\n",
              "      \n",
              "  <style>\n",
              "    .colab-df-container {\n",
              "      display:flex;\n",
              "      flex-wrap:wrap;\n",
              "      gap: 12px;\n",
              "    }\n",
              "\n",
              "    .colab-df-convert {\n",
              "      background-color: #E8F0FE;\n",
              "      border: none;\n",
              "      border-radius: 50%;\n",
              "      cursor: pointer;\n",
              "      display: none;\n",
              "      fill: #1967D2;\n",
              "      height: 32px;\n",
              "      padding: 0 0 0 0;\n",
              "      width: 32px;\n",
              "    }\n",
              "\n",
              "    .colab-df-convert:hover {\n",
              "      background-color: #E2EBFA;\n",
              "      box-shadow: 0px 1px 2px rgba(60, 64, 67, 0.3), 0px 1px 3px 1px rgba(60, 64, 67, 0.15);\n",
              "      fill: #174EA6;\n",
              "    }\n",
              "\n",
              "    [theme=dark] .colab-df-convert {\n",
              "      background-color: #3B4455;\n",
              "      fill: #D2E3FC;\n",
              "    }\n",
              "\n",
              "    [theme=dark] .colab-df-convert:hover {\n",
              "      background-color: #434B5C;\n",
              "      box-shadow: 0px 1px 3px 1px rgba(0, 0, 0, 0.15);\n",
              "      filter: drop-shadow(0px 1px 2px rgba(0, 0, 0, 0.3));\n",
              "      fill: #FFFFFF;\n",
              "    }\n",
              "  </style>\n",
              "\n",
              "      <script>\n",
              "        const buttonEl =\n",
              "          document.querySelector('#df-64d95950-d1c7-40ae-bc9f-ed42766beb51 button.colab-df-convert');\n",
              "        buttonEl.style.display =\n",
              "          google.colab.kernel.accessAllowed ? 'block' : 'none';\n",
              "\n",
              "        async function convertToInteractive(key) {\n",
              "          const element = document.querySelector('#df-64d95950-d1c7-40ae-bc9f-ed42766beb51');\n",
              "          const dataTable =\n",
              "            await google.colab.kernel.invokeFunction('convertToInteractive',\n",
              "                                                     [key], {});\n",
              "          if (!dataTable) return;\n",
              "\n",
              "          const docLinkHtml = 'Like what you see? Visit the ' +\n",
              "            '<a target=\"_blank\" href=https://colab.research.google.com/notebooks/data_table.ipynb>data table notebook</a>'\n",
              "            + ' to learn more about interactive tables.';\n",
              "          element.innerHTML = '';\n",
              "          dataTable['output_type'] = 'display_data';\n",
              "          await google.colab.output.renderOutput(dataTable, element);\n",
              "          const docLink = document.createElement('div');\n",
              "          docLink.innerHTML = docLinkHtml;\n",
              "          element.appendChild(docLink);\n",
              "        }\n",
              "      </script>\n",
              "    </div>\n",
              "  </div>\n",
              "  "
            ]
          },
          "metadata": {},
          "execution_count": 5
        }
      ]
    },
    {
      "cell_type": "code",
      "source": [
        "# checking for Null Values\n",
        "diabetes_X_df.isnull().sum()"
      ],
      "metadata": {
        "colab": {
          "base_uri": "https://localhost:8080/"
        },
        "id": "70ldX06B5FIZ",
        "outputId": "1bd65e73-c86f-457c-d2ef-6cf5f11d5e04"
      },
      "execution_count": null,
      "outputs": [
        {
          "output_type": "execute_result",
          "data": {
            "text/plain": [
              "age    0\n",
              "sex    0\n",
              "bmi    0\n",
              "bp     0\n",
              "s1     0\n",
              "s2     0\n",
              "s3     0\n",
              "s4     0\n",
              "s5     0\n",
              "s6     0\n",
              "dtype: int64"
            ]
          },
          "metadata": {},
          "execution_count": 7
        }
      ]
    },
    {
      "cell_type": "code",
      "source": [
        "diabetes_X_df.describe()"
      ],
      "metadata": {
        "colab": {
          "base_uri": "https://localhost:8080/",
          "height": 434
        },
        "id": "LhoriRco5FSs",
        "outputId": "03049ab8-5937-42b9-f6ca-6c4bcb76cbf1"
      },
      "execution_count": null,
      "outputs": [
        {
          "output_type": "execute_result",
          "data": {
            "text/plain": [
              "                age           sex           bmi            bp            s1  \\\n",
              "count  4.420000e+02  4.420000e+02  4.420000e+02  4.420000e+02  4.420000e+02   \n",
              "mean  -3.639623e-16  1.309912e-16 -8.013951e-16  1.289818e-16 -9.042540e-17   \n",
              "std    4.761905e-02  4.761905e-02  4.761905e-02  4.761905e-02  4.761905e-02   \n",
              "min   -1.072256e-01 -4.464164e-02 -9.027530e-02 -1.123996e-01 -1.267807e-01   \n",
              "25%   -3.729927e-02 -4.464164e-02 -3.422907e-02 -3.665645e-02 -3.424784e-02   \n",
              "50%    5.383060e-03 -4.464164e-02 -7.283766e-03 -5.670611e-03 -4.320866e-03   \n",
              "75%    3.807591e-02  5.068012e-02  3.124802e-02  3.564384e-02  2.835801e-02   \n",
              "max    1.107267e-01  5.068012e-02  1.705552e-01  1.320442e-01  1.539137e-01   \n",
              "\n",
              "                 s2            s3            s4            s5            s6  \n",
              "count  4.420000e+02  4.420000e+02  4.420000e+02  4.420000e+02  4.420000e+02  \n",
              "mean   1.301121e-16 -4.563971e-16  3.863174e-16 -3.848103e-16 -3.398488e-16  \n",
              "std    4.761905e-02  4.761905e-02  4.761905e-02  4.761905e-02  4.761905e-02  \n",
              "min   -1.156131e-01 -1.023071e-01 -7.639450e-02 -1.260974e-01 -1.377672e-01  \n",
              "25%   -3.035840e-02 -3.511716e-02 -3.949338e-02 -3.324879e-02 -3.317903e-02  \n",
              "50%   -3.819065e-03 -6.584468e-03 -2.592262e-03 -1.947634e-03 -1.077698e-03  \n",
              "75%    2.984439e-02  2.931150e-02  3.430886e-02  3.243323e-02  2.791705e-02  \n",
              "max    1.987880e-01  1.811791e-01  1.852344e-01  1.335990e-01  1.356118e-01  "
            ],
            "text/html": [
              "\n",
              "  <div id=\"df-2d56e999-2a3d-446e-8214-cf7e1e088e9d\">\n",
              "    <div class=\"colab-df-container\">\n",
              "      <div>\n",
              "<style scoped>\n",
              "    .dataframe tbody tr th:only-of-type {\n",
              "        vertical-align: middle;\n",
              "    }\n",
              "\n",
              "    .dataframe tbody tr th {\n",
              "        vertical-align: top;\n",
              "    }\n",
              "\n",
              "    .dataframe thead th {\n",
              "        text-align: right;\n",
              "    }\n",
              "</style>\n",
              "<table border=\"1\" class=\"dataframe\">\n",
              "  <thead>\n",
              "    <tr style=\"text-align: right;\">\n",
              "      <th></th>\n",
              "      <th>age</th>\n",
              "      <th>sex</th>\n",
              "      <th>bmi</th>\n",
              "      <th>bp</th>\n",
              "      <th>s1</th>\n",
              "      <th>s2</th>\n",
              "      <th>s3</th>\n",
              "      <th>s4</th>\n",
              "      <th>s5</th>\n",
              "      <th>s6</th>\n",
              "    </tr>\n",
              "  </thead>\n",
              "  <tbody>\n",
              "    <tr>\n",
              "      <th>count</th>\n",
              "      <td>4.420000e+02</td>\n",
              "      <td>4.420000e+02</td>\n",
              "      <td>4.420000e+02</td>\n",
              "      <td>4.420000e+02</td>\n",
              "      <td>4.420000e+02</td>\n",
              "      <td>4.420000e+02</td>\n",
              "      <td>4.420000e+02</td>\n",
              "      <td>4.420000e+02</td>\n",
              "      <td>4.420000e+02</td>\n",
              "      <td>4.420000e+02</td>\n",
              "    </tr>\n",
              "    <tr>\n",
              "      <th>mean</th>\n",
              "      <td>-3.639623e-16</td>\n",
              "      <td>1.309912e-16</td>\n",
              "      <td>-8.013951e-16</td>\n",
              "      <td>1.289818e-16</td>\n",
              "      <td>-9.042540e-17</td>\n",
              "      <td>1.301121e-16</td>\n",
              "      <td>-4.563971e-16</td>\n",
              "      <td>3.863174e-16</td>\n",
              "      <td>-3.848103e-16</td>\n",
              "      <td>-3.398488e-16</td>\n",
              "    </tr>\n",
              "    <tr>\n",
              "      <th>std</th>\n",
              "      <td>4.761905e-02</td>\n",
              "      <td>4.761905e-02</td>\n",
              "      <td>4.761905e-02</td>\n",
              "      <td>4.761905e-02</td>\n",
              "      <td>4.761905e-02</td>\n",
              "      <td>4.761905e-02</td>\n",
              "      <td>4.761905e-02</td>\n",
              "      <td>4.761905e-02</td>\n",
              "      <td>4.761905e-02</td>\n",
              "      <td>4.761905e-02</td>\n",
              "    </tr>\n",
              "    <tr>\n",
              "      <th>min</th>\n",
              "      <td>-1.072256e-01</td>\n",
              "      <td>-4.464164e-02</td>\n",
              "      <td>-9.027530e-02</td>\n",
              "      <td>-1.123996e-01</td>\n",
              "      <td>-1.267807e-01</td>\n",
              "      <td>-1.156131e-01</td>\n",
              "      <td>-1.023071e-01</td>\n",
              "      <td>-7.639450e-02</td>\n",
              "      <td>-1.260974e-01</td>\n",
              "      <td>-1.377672e-01</td>\n",
              "    </tr>\n",
              "    <tr>\n",
              "      <th>25%</th>\n",
              "      <td>-3.729927e-02</td>\n",
              "      <td>-4.464164e-02</td>\n",
              "      <td>-3.422907e-02</td>\n",
              "      <td>-3.665645e-02</td>\n",
              "      <td>-3.424784e-02</td>\n",
              "      <td>-3.035840e-02</td>\n",
              "      <td>-3.511716e-02</td>\n",
              "      <td>-3.949338e-02</td>\n",
              "      <td>-3.324879e-02</td>\n",
              "      <td>-3.317903e-02</td>\n",
              "    </tr>\n",
              "    <tr>\n",
              "      <th>50%</th>\n",
              "      <td>5.383060e-03</td>\n",
              "      <td>-4.464164e-02</td>\n",
              "      <td>-7.283766e-03</td>\n",
              "      <td>-5.670611e-03</td>\n",
              "      <td>-4.320866e-03</td>\n",
              "      <td>-3.819065e-03</td>\n",
              "      <td>-6.584468e-03</td>\n",
              "      <td>-2.592262e-03</td>\n",
              "      <td>-1.947634e-03</td>\n",
              "      <td>-1.077698e-03</td>\n",
              "    </tr>\n",
              "    <tr>\n",
              "      <th>75%</th>\n",
              "      <td>3.807591e-02</td>\n",
              "      <td>5.068012e-02</td>\n",
              "      <td>3.124802e-02</td>\n",
              "      <td>3.564384e-02</td>\n",
              "      <td>2.835801e-02</td>\n",
              "      <td>2.984439e-02</td>\n",
              "      <td>2.931150e-02</td>\n",
              "      <td>3.430886e-02</td>\n",
              "      <td>3.243323e-02</td>\n",
              "      <td>2.791705e-02</td>\n",
              "    </tr>\n",
              "    <tr>\n",
              "      <th>max</th>\n",
              "      <td>1.107267e-01</td>\n",
              "      <td>5.068012e-02</td>\n",
              "      <td>1.705552e-01</td>\n",
              "      <td>1.320442e-01</td>\n",
              "      <td>1.539137e-01</td>\n",
              "      <td>1.987880e-01</td>\n",
              "      <td>1.811791e-01</td>\n",
              "      <td>1.852344e-01</td>\n",
              "      <td>1.335990e-01</td>\n",
              "      <td>1.356118e-01</td>\n",
              "    </tr>\n",
              "  </tbody>\n",
              "</table>\n",
              "</div>\n",
              "      <button class=\"colab-df-convert\" onclick=\"convertToInteractive('df-2d56e999-2a3d-446e-8214-cf7e1e088e9d')\"\n",
              "              title=\"Convert this dataframe to an interactive table.\"\n",
              "              style=\"display:none;\">\n",
              "        \n",
              "  <svg xmlns=\"http://www.w3.org/2000/svg\" height=\"24px\"viewBox=\"0 0 24 24\"\n",
              "       width=\"24px\">\n",
              "    <path d=\"M0 0h24v24H0V0z\" fill=\"none\"/>\n",
              "    <path d=\"M18.56 5.44l.94 2.06.94-2.06 2.06-.94-2.06-.94-.94-2.06-.94 2.06-2.06.94zm-11 1L8.5 8.5l.94-2.06 2.06-.94-2.06-.94L8.5 2.5l-.94 2.06-2.06.94zm10 10l.94 2.06.94-2.06 2.06-.94-2.06-.94-.94-2.06-.94 2.06-2.06.94z\"/><path d=\"M17.41 7.96l-1.37-1.37c-.4-.4-.92-.59-1.43-.59-.52 0-1.04.2-1.43.59L10.3 9.45l-7.72 7.72c-.78.78-.78 2.05 0 2.83L4 21.41c.39.39.9.59 1.41.59.51 0 1.02-.2 1.41-.59l7.78-7.78 2.81-2.81c.8-.78.8-2.07 0-2.86zM5.41 20L4 18.59l7.72-7.72 1.47 1.35L5.41 20z\"/>\n",
              "  </svg>\n",
              "      </button>\n",
              "      \n",
              "  <style>\n",
              "    .colab-df-container {\n",
              "      display:flex;\n",
              "      flex-wrap:wrap;\n",
              "      gap: 12px;\n",
              "    }\n",
              "\n",
              "    .colab-df-convert {\n",
              "      background-color: #E8F0FE;\n",
              "      border: none;\n",
              "      border-radius: 50%;\n",
              "      cursor: pointer;\n",
              "      display: none;\n",
              "      fill: #1967D2;\n",
              "      height: 32px;\n",
              "      padding: 0 0 0 0;\n",
              "      width: 32px;\n",
              "    }\n",
              "\n",
              "    .colab-df-convert:hover {\n",
              "      background-color: #E2EBFA;\n",
              "      box-shadow: 0px 1px 2px rgba(60, 64, 67, 0.3), 0px 1px 3px 1px rgba(60, 64, 67, 0.15);\n",
              "      fill: #174EA6;\n",
              "    }\n",
              "\n",
              "    [theme=dark] .colab-df-convert {\n",
              "      background-color: #3B4455;\n",
              "      fill: #D2E3FC;\n",
              "    }\n",
              "\n",
              "    [theme=dark] .colab-df-convert:hover {\n",
              "      background-color: #434B5C;\n",
              "      box-shadow: 0px 1px 3px 1px rgba(0, 0, 0, 0.15);\n",
              "      filter: drop-shadow(0px 1px 2px rgba(0, 0, 0, 0.3));\n",
              "      fill: #FFFFFF;\n",
              "    }\n",
              "  </style>\n",
              "\n",
              "      <script>\n",
              "        const buttonEl =\n",
              "          document.querySelector('#df-2d56e999-2a3d-446e-8214-cf7e1e088e9d button.colab-df-convert');\n",
              "        buttonEl.style.display =\n",
              "          google.colab.kernel.accessAllowed ? 'block' : 'none';\n",
              "\n",
              "        async function convertToInteractive(key) {\n",
              "          const element = document.querySelector('#df-2d56e999-2a3d-446e-8214-cf7e1e088e9d');\n",
              "          const dataTable =\n",
              "            await google.colab.kernel.invokeFunction('convertToInteractive',\n",
              "                                                     [key], {});\n",
              "          if (!dataTable) return;\n",
              "\n",
              "          const docLinkHtml = 'Like what you see? Visit the ' +\n",
              "            '<a target=\"_blank\" href=https://colab.research.google.com/notebooks/data_table.ipynb>data table notebook</a>'\n",
              "            + ' to learn more about interactive tables.';\n",
              "          element.innerHTML = '';\n",
              "          dataTable['output_type'] = 'display_data';\n",
              "          await google.colab.output.renderOutput(dataTable, element);\n",
              "          const docLink = document.createElement('div');\n",
              "          docLink.innerHTML = docLinkHtml;\n",
              "          element.appendChild(docLink);\n",
              "        }\n",
              "      </script>\n",
              "    </div>\n",
              "  </div>\n",
              "  "
            ]
          },
          "metadata": {},
          "execution_count": 8
        }
      ]
    },
    {
      "cell_type": "code",
      "source": [
        "# get dataframe with target (y set)\n",
        "diabetes_y_df = diabets_data.target\n",
        "diabetes_y_df.head()"
      ],
      "metadata": {
        "colab": {
          "base_uri": "https://localhost:8080/"
        },
        "id": "h11C_ZM0Yqa_",
        "outputId": "664e17a0-0305-4f30-d582-ced82a1c9c77"
      },
      "execution_count": null,
      "outputs": [
        {
          "output_type": "execute_result",
          "data": {
            "text/plain": [
              "0    151.0\n",
              "1     75.0\n",
              "2    141.0\n",
              "3    206.0\n",
              "4    135.0\n",
              "Name: target, dtype: float64"
            ]
          },
          "metadata": {},
          "execution_count": 6
        }
      ]
    },
    {
      "cell_type": "code",
      "source": [
        "# checking for Null Values\n",
        "diabetes_y_df.isnull().sum()"
      ],
      "metadata": {
        "colab": {
          "base_uri": "https://localhost:8080/"
        },
        "outputId": "f50910f5-79ab-42c0-bd28-4621920a8dc3",
        "id": "sGE0RYsj5fOQ"
      },
      "execution_count": null,
      "outputs": [
        {
          "output_type": "execute_result",
          "data": {
            "text/plain": [
              "0"
            ]
          },
          "metadata": {},
          "execution_count": 10
        }
      ]
    },
    {
      "cell_type": "code",
      "source": [
        "diabetes_y_df.describe()"
      ],
      "metadata": {
        "colab": {
          "base_uri": "https://localhost:8080/"
        },
        "outputId": "161ad4fb-0956-413c-99c6-e12c8aa88bf3",
        "id": "ogpQnqb45fOQ"
      },
      "execution_count": null,
      "outputs": [
        {
          "output_type": "execute_result",
          "data": {
            "text/plain": [
              "count    442.000000\n",
              "mean     152.133484\n",
              "std       77.093005\n",
              "min       25.000000\n",
              "25%       87.000000\n",
              "50%      140.500000\n",
              "75%      211.500000\n",
              "max      346.000000\n",
              "Name: target, dtype: float64"
            ]
          },
          "metadata": {},
          "execution_count": 11
        }
      ]
    },
    {
      "cell_type": "markdown",
      "source": [
        "Notice, that X dataset is a `DataFrame` that consists of 10 columns (10 features) and y dataset is a `Series`. If you do not know how I knew where the data was and what parameters to refer to - look at the [documentation](https://scikit-learn.org/stable/modules/generated/sklearn.datasets.load_diabetes.html#sklearn.datasets.load_diabetes) :)\n",
        "\n",
        "Now, let's look deeper inside the data:"
      ],
      "metadata": {
        "id": "DcN_X9YRWTul"
      }
    },
    {
      "cell_type": "code",
      "source": [
        "# merge target and features into one dataframe\n",
        "df = pd.DataFrame(diabetes_y_df).join(diabetes_X_df)\n",
        "df.head()"
      ],
      "metadata": {
        "colab": {
          "base_uri": "https://localhost:8080/",
          "height": 250
        },
        "id": "ymDkKgaK5srX",
        "outputId": "ceaca6db-8c88-468e-e6a1-098074ff8189"
      },
      "execution_count": null,
      "outputs": [
        {
          "output_type": "execute_result",
          "data": {
            "text/plain": [
              "   target       age       sex       bmi        bp        s1        s2  \\\n",
              "0   151.0  0.038076  0.050680  0.061696  0.021872 -0.044223 -0.034821   \n",
              "1    75.0 -0.001882 -0.044642 -0.051474 -0.026328 -0.008449 -0.019163   \n",
              "2   141.0  0.085299  0.050680  0.044451 -0.005671 -0.045599 -0.034194   \n",
              "3   206.0 -0.089063 -0.044642 -0.011595 -0.036656  0.012191  0.024991   \n",
              "4   135.0  0.005383 -0.044642 -0.036385  0.021872  0.003935  0.015596   \n",
              "\n",
              "         s3        s4        s5        s6  \n",
              "0 -0.043401 -0.002592  0.019908 -0.017646  \n",
              "1  0.074412 -0.039493 -0.068330 -0.092204  \n",
              "2 -0.032356 -0.002592  0.002864 -0.025930  \n",
              "3 -0.036038  0.034309  0.022692 -0.009362  \n",
              "4  0.008142 -0.002592 -0.031991 -0.046641  "
            ],
            "text/html": [
              "\n",
              "  <div id=\"df-69233ca3-427f-43f2-bb8c-799f8b46cc36\">\n",
              "    <div class=\"colab-df-container\">\n",
              "      <div>\n",
              "<style scoped>\n",
              "    .dataframe tbody tr th:only-of-type {\n",
              "        vertical-align: middle;\n",
              "    }\n",
              "\n",
              "    .dataframe tbody tr th {\n",
              "        vertical-align: top;\n",
              "    }\n",
              "\n",
              "    .dataframe thead th {\n",
              "        text-align: right;\n",
              "    }\n",
              "</style>\n",
              "<table border=\"1\" class=\"dataframe\">\n",
              "  <thead>\n",
              "    <tr style=\"text-align: right;\">\n",
              "      <th></th>\n",
              "      <th>target</th>\n",
              "      <th>age</th>\n",
              "      <th>sex</th>\n",
              "      <th>bmi</th>\n",
              "      <th>bp</th>\n",
              "      <th>s1</th>\n",
              "      <th>s2</th>\n",
              "      <th>s3</th>\n",
              "      <th>s4</th>\n",
              "      <th>s5</th>\n",
              "      <th>s6</th>\n",
              "    </tr>\n",
              "  </thead>\n",
              "  <tbody>\n",
              "    <tr>\n",
              "      <th>0</th>\n",
              "      <td>151.0</td>\n",
              "      <td>0.038076</td>\n",
              "      <td>0.050680</td>\n",
              "      <td>0.061696</td>\n",
              "      <td>0.021872</td>\n",
              "      <td>-0.044223</td>\n",
              "      <td>-0.034821</td>\n",
              "      <td>-0.043401</td>\n",
              "      <td>-0.002592</td>\n",
              "      <td>0.019908</td>\n",
              "      <td>-0.017646</td>\n",
              "    </tr>\n",
              "    <tr>\n",
              "      <th>1</th>\n",
              "      <td>75.0</td>\n",
              "      <td>-0.001882</td>\n",
              "      <td>-0.044642</td>\n",
              "      <td>-0.051474</td>\n",
              "      <td>-0.026328</td>\n",
              "      <td>-0.008449</td>\n",
              "      <td>-0.019163</td>\n",
              "      <td>0.074412</td>\n",
              "      <td>-0.039493</td>\n",
              "      <td>-0.068330</td>\n",
              "      <td>-0.092204</td>\n",
              "    </tr>\n",
              "    <tr>\n",
              "      <th>2</th>\n",
              "      <td>141.0</td>\n",
              "      <td>0.085299</td>\n",
              "      <td>0.050680</td>\n",
              "      <td>0.044451</td>\n",
              "      <td>-0.005671</td>\n",
              "      <td>-0.045599</td>\n",
              "      <td>-0.034194</td>\n",
              "      <td>-0.032356</td>\n",
              "      <td>-0.002592</td>\n",
              "      <td>0.002864</td>\n",
              "      <td>-0.025930</td>\n",
              "    </tr>\n",
              "    <tr>\n",
              "      <th>3</th>\n",
              "      <td>206.0</td>\n",
              "      <td>-0.089063</td>\n",
              "      <td>-0.044642</td>\n",
              "      <td>-0.011595</td>\n",
              "      <td>-0.036656</td>\n",
              "      <td>0.012191</td>\n",
              "      <td>0.024991</td>\n",
              "      <td>-0.036038</td>\n",
              "      <td>0.034309</td>\n",
              "      <td>0.022692</td>\n",
              "      <td>-0.009362</td>\n",
              "    </tr>\n",
              "    <tr>\n",
              "      <th>4</th>\n",
              "      <td>135.0</td>\n",
              "      <td>0.005383</td>\n",
              "      <td>-0.044642</td>\n",
              "      <td>-0.036385</td>\n",
              "      <td>0.021872</td>\n",
              "      <td>0.003935</td>\n",
              "      <td>0.015596</td>\n",
              "      <td>0.008142</td>\n",
              "      <td>-0.002592</td>\n",
              "      <td>-0.031991</td>\n",
              "      <td>-0.046641</td>\n",
              "    </tr>\n",
              "  </tbody>\n",
              "</table>\n",
              "</div>\n",
              "      <button class=\"colab-df-convert\" onclick=\"convertToInteractive('df-69233ca3-427f-43f2-bb8c-799f8b46cc36')\"\n",
              "              title=\"Convert this dataframe to an interactive table.\"\n",
              "              style=\"display:none;\">\n",
              "        \n",
              "  <svg xmlns=\"http://www.w3.org/2000/svg\" height=\"24px\"viewBox=\"0 0 24 24\"\n",
              "       width=\"24px\">\n",
              "    <path d=\"M0 0h24v24H0V0z\" fill=\"none\"/>\n",
              "    <path d=\"M18.56 5.44l.94 2.06.94-2.06 2.06-.94-2.06-.94-.94-2.06-.94 2.06-2.06.94zm-11 1L8.5 8.5l.94-2.06 2.06-.94-2.06-.94L8.5 2.5l-.94 2.06-2.06.94zm10 10l.94 2.06.94-2.06 2.06-.94-2.06-.94-.94-2.06-.94 2.06-2.06.94z\"/><path d=\"M17.41 7.96l-1.37-1.37c-.4-.4-.92-.59-1.43-.59-.52 0-1.04.2-1.43.59L10.3 9.45l-7.72 7.72c-.78.78-.78 2.05 0 2.83L4 21.41c.39.39.9.59 1.41.59.51 0 1.02-.2 1.41-.59l7.78-7.78 2.81-2.81c.8-.78.8-2.07 0-2.86zM5.41 20L4 18.59l7.72-7.72 1.47 1.35L5.41 20z\"/>\n",
              "  </svg>\n",
              "      </button>\n",
              "      \n",
              "  <style>\n",
              "    .colab-df-container {\n",
              "      display:flex;\n",
              "      flex-wrap:wrap;\n",
              "      gap: 12px;\n",
              "    }\n",
              "\n",
              "    .colab-df-convert {\n",
              "      background-color: #E8F0FE;\n",
              "      border: none;\n",
              "      border-radius: 50%;\n",
              "      cursor: pointer;\n",
              "      display: none;\n",
              "      fill: #1967D2;\n",
              "      height: 32px;\n",
              "      padding: 0 0 0 0;\n",
              "      width: 32px;\n",
              "    }\n",
              "\n",
              "    .colab-df-convert:hover {\n",
              "      background-color: #E2EBFA;\n",
              "      box-shadow: 0px 1px 2px rgba(60, 64, 67, 0.3), 0px 1px 3px 1px rgba(60, 64, 67, 0.15);\n",
              "      fill: #174EA6;\n",
              "    }\n",
              "\n",
              "    [theme=dark] .colab-df-convert {\n",
              "      background-color: #3B4455;\n",
              "      fill: #D2E3FC;\n",
              "    }\n",
              "\n",
              "    [theme=dark] .colab-df-convert:hover {\n",
              "      background-color: #434B5C;\n",
              "      box-shadow: 0px 1px 3px 1px rgba(0, 0, 0, 0.15);\n",
              "      filter: drop-shadow(0px 1px 2px rgba(0, 0, 0, 0.3));\n",
              "      fill: #FFFFFF;\n",
              "    }\n",
              "  </style>\n",
              "\n",
              "      <script>\n",
              "        const buttonEl =\n",
              "          document.querySelector('#df-69233ca3-427f-43f2-bb8c-799f8b46cc36 button.colab-df-convert');\n",
              "        buttonEl.style.display =\n",
              "          google.colab.kernel.accessAllowed ? 'block' : 'none';\n",
              "\n",
              "        async function convertToInteractive(key) {\n",
              "          const element = document.querySelector('#df-69233ca3-427f-43f2-bb8c-799f8b46cc36');\n",
              "          const dataTable =\n",
              "            await google.colab.kernel.invokeFunction('convertToInteractive',\n",
              "                                                     [key], {});\n",
              "          if (!dataTable) return;\n",
              "\n",
              "          const docLinkHtml = 'Like what you see? Visit the ' +\n",
              "            '<a target=\"_blank\" href=https://colab.research.google.com/notebooks/data_table.ipynb>data table notebook</a>'\n",
              "            + ' to learn more about interactive tables.';\n",
              "          element.innerHTML = '';\n",
              "          dataTable['output_type'] = 'display_data';\n",
              "          await google.colab.output.renderOutput(dataTable, element);\n",
              "          const docLink = document.createElement('div');\n",
              "          docLink.innerHTML = docLinkHtml;\n",
              "          element.appendChild(docLink);\n",
              "        }\n",
              "      </script>\n",
              "    </div>\n",
              "  </div>\n",
              "  "
            ]
          },
          "metadata": {},
          "execution_count": 12
        }
      ]
    },
    {
      "cell_type": "code",
      "source": [
        "# create correlation matix\n",
        "corr = df.corr()"
      ],
      "metadata": {
        "id": "_nAPmJhe7pRK"
      },
      "execution_count": null,
      "outputs": []
    },
    {
      "cell_type": "code",
      "source": [
        "# plot matrix\n",
        "plt.figure(figsize=(12,9))\n",
        "\n",
        "sns.heatmap(\n",
        "    corr,\n",
        "    vmax=.8, \n",
        "    annot=True,\n",
        "    cmap='icefire'\n",
        "    )\n",
        "\n",
        "plt.show()"
      ],
      "metadata": {
        "colab": {
          "base_uri": "https://localhost:8080/",
          "height": 541
        },
        "id": "9dy-cQto78Mq",
        "outputId": "3b19318f-3d06-4605-e085-74cf6bfaf64a"
      },
      "execution_count": null,
      "outputs": [
        {
          "output_type": "display_data",
          "data": {
            "text/plain": [
              "<Figure size 864x648 with 2 Axes>"
            ],
            "image/png": "[encoded data removed]"
          },
          "metadata": {
            "needs_background": "light"
          }
        }
      ]
    },
    {
      "cell_type": "markdown",
      "source": [
        "\n",
        "**Now, we're going to add more features to our $\\color{#DF3B18}{\\text{feature vector}}$. Let's look whether adding $\\color{#DF3B18}{\\text{total cholesterol (s4)}}$ variable to $\\color{#DF3B18}{\\text{BMI}}$ increases accuracy of our predictive model.**\n",
        "\n"
      ],
      "metadata": {
        "id": "AnOr44HJ5tB0"
      }
    },
    {
      "cell_type": "markdown",
      "source": [
        "## Prepare data"
      ],
      "metadata": {
        "id": "jsu1bvMHf2S8"
      }
    },
    {
      "cell_type": "markdown",
      "source": [
        "Select features from a data frame consisting of features. Then, cast data to array-like data format and reshape to (n_samples, n_features)."
      ],
      "metadata": {
        "id": "vjUIBHZ_cl7T"
      }
    },
    {
      "cell_type": "code",
      "source": [
        "# view df\n",
        "diabetes_X_df.head()"
      ],
      "metadata": {
        "colab": {
          "base_uri": "https://localhost:8080/",
          "height": 206
        },
        "id": "vL_myGVvV1RL",
        "outputId": "347cb749-9f92-49cb-9223-fdc18116d149"
      },
      "execution_count": null,
      "outputs": [
        {
          "output_type": "execute_result",
          "data": {
            "text/plain": [
              "        age       sex       bmi        bp        s1        s2        s3  \\\n",
              "0  0.038076  0.050680  0.061696  0.021872 -0.044223 -0.034821 -0.043401   \n",
              "1 -0.001882 -0.044642 -0.051474 -0.026328 -0.008449 -0.019163  0.074412   \n",
              "2  0.085299  0.050680  0.044451 -0.005671 -0.045599 -0.034194 -0.032356   \n",
              "3 -0.089063 -0.044642 -0.011595 -0.036656  0.012191  0.024991 -0.036038   \n",
              "4  0.005383 -0.044642 -0.036385  0.021872  0.003935  0.015596  0.008142   \n",
              "\n",
              "         s4        s5        s6  \n",
              "0 -0.002592  0.019908 -0.017646  \n",
              "1 -0.039493 -0.068330 -0.092204  \n",
              "2 -0.002592  0.002864 -0.025930  \n",
              "3  0.034309  0.022692 -0.009362  \n",
              "4 -0.002592 -0.031991 -0.046641  "
            ],
            "text/html": [
              "\n",
              "  <div id=\"df-9f0116ca-addd-4303-ad5b-b6ca15175e3d\">\n",
              "    <div class=\"colab-df-container\">\n",
              "      <div>\n",
              "<style scoped>\n",
              "    .dataframe tbody tr th:only-of-type {\n",
              "        vertical-align: middle;\n",
              "    }\n",
              "\n",
              "    .dataframe tbody tr th {\n",
              "        vertical-align: top;\n",
              "    }\n",
              "\n",
              "    .dataframe thead th {\n",
              "        text-align: right;\n",
              "    }\n",
              "</style>\n",
              "<table border=\"1\" class=\"dataframe\">\n",
              "  <thead>\n",
              "    <tr style=\"text-align: right;\">\n",
              "      <th></th>\n",
              "      <th>age</th>\n",
              "      <th>sex</th>\n",
              "      <th>bmi</th>\n",
              "      <th>bp</th>\n",
              "      <th>s1</th>\n",
              "      <th>s2</th>\n",
              "      <th>s3</th>\n",
              "      <th>s4</th>\n",
              "      <th>s5</th>\n",
              "      <th>s6</th>\n",
              "    </tr>\n",
              "  </thead>\n",
              "  <tbody>\n",
              "    <tr>\n",
              "      <th>0</th>\n",
              "      <td>0.038076</td>\n",
              "      <td>0.050680</td>\n",
              "      <td>0.061696</td>\n",
              "      <td>0.021872</td>\n",
              "      <td>-0.044223</td>\n",
              "      <td>-0.034821</td>\n",
              "      <td>-0.043401</td>\n",
              "      <td>-0.002592</td>\n",
              "      <td>0.019908</td>\n",
              "      <td>-0.017646</td>\n",
              "    </tr>\n",
              "    <tr>\n",
              "      <th>1</th>\n",
              "      <td>-0.001882</td>\n",
              "      <td>-0.044642</td>\n",
              "      <td>-0.051474</td>\n",
              "      <td>-0.026328</td>\n",
              "      <td>-0.008449</td>\n",
              "      <td>-0.019163</td>\n",
              "      <td>0.074412</td>\n",
              "      <td>-0.039493</td>\n",
              "      <td>-0.068330</td>\n",
              "      <td>-0.092204</td>\n",
              "    </tr>\n",
              "    <tr>\n",
              "      <th>2</th>\n",
              "      <td>0.085299</td>\n",
              "      <td>0.050680</td>\n",
              "      <td>0.044451</td>\n",
              "      <td>-0.005671</td>\n",
              "      <td>-0.045599</td>\n",
              "      <td>-0.034194</td>\n",
              "      <td>-0.032356</td>\n",
              "      <td>-0.002592</td>\n",
              "      <td>0.002864</td>\n",
              "      <td>-0.025930</td>\n",
              "    </tr>\n",
              "    <tr>\n",
              "      <th>3</th>\n",
              "      <td>-0.089063</td>\n",
              "      <td>-0.044642</td>\n",
              "      <td>-0.011595</td>\n",
              "      <td>-0.036656</td>\n",
              "      <td>0.012191</td>\n",
              "      <td>0.024991</td>\n",
              "      <td>-0.036038</td>\n",
              "      <td>0.034309</td>\n",
              "      <td>0.022692</td>\n",
              "      <td>-0.009362</td>\n",
              "    </tr>\n",
              "    <tr>\n",
              "      <th>4</th>\n",
              "      <td>0.005383</td>\n",
              "      <td>-0.044642</td>\n",
              "      <td>-0.036385</td>\n",
              "      <td>0.021872</td>\n",
              "      <td>0.003935</td>\n",
              "      <td>0.015596</td>\n",
              "      <td>0.008142</td>\n",
              "      <td>-0.002592</td>\n",
              "      <td>-0.031991</td>\n",
              "      <td>-0.046641</td>\n",
              "    </tr>\n",
              "  </tbody>\n",
              "</table>\n",
              "</div>\n",
              "      <button class=\"colab-df-convert\" onclick=\"convertToInteractive('df-9f0116ca-addd-4303-ad5b-b6ca15175e3d')\"\n",
              "              title=\"Convert this dataframe to an interactive table.\"\n",
              "              style=\"display:none;\">\n",
              "        \n",
              "  <svg xmlns=\"http://www.w3.org/2000/svg\" height=\"24px\"viewBox=\"0 0 24 24\"\n",
              "       width=\"24px\">\n",
              "    <path d=\"M0 0h24v24H0V0z\" fill=\"none\"/>\n",
              "    <path d=\"M18.56 5.44l.94 2.06.94-2.06 2.06-.94-2.06-.94-.94-2.06-.94 2.06-2.06.94zm-11 1L8.5 8.5l.94-2.06 2.06-.94-2.06-.94L8.5 2.5l-.94 2.06-2.06.94zm10 10l.94 2.06.94-2.06 2.06-.94-2.06-.94-.94-2.06-.94 2.06-2.06.94z\"/><path d=\"M17.41 7.96l-1.37-1.37c-.4-.4-.92-.59-1.43-.59-.52 0-1.04.2-1.43.59L10.3 9.45l-7.72 7.72c-.78.78-.78 2.05 0 2.83L4 21.41c.39.39.9.59 1.41.59.51 0 1.02-.2 1.41-.59l7.78-7.78 2.81-2.81c.8-.78.8-2.07 0-2.86zM5.41 20L4 18.59l7.72-7.72 1.47 1.35L5.41 20z\"/>\n",
              "  </svg>\n",
              "      </button>\n",
              "      \n",
              "  <style>\n",
              "    .colab-df-container {\n",
              "      display:flex;\n",
              "      flex-wrap:wrap;\n",
              "      gap: 12px;\n",
              "    }\n",
              "\n",
              "    .colab-df-convert {\n",
              "      background-color: #E8F0FE;\n",
              "      border: none;\n",
              "      border-radius: 50%;\n",
              "      cursor: pointer;\n",
              "      display: none;\n",
              "      fill: #1967D2;\n",
              "      height: 32px;\n",
              "      padding: 0 0 0 0;\n",
              "      width: 32px;\n",
              "    }\n",
              "\n",
              "    .colab-df-convert:hover {\n",
              "      background-color: #E2EBFA;\n",
              "      box-shadow: 0px 1px 2px rgba(60, 64, 67, 0.3), 0px 1px 3px 1px rgba(60, 64, 67, 0.15);\n",
              "      fill: #174EA6;\n",
              "    }\n",
              "\n",
              "    [theme=dark] .colab-df-convert {\n",
              "      background-color: #3B4455;\n",
              "      fill: #D2E3FC;\n",
              "    }\n",
              "\n",
              "    [theme=dark] .colab-df-convert:hover {\n",
              "      background-color: #434B5C;\n",
              "      box-shadow: 0px 1px 3px 1px rgba(0, 0, 0, 0.15);\n",
              "      filter: drop-shadow(0px 1px 2px rgba(0, 0, 0, 0.3));\n",
              "      fill: #FFFFFF;\n",
              "    }\n",
              "  </style>\n",
              "\n",
              "      <script>\n",
              "        const buttonEl =\n",
              "          document.querySelector('#df-9f0116ca-addd-4303-ad5b-b6ca15175e3d button.colab-df-convert');\n",
              "        buttonEl.style.display =\n",
              "          google.colab.kernel.accessAllowed ? 'block' : 'none';\n",
              "\n",
              "        async function convertToInteractive(key) {\n",
              "          const element = document.querySelector('#df-9f0116ca-addd-4303-ad5b-b6ca15175e3d');\n",
              "          const dataTable =\n",
              "            await google.colab.kernel.invokeFunction('convertToInteractive',\n",
              "                                                     [key], {});\n",
              "          if (!dataTable) return;\n",
              "\n",
              "          const docLinkHtml = 'Like what you see? Visit the ' +\n",
              "            '<a target=\"_blank\" href=https://colab.research.google.com/notebooks/data_table.ipynb>data table notebook</a>'\n",
              "            + ' to learn more about interactive tables.';\n",
              "          element.innerHTML = '';\n",
              "          dataTable['output_type'] = 'display_data';\n",
              "          await google.colab.output.renderOutput(dataTable, element);\n",
              "          const docLink = document.createElement('div');\n",
              "          docLink.innerHTML = docLinkHtml;\n",
              "          element.appendChild(docLink);\n",
              "        }\n",
              "      </script>\n",
              "    </div>\n",
              "  </div>\n",
              "  "
            ]
          },
          "metadata": {},
          "execution_count": 15
        }
      ]
    },
    {
      "cell_type": "code",
      "source": [
        "# select bmi and s4 colums, transform to np.array and reshape to (n_samples, n_features)\n",
        "# now we have the so-called vector of features \n",
        "X = diabetes_X_df[[\"bmi\", \"s4\"]].to_numpy().reshape(-1, 2)\n",
        "print(X.shape)"
      ],
      "metadata": {
        "colab": {
          "base_uri": "https://localhost:8080/"
        },
        "id": "SJ_cFgtpgqsG",
        "outputId": "a964665f-0927-4876-85cf-36b7eb7301d1"
      },
      "execution_count": null,
      "outputs": [
        {
          "output_type": "stream",
          "name": "stdout",
          "text": [
            "(442, 2)\n"
          ]
        }
      ]
    },
    {
      "cell_type": "code",
      "source": [
        "# transform target set to np.array and ensure the shape (n_samples)\n",
        "y = diabetes_y_df.to_numpy()\n",
        "print(y.shape)"
      ],
      "metadata": {
        "colab": {
          "base_uri": "https://localhost:8080/"
        },
        "id": "xL2Nl0tUg18-",
        "outputId": "fd1aecd3-71e1-4c08-bdbe-c14d9d7a443a"
      },
      "execution_count": null,
      "outputs": [
        {
          "output_type": "stream",
          "name": "stdout",
          "text": [
            "(442,)\n"
          ]
        }
      ]
    },
    {
      "cell_type": "markdown",
      "source": [
        "### Train-test split"
      ],
      "metadata": {
        "id": "pwTevc1PjfK4"
      }
    },
    {
      "cell_type": "code",
      "source": [
        "# to ensure repeatability of splits, we set the random state\n",
        "X_train, X_test, y_train, y_test = train_test_split(X, y, test_size=0.2, random_state=42)"
      ],
      "metadata": {
        "id": "e-kDCEKhhEry"
      },
      "execution_count": null,
      "outputs": []
    },
    {
      "cell_type": "code",
      "source": [
        "print(f\"Shape of the X train dataset: {X_train.shape}\")\n",
        "print(f\"Shape of the X test dataset: {X_test.shape}\")\n",
        "print(f\"Shape of the y train dataset: {y_train.shape}\")\n",
        "print(f\"Shape of the y test dataset: {y_test.shape}\")"
      ],
      "metadata": {
        "colab": {
          "base_uri": "https://localhost:8080/"
        },
        "id": "kyRRargdkYnV",
        "outputId": "daf76d2e-695c-4e84-d59e-ca5dc53fd20f"
      },
      "execution_count": null,
      "outputs": [
        {
          "output_type": "stream",
          "name": "stdout",
          "text": [
            "Shape of the X train dataset: (353, 2)\n",
            "Shape of the X test dataset: (89, 2)\n",
            "Shape of the y train dataset: (353,)\n",
            "Shape of the y test dataset: (89,)\n"
          ]
        }
      ]
    },
    {
      "cell_type": "markdown",
      "source": [
        "## Fit the model"
      ],
      "metadata": {
        "id": "HvJ6Mf3OaS9c"
      }
    },
    {
      "cell_type": "code",
      "source": [
        "# create model object\n",
        "lin_regressor = linear_model.LinearRegression()\n",
        "lin_regressor"
      ],
      "metadata": {
        "colab": {
          "base_uri": "https://localhost:8080/"
        },
        "id": "9_DH1Rs_dH6L",
        "outputId": "303e5bd9-834d-4b06-90ca-e3bb780c7fec"
      },
      "execution_count": null,
      "outputs": [
        {
          "output_type": "execute_result",
          "data": {
            "text/plain": [
              "LinearRegression()"
            ]
          },
          "metadata": {},
          "execution_count": 14
        }
      ]
    },
    {
      "cell_type": "code",
      "source": [
        "lin_regressor.fit(X_train, y_train)"
      ],
      "metadata": {
        "id": "JxoptoQCdgMW",
        "colab": {
          "base_uri": "https://localhost:8080/"
        },
        "outputId": "b4c4e1da-38b4-42fd-a991-fe4ab69a0263"
      },
      "execution_count": null,
      "outputs": [
        {
          "output_type": "execute_result",
          "data": {
            "text/plain": [
              "LinearRegression()"
            ]
          },
          "metadata": {},
          "execution_count": 15
        }
      ]
    },
    {
      "cell_type": "markdown",
      "source": [
        "## Test model"
      ],
      "metadata": {
        "id": "6VXDTxRzl6W_"
      }
    },
    {
      "cell_type": "markdown",
      "source": [
        "Predict progression of diabetes based on unseen BMI and cholesterol measurements observations from the test sets with [`predict()`](https://scikit-learn.org/stable/modules/generated/sklearn.linear_model.LinearRegression.html#sklearn.linear_model.LinearRegression.predict) method:"
      ],
      "metadata": {
        "id": "3mHlv6-mlaJP"
      }
    },
    {
      "cell_type": "code",
      "source": [
        "diabetes_y_pred = lin_regressor.predict(X_test)"
      ],
      "metadata": {
        "id": "6YLdozDUk2yj"
      },
      "execution_count": null,
      "outputs": []
    },
    {
      "cell_type": "markdown",
      "source": [
        "Calculate $R^2$, $MAE$ and $MSE$"
      ],
      "metadata": {
        "id": "UXVrXSH5mVfr"
      }
    },
    {
      "cell_type": "code",
      "source": [
        "# The coefficient of determination: 1 is perfect prediction\n",
        "print(f\"Coefficient of determination: {r2_score(y_test, diabetes_y_pred)}\")"
      ],
      "metadata": {
        "colab": {
          "base_uri": "https://localhost:8080/"
        },
        "id": "UFbobfxsl9wz",
        "outputId": "38c179f5-9f9a-4045-ac95-b15999c6771d"
      },
      "execution_count": null,
      "outputs": [
        {
          "output_type": "stream",
          "name": "stdout",
          "text": [
            "Coefficient of determination: 0.31774842514376833\n"
          ]
        }
      ]
    },
    {
      "cell_type": "code",
      "source": [
        "# The mean absolute error\n",
        "print(f\"Mean absolute error: {mean_absolute_error(y_test, diabetes_y_pred)}\")"
      ],
      "metadata": {
        "colab": {
          "base_uri": "https://localhost:8080/"
        },
        "id": "C-20T6eTnc1F",
        "outputId": "954b7989-9d63-4e7d-f35a-04de7252dbd4"
      },
      "execution_count": null,
      "outputs": [
        {
          "output_type": "stream",
          "name": "stdout",
          "text": [
            "Mean absolute error: 48.611188894928354\n"
          ]
        }
      ]
    },
    {
      "cell_type": "code",
      "source": [
        "# The mean squared error\n",
        "print(f\"Mean squared error: {mean_squared_error(y_test, diabetes_y_pred)}\")"
      ],
      "metadata": {
        "colab": {
          "base_uri": "https://localhost:8080/"
        },
        "id": "XT39f7rcna2O",
        "outputId": "fa117363-4135-45bf-be8a-a1094fc258d8"
      },
      "execution_count": null,
      "outputs": [
        {
          "output_type": "stream",
          "name": "stdout",
          "text": [
            "Mean squared error: 3614.6723742527483\n"
          ]
        }
      ]
    },
    {
      "cell_type": "markdown",
      "source": [
        "It's impossible to interpret $MAE$ and $MSE$ scores standalone. As they reflect the units of data being analysed, we can check mean and standard deviation of target data, to compare $MAE$ and $MSE$ scores with properties of target set."
      ],
      "metadata": {
        "id": "hVh48a-en0Bm"
      }
    },
    {
      "cell_type": "code",
      "source": [
        "print(f\"Mean progression of diabets: {np.mean(diabetes_y_pred)}\")\n",
        "print(f\"One standard deviation of progression of diabets: {np.std(diabetes_y_pred)}\")\n",
        "print(f\"Squared standard deviation of progression of diabets: {np.std(diabetes_y_pred)**2}\")"
      ],
      "metadata": {
        "colab": {
          "base_uri": "https://localhost:8080/"
        },
        "id": "M4zPtG_soMeg",
        "outputId": "a0546004-edd2-4994-ccbe-4267c9a0b75d"
      },
      "execution_count": null,
      "outputs": [
        {
          "output_type": "stream",
          "name": "stdout",
          "text": [
            "Mean progression of diabets: 145.75100136464567\n",
            "One standard deviation of progression of diabets: 48.893707215464815\n",
            "Squared standard deviation of progression of diabets: 2390.5946052715963\n"
          ]
        }
      ]
    },
    {
      "cell_type": "markdown",
      "source": [
        "Quite clearly, our model is better at predicting diabetes progression - all of our metrics are better compared to a simple linear regression.\n",
        "\n",
        "* $R^2$ increase from $23\\%$ to $32\\%$, \n",
        "* $MAE$ droped from $52$ to $48$, so now it is within $1$ $STD$."
      ],
      "metadata": {
        "id": "82GzHHwYp5_n"
      }
    },
    {
      "cell_type": "markdown",
      "source": [
        "## Plot results"
      ],
      "metadata": {
        "id": "C1kY9TI_nr6b"
      }
    },
    {
      "cell_type": "markdown",
      "source": [
        "Put data into df. Mind, that our feature vector now has 2 variables: bmi and cholesterol level. We're going to split those joined observations into separate colums."
      ],
      "metadata": {
        "id": "CbpMZcxvtesS"
      }
    },
    {
      "cell_type": "code",
      "source": [
        "prediction_results_df = pd.DataFrame({ \n",
        "    \"X_bmi\": X_test[:,0],\n",
        "    \"X_cholesterol\": X_test[:,1],\n",
        "    \"y_real\": y_test,\n",
        "    \"y_pred\": diabetes_y_pred,   \n",
        "})\n",
        "\n",
        "prediction_results_df.head()"
      ],
      "metadata": {
        "colab": {
          "base_uri": "https://localhost:8080/",
          "height": 206
        },
        "id": "E5IekvizteAB",
        "outputId": "e28366b5-8b98-4ff3-ad75-383e39f436d8"
      },
      "execution_count": null,
      "outputs": [
        {
          "output_type": "execute_result",
          "data": {
            "text/plain": [
              "      X_bmi  X_cholesterol  y_real      y_pred\n",
              "0 -0.006206       0.034309   219.0  158.142522\n",
              "1  0.036907      -0.039493    70.0  170.648419\n",
              "2 -0.004050      -0.002592   202.0  147.810965\n",
              "3  0.051996       0.141322   230.0  243.201451\n",
              "4 -0.020218       0.034309   111.0  146.164823"
            ],
            "text/html": [
              "\n",
              "  <div id=\"df-4e04be78-5264-4d02-88f4-b07901a35fcc\">\n",
              "    <div class=\"colab-df-container\">\n",
              "      <div>\n",
              "<style scoped>\n",
              "    .dataframe tbody tr th:only-of-type {\n",
              "        vertical-align: middle;\n",
              "    }\n",
              "\n",
              "    .dataframe tbody tr th {\n",
              "        vertical-align: top;\n",
              "    }\n",
              "\n",
              "    .dataframe thead th {\n",
              "        text-align: right;\n",
              "    }\n",
              "</style>\n",
              "<table border=\"1\" class=\"dataframe\">\n",
              "  <thead>\n",
              "    <tr style=\"text-align: right;\">\n",
              "      <th></th>\n",
              "      <th>X_bmi</th>\n",
              "      <th>X_cholesterol</th>\n",
              "      <th>y_real</th>\n",
              "      <th>y_pred</th>\n",
              "    </tr>\n",
              "  </thead>\n",
              "  <tbody>\n",
              "    <tr>\n",
              "      <th>0</th>\n",
              "      <td>-0.006206</td>\n",
              "      <td>0.034309</td>\n",
              "      <td>219.0</td>\n",
              "      <td>158.142522</td>\n",
              "    </tr>\n",
              "    <tr>\n",
              "      <th>1</th>\n",
              "      <td>0.036907</td>\n",
              "      <td>-0.039493</td>\n",
              "      <td>70.0</td>\n",
              "      <td>170.648419</td>\n",
              "    </tr>\n",
              "    <tr>\n",
              "      <th>2</th>\n",
              "      <td>-0.004050</td>\n",
              "      <td>-0.002592</td>\n",
              "      <td>202.0</td>\n",
              "      <td>147.810965</td>\n",
              "    </tr>\n",
              "    <tr>\n",
              "      <th>3</th>\n",
              "      <td>0.051996</td>\n",
              "      <td>0.141322</td>\n",
              "      <td>230.0</td>\n",
              "      <td>243.201451</td>\n",
              "    </tr>\n",
              "    <tr>\n",
              "      <th>4</th>\n",
              "      <td>-0.020218</td>\n",
              "      <td>0.034309</td>\n",
              "      <td>111.0</td>\n",
              "      <td>146.164823</td>\n",
              "    </tr>\n",
              "  </tbody>\n",
              "</table>\n",
              "</div>\n",
              "      <button class=\"colab-df-convert\" onclick=\"convertToInteractive('df-4e04be78-5264-4d02-88f4-b07901a35fcc')\"\n",
              "              title=\"Convert this dataframe to an interactive table.\"\n",
              "              style=\"display:none;\">\n",
              "        \n",
              "  <svg xmlns=\"http://www.w3.org/2000/svg\" height=\"24px\"viewBox=\"0 0 24 24\"\n",
              "       width=\"24px\">\n",
              "    <path d=\"M0 0h24v24H0V0z\" fill=\"none\"/>\n",
              "    <path d=\"M18.56 5.44l.94 2.06.94-2.06 2.06-.94-2.06-.94-.94-2.06-.94 2.06-2.06.94zm-11 1L8.5 8.5l.94-2.06 2.06-.94-2.06-.94L8.5 2.5l-.94 2.06-2.06.94zm10 10l.94 2.06.94-2.06 2.06-.94-2.06-.94-.94-2.06-.94 2.06-2.06.94z\"/><path d=\"M17.41 7.96l-1.37-1.37c-.4-.4-.92-.59-1.43-.59-.52 0-1.04.2-1.43.59L10.3 9.45l-7.72 7.72c-.78.78-.78 2.05 0 2.83L4 21.41c.39.39.9.59 1.41.59.51 0 1.02-.2 1.41-.59l7.78-7.78 2.81-2.81c.8-.78.8-2.07 0-2.86zM5.41 20L4 18.59l7.72-7.72 1.47 1.35L5.41 20z\"/>\n",
              "  </svg>\n",
              "      </button>\n",
              "      \n",
              "  <style>\n",
              "    .colab-df-container {\n",
              "      display:flex;\n",
              "      flex-wrap:wrap;\n",
              "      gap: 12px;\n",
              "    }\n",
              "\n",
              "    .colab-df-convert {\n",
              "      background-color: #E8F0FE;\n",
              "      border: none;\n",
              "      border-radius: 50%;\n",
              "      cursor: pointer;\n",
              "      display: none;\n",
              "      fill: #1967D2;\n",
              "      height: 32px;\n",
              "      padding: 0 0 0 0;\n",
              "      width: 32px;\n",
              "    }\n",
              "\n",
              "    .colab-df-convert:hover {\n",
              "      background-color: #E2EBFA;\n",
              "      box-shadow: 0px 1px 2px rgba(60, 64, 67, 0.3), 0px 1px 3px 1px rgba(60, 64, 67, 0.15);\n",
              "      fill: #174EA6;\n",
              "    }\n",
              "\n",
              "    [theme=dark] .colab-df-convert {\n",
              "      background-color: #3B4455;\n",
              "      fill: #D2E3FC;\n",
              "    }\n",
              "\n",
              "    [theme=dark] .colab-df-convert:hover {\n",
              "      background-color: #434B5C;\n",
              "      box-shadow: 0px 1px 3px 1px rgba(0, 0, 0, 0.15);\n",
              "      filter: drop-shadow(0px 1px 2px rgba(0, 0, 0, 0.3));\n",
              "      fill: #FFFFFF;\n",
              "    }\n",
              "  </style>\n",
              "\n",
              "      <script>\n",
              "        const buttonEl =\n",
              "          document.querySelector('#df-4e04be78-5264-4d02-88f4-b07901a35fcc button.colab-df-convert');\n",
              "        buttonEl.style.display =\n",
              "          google.colab.kernel.accessAllowed ? 'block' : 'none';\n",
              "\n",
              "        async function convertToInteractive(key) {\n",
              "          const element = document.querySelector('#df-4e04be78-5264-4d02-88f4-b07901a35fcc');\n",
              "          const dataTable =\n",
              "            await google.colab.kernel.invokeFunction('convertToInteractive',\n",
              "                                                     [key], {});\n",
              "          if (!dataTable) return;\n",
              "\n",
              "          const docLinkHtml = 'Like what you see? Visit the ' +\n",
              "            '<a target=\"_blank\" href=https://colab.research.google.com/notebooks/data_table.ipynb>data table notebook</a>'\n",
              "            + ' to learn more about interactive tables.';\n",
              "          element.innerHTML = '';\n",
              "          dataTable['output_type'] = 'display_data';\n",
              "          await google.colab.output.renderOutput(dataTable, element);\n",
              "          const docLink = document.createElement('div');\n",
              "          docLink.innerHTML = docLinkHtml;\n",
              "          element.appendChild(docLink);\n",
              "        }\n",
              "      </script>\n",
              "    </div>\n",
              "  </div>\n",
              "  "
            ]
          },
          "metadata": {},
          "execution_count": 21
        }
      ]
    },
    {
      "cell_type": "markdown",
      "source": [
        "Plot predicted vs real data.\n",
        "\n",
        "3D plotting doesn't have to bo so complicated as coded below - nonetheless Google Colab does not support interactive `matplotlib` (and therefore `seaborn`) plots. Thus, 3D plot below is generated using [`plotly`](https://plotly.com/python/) library.\n"
      ],
      "metadata": {
        "id": "Y12qLjNnynS3"
      }
    },
    {
      "cell_type": "code",
      "source": [
        "# create scatter plot with observed data\n",
        "\n",
        "trace1 = go.Scatter3d(x=prediction_results_df['X_bmi'].to_numpy(), \n",
        "                      y=prediction_results_df['X_cholesterol'].to_numpy(), \n",
        "                      z=prediction_results_df['y_real'].to_numpy(),\n",
        "                      mode='markers',\n",
        "                      marker=dict(\n",
        "                          size=12,\n",
        "                          color=['pink']*len(prediction_results_df['X_bmi'].to_numpy()),                # set color to an array/list of desired values\n",
        "                      ),\n",
        "                      name = \"Observed data\"\n",
        "                      )\n",
        "\n",
        "# create surface plot with predicted data\n",
        "trace2 = go.Mesh3d(x=prediction_results_df['X_bmi'].to_numpy(), \n",
        "                      y=prediction_results_df['X_cholesterol'].to_numpy(), \n",
        "                      z=prediction_results_df['y_pred'].to_numpy(),\n",
        "                      opacity = 0.8,\n",
        "                      color='purple' ,\n",
        "                      name=\"Regression line\"\n",
        "                      )\n",
        "\n",
        "# add plots to figure to be drawn\n",
        "fig = go.Figure(data=[\n",
        "        trace1,\n",
        "        trace2])\n",
        "\n",
        "# change axes labels\n",
        "fig.update_layout(\n",
        "    scene = dict(\n",
        "        xaxis_title='BMI',\n",
        "        yaxis_title='Cholesterol',\n",
        "        zaxis_title='Diabetes Progression')\n",
        ")\n",
        "\n",
        "# plot figure\n",
        "fig.show()"
      ],
      "metadata": {
        "colab": {
          "base_uri": "https://localhost:8080/",
          "height": 542
        },
        "id": "R-XpbPTaI9sC",
        "outputId": "4673c079-f8b5-4263-f59f-ecd7cf260a79"
      },
      "execution_count": null,
      "outputs": [
        {
          "output_type": "display_data",
          "data": {
            "text/html": [
              "<html>\n",
              "<head><meta charset=\"utf-8\" /></head>\n",
              "<body>\n",
              "    <div>            <script src=\"https://cdnjs.cloudflare.com/ajax/libs/mathjax/2.7.5/MathJax.js?config=TeX-AMS-MML_SVG\"></script><script type=\"text/javascript\">if (window.MathJax) {MathJax.Hub.Config({SVG: {font: \"STIX-Web\"}});}</script>                <script type=\"text/javascript\">window.PlotlyConfig = {MathJaxConfig: 'local'};</script>\n",
              "        <script src=\"https://cdn.plot.ly/plotly-2.8.3.min.js\"></script>                <div id=\"c3188205-c4cc-4d9c-8ea8-e2cb3fbfa584\" class=\"plotly-graph-div\" style=\"height:525px; width:100%;\"></div>            <script type=\"text/javascript\">                                    window.PLOTLYENV=window.PLOTLYENV || {};                                    if (document.getElementById(\"c3188205-c4cc-4d9c-8ea8-e2cb3fbfa584\")) {                    Plotly.newPlot(                        \"c3188205-c4cc-4d9c-8ea8-e2cb3fbfa584\",                        [{\"marker\":{\"color\":[\"pink\",\"pink\",\"pink\",\"pink\",\"pink\",\"pink\",\"pink\",\"pink\",\"pink\",\"pink\",\"pink\",\"pink\",\"pink\",\"pink\",\"pink\",\"pink\",\"pink\",\"pink\",\"pink\",\"pink\",\"pink\",\"pink\",\"pink\",\"pink\",\"pink\",\"pink\",\"pink\",\"pink\",\"pink\",\"pink\",\"pink\",\"pink\",\"pink\",\"pink\",\"pink\",\"pink\",\"pink\",\"pink\",\"pink\",\"pink\",\"pink\",\"pink\",\"pink\",\"pink\",\"pink\",\"pink\",\"pink\",\"pink\",\"pink\",\"pink\",\"pink\",\"pink\",\"pink\",\"pink\",\"pink\",\"pink\",\"pink\",\"pink\",\"pink\",\"pink\",\"pink\",\"pink\",\"pink\",\"pink\",\"pink\",\"pink\",\"pink\",\"pink\",\"pink\",\"pink\",\"pink\",\"pink\",\"pink\",\"pink\",\"pink\",\"pink\",\"pink\",\"pink\",\"pink\",\"pink\",\"pink\",\"pink\",\"pink\",\"pink\",\"pink\",\"pink\",\"pink\",\"pink\",\"pink\"],\"size\":12},\"mode\":\"markers\",\"name\":\"Observed data\",\"x\":[-0.00620595413580824,0.0369065288194278,-0.00405032998804645,0.0519958978537604,-0.02021751109626,-0.0245287593917836,0.17055522598066,0.045529025410475,-0.0902752958985185,0.0153502873418098,-0.0331512559828308,-0.0579409336820915,-0.0611743699037342,0.0142724752679289,-0.0557853095343297,0.00564997867688165,0.0713965151836166,0.088641508365711,0.0282840322283806,0.0584627702970458,0.0390621529671896,-0.0428515646477589,-0.0493184370910443,0.0228949718589761,0.0444512133365941,0.0142724752679289,0.0595405823709267,-0.0180618869484982,-0.074108114790305,-0.0212953231701409,0.0929527566612346,-0.0374625042783544,0.0142724752679289,-0.00620595413580824,0.0401399650410705,0.077863387626902,-0.030995631835069,-0.0331512559828308,-0.030995631835069,-0.0579409336820915,-0.0697968664947814,-0.0299178197611881,-0.0223731352440218,-0.0331512559828308,-0.0450071887955207,-0.0353068801305926,-0.0363846922044735,-0.0503962491649252,-0.084886235529114,0.00133873038135806,0.0584627702970458,-0.0697968664947814,0.0175059114895716,-0.0406959404999971,-0.0180618869484982,0.0649296427403312,-0.0460850008694016,0.0616962065186885,-0.0180618869484982,-0.0547074974604488,0.0304396563761424,0.0412177771149514,0.0541515220015222,-0.0450071887955207,-0.0654856181992578,0.0185837235634525,-0.0115950145052127,-0.0245287593917836,-0.0342290680567117,-0.0126728265790937,-0.0180618869484982,0.0304396563761424,-0.0212953231701409,-0.0105172024313319,-0.0611743699037342,-0.0396181284261162,0.0606183944448076,0.0390621529671896,0.0196615356373334,-0.02021751109626,-0.00405032998804645,-0.0115950145052127,-0.064407806125377,-0.0600965578298533,-0.0654856181992578,-0.0256065714656645,-0.063329994051496,-0.0697968664947814,0.0358287167455469],\"y\":[0.0343088588777263,-0.0394933828740919,-0.00259226199818282,0.141322109417863,0.0343088588777263,-0.00259226199818282,0.0343088588777263,0.0343088588777263,-0.00259226199818282,-0.00259226199818282,-0.0247329345237283,-0.00259226199818282,-0.076394503750001,0.0343088588777263,-0.0394933828740919,-0.0394933828740919,0.0343088588777263,0.0712099797536354,-0.047980640675551,0.0343088588777263,-0.00259226199818282,-0.00259226199818282,-0.0394933828740919,-0.00259226199818282,-0.0394933828740919,-0.00259226199818282,-0.00259226199818282,0.0343088588777263,-0.076394503750001,-0.00259226199818282,0.021024455362399,-0.00259226199818282,-0.00259226199818282,0.0343088588777263,0.0361539149215217,-0.00259226199818282,-0.00259226199818282,0.0199174217361217,0.0343088588777263,-0.0394933828740919,-0.0394933828740919,-0.0505637191368646,-0.00259226199818282,0.0712099797536354,-0.0144006206784737,-0.0394933828740919,-0.0394933828740919,-0.076394503750001,-0.0516707527631419,-0.00259226199818282,-0.076394503750001,-0.0394933828740919,0.0712099797536354,-0.0394933828740919,0.108111100629544,-0.0394933828740919,-0.00259226199818282,-0.00259226199818282,-0.0394933828740919,-0.076394503750001,0.0712099797536354,0.00294290613320356,-0.0394933828740919,-0.0394933828740919,0.0343088588777263,-0.00259226199818282,0.0712099797536354,-0.00259226199818282,-0.0394933828740919,0.0343088588777263,0.0343088588777263,0.0712099797536354,0.0712099797536354,0.0158582984397717,-0.0394933828740919,0.108111100629544,0.0343088588777263,0.0265596234937854,-0.00259226199818282,0.108111100629544,-0.0394933828740919,-0.0394933828740919,-0.0472426182580328,-0.0394933828740919,-0.0394933828740919,-0.076394503750001,-0.076394503750001,-0.0394933828740919,-0.00259226199818282],\"z\":[219.0,70.0,202.0,230.0,111.0,84.0,242.0,272.0,94.0,96.0,94.0,252.0,99.0,297.0,135.0,67.0,295.0,264.0,170.0,275.0,310.0,64.0,128.0,232.0,129.0,118.0,263.0,77.0,48.0,107.0,140.0,113.0,90.0,164.0,180.0,233.0,42.0,84.0,172.0,63.0,48.0,108.0,156.0,168.0,90.0,52.0,200.0,87.0,90.0,258.0,136.0,158.0,69.0,72.0,171.0,95.0,72.0,151.0,168.0,60.0,122.0,52.0,187.0,102.0,214.0,248.0,181.0,110.0,140.0,202.0,101.0,222.0,281.0,61.0,89.0,91.0,186.0,220.0,237.0,233.0,68.0,190.0,96.0,72.0,153.0,98.0,37.0,63.0,184.0],\"type\":\"scatter3d\"},{\"color\":\"purple\",\"name\":\"Regression line\",\"opacity\":0.8,\"x\":[-0.00620595413580824,0.0369065288194278,-0.00405032998804645,0.0519958978537604,-0.02021751109626,-0.0245287593917836,0.17055522598066,0.045529025410475,-0.0902752958985185,0.0153502873418098,-0.0331512559828308,-0.0579409336820915,-0.0611743699037342,0.0142724752679289,-0.0557853095343297,0.00564997867688165,0.0713965151836166,0.088641508365711,0.0282840322283806,0.0584627702970458,0.0390621529671896,-0.0428515646477589,-0.0493184370910443,0.0228949718589761,0.0444512133365941,0.0142724752679289,0.0595405823709267,-0.0180618869484982,-0.074108114790305,-0.0212953231701409,0.0929527566612346,-0.0374625042783544,0.0142724752679289,-0.00620595413580824,0.0401399650410705,0.077863387626902,-0.030995631835069,-0.0331512559828308,-0.030995631835069,-0.0579409336820915,-0.0697968664947814,-0.0299178197611881,-0.0223731352440218,-0.0331512559828308,-0.0450071887955207,-0.0353068801305926,-0.0363846922044735,-0.0503962491649252,-0.084886235529114,0.00133873038135806,0.0584627702970458,-0.0697968664947814,0.0175059114895716,-0.0406959404999971,-0.0180618869484982,0.0649296427403312,-0.0460850008694016,0.0616962065186885,-0.0180618869484982,-0.0547074974604488,0.0304396563761424,0.0412177771149514,0.0541515220015222,-0.0450071887955207,-0.0654856181992578,0.0185837235634525,-0.0115950145052127,-0.0245287593917836,-0.0342290680567117,-0.0126728265790937,-0.0180618869484982,0.0304396563761424,-0.0212953231701409,-0.0105172024313319,-0.0611743699037342,-0.0396181284261162,0.0606183944448076,0.0390621529671896,0.0196615356373334,-0.02021751109626,-0.00405032998804645,-0.0115950145052127,-0.064407806125377,-0.0600965578298533,-0.0654856181992578,-0.0256065714656645,-0.063329994051496,-0.0697968664947814,0.0358287167455469],\"y\":[0.0343088588777263,-0.0394933828740919,-0.00259226199818282,0.141322109417863,0.0343088588777263,-0.00259226199818282,0.0343088588777263,0.0343088588777263,-0.00259226199818282,-0.00259226199818282,-0.0247329345237283,-0.00259226199818282,-0.076394503750001,0.0343088588777263,-0.0394933828740919,-0.0394933828740919,0.0343088588777263,0.0712099797536354,-0.047980640675551,0.0343088588777263,-0.00259226199818282,-0.00259226199818282,-0.0394933828740919,-0.00259226199818282,-0.0394933828740919,-0.00259226199818282,-0.00259226199818282,0.0343088588777263,-0.076394503750001,-0.00259226199818282,0.021024455362399,-0.00259226199818282,-0.00259226199818282,0.0343088588777263,0.0361539149215217,-0.00259226199818282,-0.00259226199818282,0.0199174217361217,0.0343088588777263,-0.0394933828740919,-0.0394933828740919,-0.0505637191368646,-0.00259226199818282,0.0712099797536354,-0.0144006206784737,-0.0394933828740919,-0.0394933828740919,-0.076394503750001,-0.0516707527631419,-0.00259226199818282,-0.076394503750001,-0.0394933828740919,0.0712099797536354,-0.0394933828740919,0.108111100629544,-0.0394933828740919,-0.00259226199818282,-0.00259226199818282,-0.0394933828740919,-0.076394503750001,0.0712099797536354,0.00294290613320356,-0.0394933828740919,-0.0394933828740919,0.0343088588777263,-0.00259226199818282,0.0712099797536354,-0.00259226199818282,-0.0394933828740919,0.0343088588777263,0.0343088588777263,0.0712099797536354,0.0712099797536354,0.0158582984397717,-0.0394933828740919,0.108111100629544,0.0343088588777263,0.0265596234937854,-0.00259226199818282,0.108111100629544,-0.0394933828740919,-0.0394933828740919,-0.0472426182580328,-0.0394933828740919,-0.0394933828740919,-0.076394503750001,-0.076394503750001,-0.0394933828740919,-0.00259226199818282],\"z\":[158.14252166878222,170.64841938962374,147.810964673354,243.2014508544003,146.1648229951135,130.30509738106892,309.24579724429566,202.36787061771287,74.10204975846962,164.395470529203,115.62963796860026,101.74289285155125,74.6302488056424,175.6483889610673,91.41133585612302,143.9289377329781,224.48054509217815,251.39660794345536,160.47744352842622,213.4242078549455,184.66542213079617,114.641952961656,96.93950447473934,170.8450005842554,177.09794944467612,163.47410909276695,202.17128942308122,148.00754586798558,63.57391156840974,133.06918169037706,238.5250330683111,119.24876014383626,163.47410909276695,158.14252166878222,198.3697774289476,217.83443384249412,124.7769287624526,130.3605166092437,136.95120863075294,89.5686129832509,79.43363718245432,109.8717263700982,132.147820253941,147.28276562618117,108.90346053092779,108.91720314840803,107.99584171197199,83.84386317000293,62.517064715810434,152.41777185553426,176.90136825004447,79.43363718245432,190.58675313867582,104.31039596622777,172.35610560458613,194.60381673696114,111.87786865234784,204.0140122959533,123.65898613138489,80.15841742425872,201.64309037590846,188.33428698391336,185.39020237260058,100.62495022048356,107.46764266479923,167.15955483851116,165.70999435490234,130.30509738106892,109.8385645848441,152.61435305016587,148.00754586798558,201.64309037590846,157.41774142697778,148.3699359888878,86.80452867394274,153.92887687586506,215.26693072781762,194.28310322675347,168.0809162749472,170.51338273171402,135.63668480505365,129.1871547500013,81.48384559229143,87.7258901103788,83.11908292819852,105.03517620803217,72.78752593277028,79.43363718245432,181.90133782148803],\"type\":\"mesh3d\"}],                        {\"template\":{\"data\":{\"bar\":[{\"error_x\":{\"color\":\"#2a3f5f\"},\"error_y\":{\"color\":\"#2a3f5f\"},\"marker\":{\"line\":{\"color\":\"#E5ECF6\",\"width\":0.5},\"pattern\":{\"fillmode\":\"overlay\",\"size\":10,\"solidity\":0.2}},\"type\":\"bar\"}],\"barpolar\":[{\"marker\":{\"line\":{\"color\":\"#E5ECF6\",\"width\":0.5},\"pattern\":{\"fillmode\":\"overlay\",\"size\":10,\"solidity\":0.2}},\"type\":\"barpolar\"}],\"carpet\":[{\"aaxis\":{\"endlinecolor\":\"#2a3f5f\",\"gridcolor\":\"white\",\"linecolor\":\"white\",\"minorgridcolor\":\"white\",\"startlinecolor\":\"#2a3f5f\"},\"baxis\":{\"endlinecolor\":\"#2a3f5f\",\"gridcolor\":\"white\",\"linecolor\":\"white\",\"minorgridcolor\":\"white\",\"startlinecolor\":\"#2a3f5f\"},\"type\":\"carpet\"}],\"choropleth\":[{\"colorbar\":{\"outlinewidth\":0,\"ticks\":\"\"},\"type\":\"choropleth\"}],\"contour\":[{\"colorbar\":{\"outlinewidth\":0,\"ticks\":\"\"},\"colorscale\":[[0.0,\"#0d0887\"],[0.1111111111111111,\"#46039f\"],[0.2222222222222222,\"#7201a8\"],[0.3333333333333333,\"#9c179e\"],[0.4444444444444444,\"#bd3786\"],[0.5555555555555556,\"#d8576b\"],[0.6666666666666666,\"#ed7953\"],[0.7777777777777778,\"#fb9f3a\"],[0.8888888888888888,\"#fdca26\"],[1.0,\"#f0f921\"]],\"type\":\"contour\"}],\"contourcarpet\":[{\"colorbar\":{\"outlinewidth\":0,\"ticks\":\"\"},\"type\":\"contourcarpet\"}],\"heatmap\":[{\"colorbar\":{\"outlinewidth\":0,\"ticks\":\"\"},\"colorscale\":[[0.0,\"#0d0887\"],[0.1111111111111111,\"#46039f\"],[0.2222222222222222,\"#7201a8\"],[0.3333333333333333,\"#9c179e\"],[0.4444444444444444,\"#bd3786\"],[0.5555555555555556,\"#d8576b\"],[0.6666666666666666,\"#ed7953\"],[0.7777777777777778,\"#fb9f3a\"],[0.8888888888888888,\"#fdca26\"],[1.0,\"#f0f921\"]],\"type\":\"heatmap\"}],\"heatmapgl\":[{\"colorbar\":{\"outlinewidth\":0,\"ticks\":\"\"},\"colorscale\":[[0.0,\"#0d0887\"],[0.1111111111111111,\"#46039f\"],[0.2222222222222222,\"#7201a8\"],[0.3333333333333333,\"#9c179e\"],[0.4444444444444444,\"#bd3786\"],[0.5555555555555556,\"#d8576b\"],[0.6666666666666666,\"#ed7953\"],[0.7777777777777778,\"#fb9f3a\"],[0.8888888888888888,\"#fdca26\"],[1.0,\"#f0f921\"]],\"type\":\"heatmapgl\"}],\"histogram\":[{\"marker\":{\"pattern\":{\"fillmode\":\"overlay\",\"size\":10,\"solidity\":0.2}},\"type\":\"histogram\"}],\"histogram2d\":[{\"colorbar\":{\"outlinewidth\":0,\"ticks\":\"\"},\"colorscale\":[[0.0,\"#0d0887\"],[0.1111111111111111,\"#46039f\"],[0.2222222222222222,\"#7201a8\"],[0.3333333333333333,\"#9c179e\"],[0.4444444444444444,\"#bd3786\"],[0.5555555555555556,\"#d8576b\"],[0.6666666666666666,\"#ed7953\"],[0.7777777777777778,\"#fb9f3a\"],[0.8888888888888888,\"#fdca26\"],[1.0,\"#f0f921\"]],\"type\":\"histogram2d\"}],\"histogram2dcontour\":[{\"colorbar\":{\"outlinewidth\":0,\"ticks\":\"\"},\"colorscale\":[[0.0,\"#0d0887\"],[0.1111111111111111,\"#46039f\"],[0.2222222222222222,\"#7201a8\"],[0.3333333333333333,\"#9c179e\"],[0.4444444444444444,\"#bd3786\"],[0.5555555555555556,\"#d8576b\"],[0.6666666666666666,\"#ed7953\"],[0.7777777777777778,\"#fb9f3a\"],[0.8888888888888888,\"#fdca26\"],[1.0,\"#f0f921\"]],\"type\":\"histogram2dcontour\"}],\"mesh3d\":[{\"colorbar\":{\"outlinewidth\":0,\"ticks\":\"\"},\"type\":\"mesh3d\"}],\"parcoords\":[{\"line\":{\"colorbar\":{\"outlinewidth\":0,\"ticks\":\"\"}},\"type\":\"parcoords\"}],\"pie\":[{\"automargin\":true,\"type\":\"pie\"}],\"scatter\":[{\"marker\":{\"colorbar\":{\"outlinewidth\":0,\"ticks\":\"\"}},\"type\":\"scatter\"}],\"scatter3d\":[{\"line\":{\"colorbar\":{\"outlinewidth\":0,\"ticks\":\"\"}},\"marker\":{\"colorbar\":{\"outlinewidth\":0,\"ticks\":\"\"}},\"type\":\"scatter3d\"}],\"scattercarpet\":[{\"marker\":{\"colorbar\":{\"outlinewidth\":0,\"ticks\":\"\"}},\"type\":\"scattercarpet\"}],\"scattergeo\":[{\"marker\":{\"colorbar\":{\"outlinewidth\":0,\"ticks\":\"\"}},\"type\":\"scattergeo\"}],\"scattergl\":[{\"marker\":{\"colorbar\":{\"outlinewidth\":0,\"ticks\":\"\"}},\"type\":\"scattergl\"}],\"scattermapbox\":[{\"marker\":{\"colorbar\":{\"outlinewidth\":0,\"ticks\":\"\"}},\"type\":\"scattermapbox\"}],\"scatterpolar\":[{\"marker\":{\"colorbar\":{\"outlinewidth\":0,\"ticks\":\"\"}},\"type\":\"scatterpolar\"}],\"scatterpolargl\":[{\"marker\":{\"colorbar\":{\"outlinewidth\":0,\"ticks\":\"\"}},\"type\":\"scatterpolargl\"}],\"scatterternary\":[{\"marker\":{\"colorbar\":{\"outlinewidth\":0,\"ticks\":\"\"}},\"type\":\"scatterternary\"}],\"surface\":[{\"colorbar\":{\"outlinewidth\":0,\"ticks\":\"\"},\"colorscale\":[[0.0,\"#0d0887\"],[0.1111111111111111,\"#46039f\"],[0.2222222222222222,\"#7201a8\"],[0.3333333333333333,\"#9c179e\"],[0.4444444444444444,\"#bd3786\"],[0.5555555555555556,\"#d8576b\"],[0.6666666666666666,\"#ed7953\"],[0.7777777777777778,\"#fb9f3a\"],[0.8888888888888888,\"#fdca26\"],[1.0,\"#f0f921\"]],\"type\":\"surface\"}],\"table\":[{\"cells\":{\"fill\":{\"color\":\"#EBF0F8\"},\"line\":{\"color\":\"white\"}},\"header\":{\"fill\":{\"color\":\"#C8D4E3\"},\"line\":{\"color\":\"white\"}},\"type\":\"table\"}]},\"layout\":{\"annotationdefaults\":{\"arrowcolor\":\"#2a3f5f\",\"arrowhead\":0,\"arrowwidth\":1},\"autotypenumbers\":\"strict\",\"coloraxis\":{\"colorbar\":{\"outlinewidth\":0,\"ticks\":\"\"}},\"colorscale\":{\"diverging\":[[0,\"#8e0152\"],[0.1,\"#c51b7d\"],[0.2,\"#de77ae\"],[0.3,\"#f1b6da\"],[0.4,\"#fde0ef\"],[0.5,\"#f7f7f7\"],[0.6,\"#e6f5d0\"],[0.7,\"#b8e186\"],[0.8,\"#7fbc41\"],[0.9,\"#4d9221\"],[1,\"#276419\"]],\"sequential\":[[0.0,\"#0d0887\"],[0.1111111111111111,\"#46039f\"],[0.2222222222222222,\"#7201a8\"],[0.3333333333333333,\"#9c179e\"],[0.4444444444444444,\"#bd3786\"],[0.5555555555555556,\"#d8576b\"],[0.6666666666666666,\"#ed7953\"],[0.7777777777777778,\"#fb9f3a\"],[0.8888888888888888,\"#fdca26\"],[1.0,\"#f0f921\"]],\"sequentialminus\":[[0.0,\"#0d0887\"],[0.1111111111111111,\"#46039f\"],[0.2222222222222222,\"#7201a8\"],[0.3333333333333333,\"#9c179e\"],[0.4444444444444444,\"#bd3786\"],[0.5555555555555556,\"#d8576b\"],[0.6666666666666666,\"#ed7953\"],[0.7777777777777778,\"#fb9f3a\"],[0.8888888888888888,\"#fdca26\"],[1.0,\"#f0f921\"]]},\"colorway\":[\"#636efa\",\"#EF553B\",\"#00cc96\",\"#ab63fa\",\"#FFA15A\",\"#19d3f3\",\"#FF6692\",\"#B6E880\",\"#FF97FF\",\"#FECB52\"],\"font\":{\"color\":\"#2a3f5f\"},\"geo\":{\"bgcolor\":\"white\",\"lakecolor\":\"white\",\"landcolor\":\"#E5ECF6\",\"showlakes\":true,\"showland\":true,\"subunitcolor\":\"white\"},\"hoverlabel\":{\"align\":\"left\"},\"hovermode\":\"closest\",\"mapbox\":{\"style\":\"light\"},\"paper_bgcolor\":\"white\",\"plot_bgcolor\":\"#E5ECF6\",\"polar\":{\"angularaxis\":{\"gridcolor\":\"white\",\"linecolor\":\"white\",\"ticks\":\"\"},\"bgcolor\":\"#E5ECF6\",\"radialaxis\":{\"gridcolor\":\"white\",\"linecolor\":\"white\",\"ticks\":\"\"}},\"scene\":{\"xaxis\":{\"backgroundcolor\":\"#E5ECF6\",\"gridcolor\":\"white\",\"gridwidth\":2,\"linecolor\":\"white\",\"showbackground\":true,\"ticks\":\"\",\"zerolinecolor\":\"white\"},\"yaxis\":{\"backgroundcolor\":\"#E5ECF6\",\"gridcolor\":\"white\",\"gridwidth\":2,\"linecolor\":\"white\",\"showbackground\":true,\"ticks\":\"\",\"zerolinecolor\":\"white\"},\"zaxis\":{\"backgroundcolor\":\"#E5ECF6\",\"gridcolor\":\"white\",\"gridwidth\":2,\"linecolor\":\"white\",\"showbackground\":true,\"ticks\":\"\",\"zerolinecolor\":\"white\"}},\"shapedefaults\":{\"line\":{\"color\":\"#2a3f5f\"}},\"ternary\":{\"aaxis\":{\"gridcolor\":\"white\",\"linecolor\":\"white\",\"ticks\":\"\"},\"baxis\":{\"gridcolor\":\"white\",\"linecolor\":\"white\",\"ticks\":\"\"},\"bgcolor\":\"#E5ECF6\",\"caxis\":{\"gridcolor\":\"white\",\"linecolor\":\"white\",\"ticks\":\"\"}},\"title\":{\"x\":0.05},\"xaxis\":{\"automargin\":true,\"gridcolor\":\"white\",\"linecolor\":\"white\",\"ticks\":\"\",\"title\":{\"standoff\":15},\"zerolinecolor\":\"white\",\"zerolinewidth\":2},\"yaxis\":{\"automargin\":true,\"gridcolor\":\"white\",\"linecolor\":\"white\",\"ticks\":\"\",\"title\":{\"standoff\":15},\"zerolinecolor\":\"white\",\"zerolinewidth\":2}}},\"scene\":{\"xaxis\":{\"title\":{\"text\":\"BMI\"}},\"yaxis\":{\"title\":{\"text\":\"Cholesterol\"}},\"zaxis\":{\"title\":{\"text\":\"Diabetes Progression\"}}}},                        {\"responsive\": true}                    ).then(function(){\n",
              "                            \n",
              "var gd = document.getElementById('c3188205-c4cc-4d9c-8ea8-e2cb3fbfa584');\n",
              "var x = new MutationObserver(function (mutations, observer) {{\n",
              "        var display = window.getComputedStyle(gd).display;\n",
              "        if (!display || display === 'none') {{\n",
              "            console.log([gd, 'removed!']);\n",
              "            Plotly.purge(gd);\n",
              "            observer.disconnect();\n",
              "        }}\n",
              "}});\n",
              "\n",
              "// Listen for the removal of the full notebook cells\n",
              "var notebookContainer = gd.closest('#notebook-container');\n",
              "if (notebookContainer) {{\n",
              "    x.observe(notebookContainer, {childList: true});\n",
              "}}\n",
              "\n",
              "// Listen for the clearing of the current output cell\n",
              "var outputEl = gd.closest('.output');\n",
              "if (outputEl) {{\n",
              "    x.observe(outputEl, {childList: true});\n",
              "}}\n",
              "\n",
              "                        })                };                            </script>        </div>\n",
              "</body>\n",
              "</html>"
            ]
          },
          "metadata": {}
        }
      ]
    },
    {
      "cell_type": "markdown",
      "source": [
        "# Adjusted $R^2$"
      ],
      "metadata": {
        "id": "5cQ8nJYmnH-S"
      }
    },
    {
      "cell_type": "markdown",
      "source": [
        "## Let's test few more relationships"
      ],
      "metadata": {
        "id": "YYOuHhSLTvSH"
      }
    },
    {
      "cell_type": "code",
      "source": [
        "# slice subset of data\n",
        "diabetes_y_df = diabets_data.target\n",
        "diabetes_y_df.shape\n",
        "\n",
        "y = diabetes_y_df.to_numpy()\n",
        "print(y.shape)"
      ],
      "metadata": {
        "colab": {
          "base_uri": "https://localhost:8080/"
        },
        "id": "7gc8drd0YPaT",
        "outputId": "a4d178d1-3b16-44da-f67c-bded06478bdc"
      },
      "execution_count": null,
      "outputs": [
        {
          "output_type": "stream",
          "name": "stdout",
          "text": [
            "(442,)\n"
          ]
        }
      ]
    },
    {
      "cell_type": "code",
      "source": [
        "# prepare dataframe for results\n",
        "results_df = pd.DataFrame()"
      ],
      "metadata": {
        "id": "jorMebPaXJhR"
      },
      "execution_count": null,
      "outputs": []
    },
    {
      "cell_type": "code",
      "source": [
        "# Diabetes progression = s2\n",
        "X = diabetes_X_df[[\"s2\"]].to_numpy().reshape(-1, 1)\n",
        "print(X.shape)\n",
        "\n",
        "# train-test split\n",
        "X_train, X_test, y_train, y_test = train_test_split(X, y, test_size=0.2, random_state=42)\n",
        "\n",
        "# create model object\n",
        "lin_regressor = linear_model.LinearRegression()\n",
        "\n",
        "# fit the model\n",
        "lin_regressor.fit(X_train, y_train)\n",
        "\n",
        "# predict \n",
        "diabetes_y_pred = lin_regressor.predict(X_test)\n",
        "\n",
        "# calculate metrics\n",
        "r2 = r2_score(y_test, diabetes_y_pred)\n",
        "mae = mean_absolute_error(y_test, diabetes_y_pred)\n",
        "mse = mean_squared_error(y_test, diabetes_y_pred)\n",
        "print(f\"Coefficient of determination: {r2}\") \n",
        "print(f\"Mean absolute error: {mae}\")\n",
        "print(f\"Mean squared error: {mse}\")\n",
        "\n",
        "# save results to df\n",
        "this_results = pd.DataFrame({\n",
        "    \"model\": \"S2\",\n",
        "    \"R2\": [r2],\n",
        "    \"MAE\": [mae],\n",
        "    \"MSE\": [mse],  \n",
        "})\n",
        "\n",
        "results_df = results_df.append(this_results)"
      ],
      "metadata": {
        "colab": {
          "base_uri": "https://localhost:8080/"
        },
        "id": "ktIEpzPcTugO",
        "outputId": "8b582263-a944-4ff8-a6f1-56cb2ba3667d"
      },
      "execution_count": null,
      "outputs": [
        {
          "output_type": "stream",
          "name": "stdout",
          "text": [
            "(442, 1)\n",
            "Coefficient of determination: 0.044947934833481695\n",
            "Mean absolute error: 61.64742416472254\n",
            "Mean squared error: 5060.010768986381\n"
          ]
        }
      ]
    },
    {
      "cell_type": "code",
      "source": [
        "results_df"
      ],
      "metadata": {
        "colab": {
          "base_uri": "https://localhost:8080/",
          "height": 81
        },
        "id": "SmF4bZHfXcyK",
        "outputId": "6c435637-b67a-4bbf-ffde-5b1f2ced4d0e"
      },
      "execution_count": null,
      "outputs": [
        {
          "output_type": "execute_result",
          "data": {
            "text/plain": [
              "  model        R2        MAE          MSE\n",
              "0    S2  0.044948  61.647424  5060.010769"
            ],
            "text/html": [
              "\n",
              "  <div id=\"df-783bce84-5793-4764-96d7-a7308a67c030\">\n",
              "    <div class=\"colab-df-container\">\n",
              "      <div>\n",
              "<style scoped>\n",
              "    .dataframe tbody tr th:only-of-type {\n",
              "        vertical-align: middle;\n",
              "    }\n",
              "\n",
              "    .dataframe tbody tr th {\n",
              "        vertical-align: top;\n",
              "    }\n",
              "\n",
              "    .dataframe thead th {\n",
              "        text-align: right;\n",
              "    }\n",
              "</style>\n",
              "<table border=\"1\" class=\"dataframe\">\n",
              "  <thead>\n",
              "    <tr style=\"text-align: right;\">\n",
              "      <th></th>\n",
              "      <th>model</th>\n",
              "      <th>R2</th>\n",
              "      <th>MAE</th>\n",
              "      <th>MSE</th>\n",
              "    </tr>\n",
              "  </thead>\n",
              "  <tbody>\n",
              "    <tr>\n",
              "      <th>0</th>\n",
              "      <td>S2</td>\n",
              "      <td>0.044948</td>\n",
              "      <td>61.647424</td>\n",
              "      <td>5060.010769</td>\n",
              "    </tr>\n",
              "  </tbody>\n",
              "</table>\n",
              "</div>\n",
              "      <button class=\"colab-df-convert\" onclick=\"convertToInteractive('df-783bce84-5793-4764-96d7-a7308a67c030')\"\n",
              "              title=\"Convert this dataframe to an interactive table.\"\n",
              "              style=\"display:none;\">\n",
              "        \n",
              "  <svg xmlns=\"http://www.w3.org/2000/svg\" height=\"24px\"viewBox=\"0 0 24 24\"\n",
              "       width=\"24px\">\n",
              "    <path d=\"M0 0h24v24H0V0z\" fill=\"none\"/>\n",
              "    <path d=\"M18.56 5.44l.94 2.06.94-2.06 2.06-.94-2.06-.94-.94-2.06-.94 2.06-2.06.94zm-11 1L8.5 8.5l.94-2.06 2.06-.94-2.06-.94L8.5 2.5l-.94 2.06-2.06.94zm10 10l.94 2.06.94-2.06 2.06-.94-2.06-.94-.94-2.06-.94 2.06-2.06.94z\"/><path d=\"M17.41 7.96l-1.37-1.37c-.4-.4-.92-.59-1.43-.59-.52 0-1.04.2-1.43.59L10.3 9.45l-7.72 7.72c-.78.78-.78 2.05 0 2.83L4 21.41c.39.39.9.59 1.41.59.51 0 1.02-.2 1.41-.59l7.78-7.78 2.81-2.81c.8-.78.8-2.07 0-2.86zM5.41 20L4 18.59l7.72-7.72 1.47 1.35L5.41 20z\"/>\n",
              "  </svg>\n",
              "      </button>\n",
              "      \n",
              "  <style>\n",
              "    .colab-df-container {\n",
              "      display:flex;\n",
              "      flex-wrap:wrap;\n",
              "      gap: 12px;\n",
              "    }\n",
              "\n",
              "    .colab-df-convert {\n",
              "      background-color: #E8F0FE;\n",
              "      border: none;\n",
              "      border-radius: 50%;\n",
              "      cursor: pointer;\n",
              "      display: none;\n",
              "      fill: #1967D2;\n",
              "      height: 32px;\n",
              "      padding: 0 0 0 0;\n",
              "      width: 32px;\n",
              "    }\n",
              "\n",
              "    .colab-df-convert:hover {\n",
              "      background-color: #E2EBFA;\n",
              "      box-shadow: 0px 1px 2px rgba(60, 64, 67, 0.3), 0px 1px 3px 1px rgba(60, 64, 67, 0.15);\n",
              "      fill: #174EA6;\n",
              "    }\n",
              "\n",
              "    [theme=dark] .colab-df-convert {\n",
              "      background-color: #3B4455;\n",
              "      fill: #D2E3FC;\n",
              "    }\n",
              "\n",
              "    [theme=dark] .colab-df-convert:hover {\n",
              "      background-color: #434B5C;\n",
              "      box-shadow: 0px 1px 3px 1px rgba(0, 0, 0, 0.15);\n",
              "      filter: drop-shadow(0px 1px 2px rgba(0, 0, 0, 0.3));\n",
              "      fill: #FFFFFF;\n",
              "    }\n",
              "  </style>\n",
              "\n",
              "      <script>\n",
              "        const buttonEl =\n",
              "          document.querySelector('#df-783bce84-5793-4764-96d7-a7308a67c030 button.colab-df-convert');\n",
              "        buttonEl.style.display =\n",
              "          google.colab.kernel.accessAllowed ? 'block' : 'none';\n",
              "\n",
              "        async function convertToInteractive(key) {\n",
              "          const element = document.querySelector('#df-783bce84-5793-4764-96d7-a7308a67c030');\n",
              "          const dataTable =\n",
              "            await google.colab.kernel.invokeFunction('convertToInteractive',\n",
              "                                                     [key], {});\n",
              "          if (!dataTable) return;\n",
              "\n",
              "          const docLinkHtml = 'Like what you see? Visit the ' +\n",
              "            '<a target=\"_blank\" href=https://colab.research.google.com/notebooks/data_table.ipynb>data table notebook</a>'\n",
              "            + ' to learn more about interactive tables.';\n",
              "          element.innerHTML = '';\n",
              "          dataTable['output_type'] = 'display_data';\n",
              "          await google.colab.output.renderOutput(dataTable, element);\n",
              "          const docLink = document.createElement('div');\n",
              "          docLink.innerHTML = docLinkHtml;\n",
              "          element.appendChild(docLink);\n",
              "        }\n",
              "      </script>\n",
              "    </div>\n",
              "  </div>\n",
              "  "
            ]
          },
          "metadata": {},
          "execution_count": 25
        }
      ]
    },
    {
      "cell_type": "code",
      "source": [
        "# Diabetes progression = s2 + age\n",
        "\n",
        "X = diabetes_X_df[[\"s2\", \"age\"]].to_numpy().reshape(-1, 2)\n",
        "print(X.shape)\n",
        "\n",
        "# train-test split\n",
        "X_train, X_test, y_train, y_test = train_test_split(X, y, test_size=0.2, random_state=42)\n",
        "\n",
        "# create model object\n",
        "lin_regressor = linear_model.LinearRegression()\n",
        "\n",
        "# fit the model\n",
        "lin_regressor.fit(X_train, y_train)\n",
        "\n",
        "# predict \n",
        "diabetes_y_pred = lin_regressor.predict(X_test)\n",
        "\n",
        "# calculate metrics\n",
        "r2 = r2_score(y_test, diabetes_y_pred)\n",
        "mae = mean_absolute_error(y_test, diabetes_y_pred)\n",
        "mse = mean_squared_error(y_test, diabetes_y_pred)\n",
        "print(f\"Coefficient of determination: {r2}\") \n",
        "print(f\"Mean absolute error: {mae}\")\n",
        "print(f\"Mean squared error: {mse}\")\n",
        "\n",
        "# save results to df\n",
        "this_results = pd.DataFrame({\n",
        "    \"model\": \"s2+AGE\",\n",
        "    \"R2\": [r2],\n",
        "    \"MAE\": [mae],\n",
        "    \"MSE\": [mse],  \n",
        "})\n",
        "\n",
        "results_df = results_df.append(this_results)"
      ],
      "metadata": {
        "colab": {
          "base_uri": "https://localhost:8080/"
        },
        "id": "5bw1pLIFTum8",
        "outputId": "5335312a-2783-4c66-bfa6-71b52a941164"
      },
      "execution_count": null,
      "outputs": [
        {
          "output_type": "stream",
          "name": "stdout",
          "text": [
            "(442, 2)\n",
            "Coefficient of determination: 0.04891586770572698\n",
            "Mean absolute error: 61.492641928151436\n",
            "Mean squared error: 5038.988058501297\n"
          ]
        }
      ]
    },
    {
      "cell_type": "code",
      "source": [
        "results_df"
      ],
      "metadata": {
        "colab": {
          "base_uri": "https://localhost:8080/",
          "height": 112
        },
        "id": "0Dex8ZmVXdvd",
        "outputId": "4ba385ed-9861-4bf7-9cad-9f27311f7bbd"
      },
      "execution_count": null,
      "outputs": [
        {
          "output_type": "execute_result",
          "data": {
            "text/plain": [
              "    model        R2        MAE          MSE\n",
              "0      S2  0.044948  61.647424  5060.010769\n",
              "0  s2+AGE  0.048916  61.492642  5038.988059"
            ],
            "text/html": [
              "\n",
              "  <div id=\"df-f25cf36d-5ee9-47bd-bf43-208040a58fa1\">\n",
              "    <div class=\"colab-df-container\">\n",
              "      <div>\n",
              "<style scoped>\n",
              "    .dataframe tbody tr th:only-of-type {\n",
              "        vertical-align: middle;\n",
              "    }\n",
              "\n",
              "    .dataframe tbody tr th {\n",
              "        vertical-align: top;\n",
              "    }\n",
              "\n",
              "    .dataframe thead th {\n",
              "        text-align: right;\n",
              "    }\n",
              "</style>\n",
              "<table border=\"1\" class=\"dataframe\">\n",
              "  <thead>\n",
              "    <tr style=\"text-align: right;\">\n",
              "      <th></th>\n",
              "      <th>model</th>\n",
              "      <th>R2</th>\n",
              "      <th>MAE</th>\n",
              "      <th>MSE</th>\n",
              "    </tr>\n",
              "  </thead>\n",
              "  <tbody>\n",
              "    <tr>\n",
              "      <th>0</th>\n",
              "      <td>S2</td>\n",
              "      <td>0.044948</td>\n",
              "      <td>61.647424</td>\n",
              "      <td>5060.010769</td>\n",
              "    </tr>\n",
              "    <tr>\n",
              "      <th>0</th>\n",
              "      <td>s2+AGE</td>\n",
              "      <td>0.048916</td>\n",
              "      <td>61.492642</td>\n",
              "      <td>5038.988059</td>\n",
              "    </tr>\n",
              "  </tbody>\n",
              "</table>\n",
              "</div>\n",
              "      <button class=\"colab-df-convert\" onclick=\"convertToInteractive('df-f25cf36d-5ee9-47bd-bf43-208040a58fa1')\"\n",
              "              title=\"Convert this dataframe to an interactive table.\"\n",
              "              style=\"display:none;\">\n",
              "        \n",
              "  <svg xmlns=\"http://www.w3.org/2000/svg\" height=\"24px\"viewBox=\"0 0 24 24\"\n",
              "       width=\"24px\">\n",
              "    <path d=\"M0 0h24v24H0V0z\" fill=\"none\"/>\n",
              "    <path d=\"M18.56 5.44l.94 2.06.94-2.06 2.06-.94-2.06-.94-.94-2.06-.94 2.06-2.06.94zm-11 1L8.5 8.5l.94-2.06 2.06-.94-2.06-.94L8.5 2.5l-.94 2.06-2.06.94zm10 10l.94 2.06.94-2.06 2.06-.94-2.06-.94-.94-2.06-.94 2.06-2.06.94z\"/><path d=\"M17.41 7.96l-1.37-1.37c-.4-.4-.92-.59-1.43-.59-.52 0-1.04.2-1.43.59L10.3 9.45l-7.72 7.72c-.78.78-.78 2.05 0 2.83L4 21.41c.39.39.9.59 1.41.59.51 0 1.02-.2 1.41-.59l7.78-7.78 2.81-2.81c.8-.78.8-2.07 0-2.86zM5.41 20L4 18.59l7.72-7.72 1.47 1.35L5.41 20z\"/>\n",
              "  </svg>\n",
              "      </button>\n",
              "      \n",
              "  <style>\n",
              "    .colab-df-container {\n",
              "      display:flex;\n",
              "      flex-wrap:wrap;\n",
              "      gap: 12px;\n",
              "    }\n",
              "\n",
              "    .colab-df-convert {\n",
              "      background-color: #E8F0FE;\n",
              "      border: none;\n",
              "      border-radius: 50%;\n",
              "      cursor: pointer;\n",
              "      display: none;\n",
              "      fill: #1967D2;\n",
              "      height: 32px;\n",
              "      padding: 0 0 0 0;\n",
              "      width: 32px;\n",
              "    }\n",
              "\n",
              "    .colab-df-convert:hover {\n",
              "      background-color: #E2EBFA;\n",
              "      box-shadow: 0px 1px 2px rgba(60, 64, 67, 0.3), 0px 1px 3px 1px rgba(60, 64, 67, 0.15);\n",
              "      fill: #174EA6;\n",
              "    }\n",
              "\n",
              "    [theme=dark] .colab-df-convert {\n",
              "      background-color: #3B4455;\n",
              "      fill: #D2E3FC;\n",
              "    }\n",
              "\n",
              "    [theme=dark] .colab-df-convert:hover {\n",
              "      background-color: #434B5C;\n",
              "      box-shadow: 0px 1px 3px 1px rgba(0, 0, 0, 0.15);\n",
              "      filter: drop-shadow(0px 1px 2px rgba(0, 0, 0, 0.3));\n",
              "      fill: #FFFFFF;\n",
              "    }\n",
              "  </style>\n",
              "\n",
              "      <script>\n",
              "        const buttonEl =\n",
              "          document.querySelector('#df-f25cf36d-5ee9-47bd-bf43-208040a58fa1 button.colab-df-convert');\n",
              "        buttonEl.style.display =\n",
              "          google.colab.kernel.accessAllowed ? 'block' : 'none';\n",
              "\n",
              "        async function convertToInteractive(key) {\n",
              "          const element = document.querySelector('#df-f25cf36d-5ee9-47bd-bf43-208040a58fa1');\n",
              "          const dataTable =\n",
              "            await google.colab.kernel.invokeFunction('convertToInteractive',\n",
              "                                                     [key], {});\n",
              "          if (!dataTable) return;\n",
              "\n",
              "          const docLinkHtml = 'Like what you see? Visit the ' +\n",
              "            '<a target=\"_blank\" href=https://colab.research.google.com/notebooks/data_table.ipynb>data table notebook</a>'\n",
              "            + ' to learn more about interactive tables.';\n",
              "          element.innerHTML = '';\n",
              "          dataTable['output_type'] = 'display_data';\n",
              "          await google.colab.output.renderOutput(dataTable, element);\n",
              "          const docLink = document.createElement('div');\n",
              "          docLink.innerHTML = docLinkHtml;\n",
              "          element.appendChild(docLink);\n",
              "        }\n",
              "      </script>\n",
              "    </div>\n",
              "  </div>\n",
              "  "
            ]
          },
          "metadata": {},
          "execution_count": 27
        }
      ]
    },
    {
      "cell_type": "code",
      "source": [
        "# Diabetes progression = s2 + age + s1\n",
        "\n",
        "X = diabetes_X_df[[\"s2\", \"age\", \"s1\"]].to_numpy().reshape(-1, 3)\n",
        "print(X.shape)\n",
        "\n",
        "# train-test split\n",
        "X_train, X_test, y_train, y_test = train_test_split(X, y, test_size=0.2, random_state=42)\n",
        "\n",
        "# create model object\n",
        "lin_regressor = linear_model.LinearRegression()\n",
        "\n",
        "# fit the model\n",
        "lin_regressor.fit(X_train, y_train)\n",
        "\n",
        "# predict \n",
        "diabetes_y_pred = lin_regressor.predict(X_test)\n",
        "\n",
        "# calculate metrics\n",
        "r2 = r2_score(y_test, diabetes_y_pred)\n",
        "mae = mean_absolute_error(y_test, diabetes_y_pred)\n",
        "mse = mean_squared_error(y_test, diabetes_y_pred)\n",
        "print(f\"Coefficient of determination: {r2}\") \n",
        "print(f\"Mean absolute error: {mae}\")\n",
        "print(f\"Mean squared error: {mse}\")\n",
        "\n",
        "# save results to df\n",
        "this_results = pd.DataFrame({\n",
        "    \"model\": \"s2+AGE+s1\",\n",
        "    \"R2\": [r2],\n",
        "    \"MAE\": [mae],\n",
        "    \"MSE\": [mse],  \n",
        "})\n",
        "\n",
        "results_df = results_df.append(this_results)"
      ],
      "metadata": {
        "colab": {
          "base_uri": "https://localhost:8080/"
        },
        "id": "Wl0egpRCU6ct",
        "outputId": "e60fdaa1-ffe8-41d0-f55f-747c94c15a8e"
      },
      "execution_count": null,
      "outputs": [
        {
          "output_type": "stream",
          "name": "stdout",
          "text": [
            "(442, 3)\n",
            "Coefficient of determination: 0.05714032344101483\n",
            "Mean absolute error: 60.903219597464854\n",
            "Mean squared error: 4995.413643966785\n"
          ]
        }
      ]
    },
    {
      "cell_type": "code",
      "source": [
        "results_df"
      ],
      "metadata": {
        "colab": {
          "base_uri": "https://localhost:8080/",
          "height": 143
        },
        "id": "UXC5BwmZU6gY",
        "outputId": "5b966761-c74a-4cfc-d205-025473daa87f"
      },
      "execution_count": null,
      "outputs": [
        {
          "output_type": "execute_result",
          "data": {
            "text/plain": [
              "       model        R2        MAE          MSE\n",
              "0         S2  0.044948  61.647424  5060.010769\n",
              "0     s2+AGE  0.048916  61.492642  5038.988059\n",
              "0  s2+AGE+s1  0.057140  60.903220  4995.413644"
            ],
            "text/html": [
              "\n",
              "  <div id=\"df-8a06c49a-5435-4f13-a291-719a020fdc34\">\n",
              "    <div class=\"colab-df-container\">\n",
              "      <div>\n",
              "<style scoped>\n",
              "    .dataframe tbody tr th:only-of-type {\n",
              "        vertical-align: middle;\n",
              "    }\n",
              "\n",
              "    .dataframe tbody tr th {\n",
              "        vertical-align: top;\n",
              "    }\n",
              "\n",
              "    .dataframe thead th {\n",
              "        text-align: right;\n",
              "    }\n",
              "</style>\n",
              "<table border=\"1\" class=\"dataframe\">\n",
              "  <thead>\n",
              "    <tr style=\"text-align: right;\">\n",
              "      <th></th>\n",
              "      <th>model</th>\n",
              "      <th>R2</th>\n",
              "      <th>MAE</th>\n",
              "      <th>MSE</th>\n",
              "    </tr>\n",
              "  </thead>\n",
              "  <tbody>\n",
              "    <tr>\n",
              "      <th>0</th>\n",
              "      <td>S2</td>\n",
              "      <td>0.044948</td>\n",
              "      <td>61.647424</td>\n",
              "      <td>5060.010769</td>\n",
              "    </tr>\n",
              "    <tr>\n",
              "      <th>0</th>\n",
              "      <td>s2+AGE</td>\n",
              "      <td>0.048916</td>\n",
              "      <td>61.492642</td>\n",
              "      <td>5038.988059</td>\n",
              "    </tr>\n",
              "    <tr>\n",
              "      <th>0</th>\n",
              "      <td>s2+AGE+s1</td>\n",
              "      <td>0.057140</td>\n",
              "      <td>60.903220</td>\n",
              "      <td>4995.413644</td>\n",
              "    </tr>\n",
              "  </tbody>\n",
              "</table>\n",
              "</div>\n",
              "      <button class=\"colab-df-convert\" onclick=\"convertToInteractive('df-8a06c49a-5435-4f13-a291-719a020fdc34')\"\n",
              "              title=\"Convert this dataframe to an interactive table.\"\n",
              "              style=\"display:none;\">\n",
              "        \n",
              "  <svg xmlns=\"http://www.w3.org/2000/svg\" height=\"24px\"viewBox=\"0 0 24 24\"\n",
              "       width=\"24px\">\n",
              "    <path d=\"M0 0h24v24H0V0z\" fill=\"none\"/>\n",
              "    <path d=\"M18.56 5.44l.94 2.06.94-2.06 2.06-.94-2.06-.94-.94-2.06-.94 2.06-2.06.94zm-11 1L8.5 8.5l.94-2.06 2.06-.94-2.06-.94L8.5 2.5l-.94 2.06-2.06.94zm10 10l.94 2.06.94-2.06 2.06-.94-2.06-.94-.94-2.06-.94 2.06-2.06.94z\"/><path d=\"M17.41 7.96l-1.37-1.37c-.4-.4-.92-.59-1.43-.59-.52 0-1.04.2-1.43.59L10.3 9.45l-7.72 7.72c-.78.78-.78 2.05 0 2.83L4 21.41c.39.39.9.59 1.41.59.51 0 1.02-.2 1.41-.59l7.78-7.78 2.81-2.81c.8-.78.8-2.07 0-2.86zM5.41 20L4 18.59l7.72-7.72 1.47 1.35L5.41 20z\"/>\n",
              "  </svg>\n",
              "      </button>\n",
              "      \n",
              "  <style>\n",
              "    .colab-df-container {\n",
              "      display:flex;\n",
              "      flex-wrap:wrap;\n",
              "      gap: 12px;\n",
              "    }\n",
              "\n",
              "    .colab-df-convert {\n",
              "      background-color: #E8F0FE;\n",
              "      border: none;\n",
              "      border-radius: 50%;\n",
              "      cursor: pointer;\n",
              "      display: none;\n",
              "      fill: #1967D2;\n",
              "      height: 32px;\n",
              "      padding: 0 0 0 0;\n",
              "      width: 32px;\n",
              "    }\n",
              "\n",
              "    .colab-df-convert:hover {\n",
              "      background-color: #E2EBFA;\n",
              "      box-shadow: 0px 1px 2px rgba(60, 64, 67, 0.3), 0px 1px 3px 1px rgba(60, 64, 67, 0.15);\n",
              "      fill: #174EA6;\n",
              "    }\n",
              "\n",
              "    [theme=dark] .colab-df-convert {\n",
              "      background-color: #3B4455;\n",
              "      fill: #D2E3FC;\n",
              "    }\n",
              "\n",
              "    [theme=dark] .colab-df-convert:hover {\n",
              "      background-color: #434B5C;\n",
              "      box-shadow: 0px 1px 3px 1px rgba(0, 0, 0, 0.15);\n",
              "      filter: drop-shadow(0px 1px 2px rgba(0, 0, 0, 0.3));\n",
              "      fill: #FFFFFF;\n",
              "    }\n",
              "  </style>\n",
              "\n",
              "      <script>\n",
              "        const buttonEl =\n",
              "          document.querySelector('#df-8a06c49a-5435-4f13-a291-719a020fdc34 button.colab-df-convert');\n",
              "        buttonEl.style.display =\n",
              "          google.colab.kernel.accessAllowed ? 'block' : 'none';\n",
              "\n",
              "        async function convertToInteractive(key) {\n",
              "          const element = document.querySelector('#df-8a06c49a-5435-4f13-a291-719a020fdc34');\n",
              "          const dataTable =\n",
              "            await google.colab.kernel.invokeFunction('convertToInteractive',\n",
              "                                                     [key], {});\n",
              "          if (!dataTable) return;\n",
              "\n",
              "          const docLinkHtml = 'Like what you see? Visit the ' +\n",
              "            '<a target=\"_blank\" href=https://colab.research.google.com/notebooks/data_table.ipynb>data table notebook</a>'\n",
              "            + ' to learn more about interactive tables.';\n",
              "          element.innerHTML = '';\n",
              "          dataTable['output_type'] = 'display_data';\n",
              "          await google.colab.output.renderOutput(dataTable, element);\n",
              "          const docLink = document.createElement('div');\n",
              "          docLink.innerHTML = docLinkHtml;\n",
              "          element.appendChild(docLink);\n",
              "        }\n",
              "      </script>\n",
              "    </div>\n",
              "  </div>\n",
              "  "
            ]
          },
          "metadata": {},
          "execution_count": 29
        }
      ]
    },
    {
      "cell_type": "code",
      "source": [
        "# Diabetes progression = s2 + age + s1 + random\n",
        "\n",
        "# create some random data\n",
        "random_data = np.random.rand(442)\n",
        "random_data = random_data.reshape(-1,1)\n",
        "\n",
        "# add random data to feature vector\n",
        "X = diabetes_X_df[[\"s2\", \"age\", \"s1\"]].to_numpy()\n",
        "X = np.concatenate((X, random_data), axis=1)\n",
        "\n",
        "X.reshape(-1, 4)\n",
        "print(X.shape)\n",
        "\n",
        "# train-test split\n",
        "X_train, X_test, y_train, y_test = train_test_split(X, y, test_size=0.2, random_state=42)\n",
        "# create model object\n",
        "lin_regressor = linear_model.LinearRegression()\n",
        "\n",
        "# fit the model\n",
        "lin_regressor.fit(X_train, y_train)\n",
        "\n",
        "# predict \n",
        "diabetes_y_pred = lin_regressor.predict(X_test)\n",
        "\n",
        "# calculate metrics\n",
        "r2 = r2_score(y_test, diabetes_y_pred)\n",
        "mae = mean_absolute_error(y_test, diabetes_y_pred)\n",
        "mse = mean_squared_error(y_test, diabetes_y_pred)\n",
        "print(f\"Coefficient of determination: {r2}\") \n",
        "print(f\"Mean absolute error: {mae}\")\n",
        "print(f\"Mean squared error: {mse}\")\n",
        "\n",
        "# save results to df\n",
        "this_results = pd.DataFrame({\n",
        "    \"model\": \"s2+AGE+s1+rand\",\n",
        "    \"R2\": [r2],\n",
        "    \"MAE\": [mae],\n",
        "    \"MSE\": [mse],  \n",
        "})\n",
        "\n",
        "results_df = results_df.append(this_results)"
      ],
      "metadata": {
        "colab": {
          "base_uri": "https://localhost:8080/"
        },
        "id": "RFX31oj6quHo",
        "outputId": "b3cfd4b4-b005-4983-8dd6-fbcf5c9033e3"
      },
      "execution_count": null,
      "outputs": [
        {
          "output_type": "stream",
          "name": "stdout",
          "text": [
            "(442, 4)\n",
            "Coefficient of determination: 0.04663087042547276\n",
            "Mean absolute error: 61.369077063624346\n",
            "Mean squared error: 5051.094320837032\n"
          ]
        }
      ]
    },
    {
      "cell_type": "code",
      "source": [
        "results_df"
      ],
      "metadata": {
        "colab": {
          "base_uri": "https://localhost:8080/",
          "height": 175
        },
        "id": "d8tk49Z7q3I2",
        "outputId": "4f0c40a7-1edf-4195-9f72-32d199576367"
      },
      "execution_count": null,
      "outputs": [
        {
          "output_type": "execute_result",
          "data": {
            "text/plain": [
              "            model        R2        MAE          MSE\n",
              "0              S2  0.044948  61.647424  5060.010769\n",
              "0          s2+AGE  0.048916  61.492642  5038.988059\n",
              "0       s2+AGE+s1  0.057140  60.903220  4995.413644\n",
              "0  s2+AGE+s1+rand  0.046631  61.369077  5051.094321"
            ],
            "text/html": [
              "\n",
              "  <div id=\"df-31bedf1b-c893-4316-853c-803285edda84\">\n",
              "    <div class=\"colab-df-container\">\n",
              "      <div>\n",
              "<style scoped>\n",
              "    .dataframe tbody tr th:only-of-type {\n",
              "        vertical-align: middle;\n",
              "    }\n",
              "\n",
              "    .dataframe tbody tr th {\n",
              "        vertical-align: top;\n",
              "    }\n",
              "\n",
              "    .dataframe thead th {\n",
              "        text-align: right;\n",
              "    }\n",
              "</style>\n",
              "<table border=\"1\" class=\"dataframe\">\n",
              "  <thead>\n",
              "    <tr style=\"text-align: right;\">\n",
              "      <th></th>\n",
              "      <th>model</th>\n",
              "      <th>R2</th>\n",
              "      <th>MAE</th>\n",
              "      <th>MSE</th>\n",
              "    </tr>\n",
              "  </thead>\n",
              "  <tbody>\n",
              "    <tr>\n",
              "      <th>0</th>\n",
              "      <td>S2</td>\n",
              "      <td>0.044948</td>\n",
              "      <td>61.647424</td>\n",
              "      <td>5060.010769</td>\n",
              "    </tr>\n",
              "    <tr>\n",
              "      <th>0</th>\n",
              "      <td>s2+AGE</td>\n",
              "      <td>0.048916</td>\n",
              "      <td>61.492642</td>\n",
              "      <td>5038.988059</td>\n",
              "    </tr>\n",
              "    <tr>\n",
              "      <th>0</th>\n",
              "      <td>s2+AGE+s1</td>\n",
              "      <td>0.057140</td>\n",
              "      <td>60.903220</td>\n",
              "      <td>4995.413644</td>\n",
              "    </tr>\n",
              "    <tr>\n",
              "      <th>0</th>\n",
              "      <td>s2+AGE+s1+rand</td>\n",
              "      <td>0.046631</td>\n",
              "      <td>61.369077</td>\n",
              "      <td>5051.094321</td>\n",
              "    </tr>\n",
              "  </tbody>\n",
              "</table>\n",
              "</div>\n",
              "      <button class=\"colab-df-convert\" onclick=\"convertToInteractive('df-31bedf1b-c893-4316-853c-803285edda84')\"\n",
              "              title=\"Convert this dataframe to an interactive table.\"\n",
              "              style=\"display:none;\">\n",
              "        \n",
              "  <svg xmlns=\"http://www.w3.org/2000/svg\" height=\"24px\"viewBox=\"0 0 24 24\"\n",
              "       width=\"24px\">\n",
              "    <path d=\"M0 0h24v24H0V0z\" fill=\"none\"/>\n",
              "    <path d=\"M18.56 5.44l.94 2.06.94-2.06 2.06-.94-2.06-.94-.94-2.06-.94 2.06-2.06.94zm-11 1L8.5 8.5l.94-2.06 2.06-.94-2.06-.94L8.5 2.5l-.94 2.06-2.06.94zm10 10l.94 2.06.94-2.06 2.06-.94-2.06-.94-.94-2.06-.94 2.06-2.06.94z\"/><path d=\"M17.41 7.96l-1.37-1.37c-.4-.4-.92-.59-1.43-.59-.52 0-1.04.2-1.43.59L10.3 9.45l-7.72 7.72c-.78.78-.78 2.05 0 2.83L4 21.41c.39.39.9.59 1.41.59.51 0 1.02-.2 1.41-.59l7.78-7.78 2.81-2.81c.8-.78.8-2.07 0-2.86zM5.41 20L4 18.59l7.72-7.72 1.47 1.35L5.41 20z\"/>\n",
              "  </svg>\n",
              "      </button>\n",
              "      \n",
              "  <style>\n",
              "    .colab-df-container {\n",
              "      display:flex;\n",
              "      flex-wrap:wrap;\n",
              "      gap: 12px;\n",
              "    }\n",
              "\n",
              "    .colab-df-convert {\n",
              "      background-color: #E8F0FE;\n",
              "      border: none;\n",
              "      border-radius: 50%;\n",
              "      cursor: pointer;\n",
              "      display: none;\n",
              "      fill: #1967D2;\n",
              "      height: 32px;\n",
              "      padding: 0 0 0 0;\n",
              "      width: 32px;\n",
              "    }\n",
              "\n",
              "    .colab-df-convert:hover {\n",
              "      background-color: #E2EBFA;\n",
              "      box-shadow: 0px 1px 2px rgba(60, 64, 67, 0.3), 0px 1px 3px 1px rgba(60, 64, 67, 0.15);\n",
              "      fill: #174EA6;\n",
              "    }\n",
              "\n",
              "    [theme=dark] .colab-df-convert {\n",
              "      background-color: #3B4455;\n",
              "      fill: #D2E3FC;\n",
              "    }\n",
              "\n",
              "    [theme=dark] .colab-df-convert:hover {\n",
              "      background-color: #434B5C;\n",
              "      box-shadow: 0px 1px 3px 1px rgba(0, 0, 0, 0.15);\n",
              "      filter: drop-shadow(0px 1px 2px rgba(0, 0, 0, 0.3));\n",
              "      fill: #FFFFFF;\n",
              "    }\n",
              "  </style>\n",
              "\n",
              "      <script>\n",
              "        const buttonEl =\n",
              "          document.querySelector('#df-31bedf1b-c893-4316-853c-803285edda84 button.colab-df-convert');\n",
              "        buttonEl.style.display =\n",
              "          google.colab.kernel.accessAllowed ? 'block' : 'none';\n",
              "\n",
              "        async function convertToInteractive(key) {\n",
              "          const element = document.querySelector('#df-31bedf1b-c893-4316-853c-803285edda84');\n",
              "          const dataTable =\n",
              "            await google.colab.kernel.invokeFunction('convertToInteractive',\n",
              "                                                     [key], {});\n",
              "          if (!dataTable) return;\n",
              "\n",
              "          const docLinkHtml = 'Like what you see? Visit the ' +\n",
              "            '<a target=\"_blank\" href=https://colab.research.google.com/notebooks/data_table.ipynb>data table notebook</a>'\n",
              "            + ' to learn more about interactive tables.';\n",
              "          element.innerHTML = '';\n",
              "          dataTable['output_type'] = 'display_data';\n",
              "          await google.colab.output.renderOutput(dataTable, element);\n",
              "          const docLink = document.createElement('div');\n",
              "          docLink.innerHTML = docLinkHtml;\n",
              "          element.appendChild(docLink);\n",
              "        }\n",
              "      </script>\n",
              "    </div>\n",
              "  </div>\n",
              "  "
            ]
          },
          "metadata": {},
          "execution_count": 31
        }
      ]
    },
    {
      "cell_type": "markdown",
      "source": [
        "Seem good! Our accuracy increases while we add more features to feature vector.\n",
        "\n",
        "**However...**\n",
        "\n",
        "$R^2$ tends to increase with every predictor added to a model. As $R^2$ always increases and never decreases, it can appear to be a better fit with the more terms you add to the model. This can be completely misleading.\n",
        "\n",
        "Adjusted $R^2$ is a modified version of $R^2$ that has been adjusted for the number of predictors in the model. The adjusted $R^2$ increases when the new term improves the model more than would be expected by chance. It decreases when a predictor improves the model by less than expected. The adjusted $R^2$ is always lower than the $R^2$.\n",
        "\n",
        "The equation for Adjusted $R^2$ is as follows:\n",
        "\n",
        "\n",
        "$$\n",
        "Adj\\_R^2 = 1 - {(1 - R^2)(n - 1) \\over (n - k -1)}\n",
        "$$\n",
        "\n",
        "where: \n",
        "* $n$ is a data length\n",
        "* $k$ is a number of predictors"
      ],
      "metadata": {
        "id": "Mc9-aZ-TiOvJ"
      }
    },
    {
      "cell_type": "code",
      "source": [
        "# function for calculating adjusted R2\n",
        "def adj_r2(num_predictors, data_length, r2):\n",
        "  return (1 - (((1-r2)*(data_length-1))/(data_length - num_predictors - 1)))"
      ],
      "metadata": {
        "id": "Gtb-xs4-e0SF"
      },
      "execution_count": null,
      "outputs": []
    },
    {
      "cell_type": "code",
      "source": [
        "# apply function adj_r2 to each record of results dataframe\n",
        "\n",
        "data_length = len(y_test)\n",
        "\n",
        "results_df['adj_R2'] = results_df.apply(\n",
        "    lambda row: adj_r2(\n",
        "                  len(row[\"model\"].split(\"+\")),\n",
        "                  data_length,\n",
        "                  row.R2\n",
        "                ), \n",
        "                axis = 1)"
      ],
      "metadata": {
        "id": "1H9I5ZD1l6kU"
      },
      "execution_count": null,
      "outputs": []
    },
    {
      "cell_type": "code",
      "source": [
        "results_df"
      ],
      "metadata": {
        "colab": {
          "base_uri": "https://localhost:8080/",
          "height": 175
        },
        "id": "GX-0pOQ8mbTq",
        "outputId": "59fe6cda-a5ba-4338-f564-21b8f2e429b3"
      },
      "execution_count": null,
      "outputs": [
        {
          "output_type": "execute_result",
          "data": {
            "text/plain": [
              "            model        R2        MAE          MSE    adj_R2\n",
              "0              S2  0.044948  61.647424  5060.010769  0.033970\n",
              "0          s2+AGE  0.048916  61.492642  5038.988059  0.026798\n",
              "0       s2+AGE+s1  0.057140  60.903220  4995.413644  0.023863\n",
              "0  s2+AGE+s1+rand  0.046631  61.369077  5051.094321  0.001232"
            ],
            "text/html": [
              "\n",
              "  <div id=\"df-f6089725-3d2b-494f-ad44-4ed402dcfb57\">\n",
              "    <div class=\"colab-df-container\">\n",
              "      <div>\n",
              "<style scoped>\n",
              "    .dataframe tbody tr th:only-of-type {\n",
              "        vertical-align: middle;\n",
              "    }\n",
              "\n",
              "    .dataframe tbody tr th {\n",
              "        vertical-align: top;\n",
              "    }\n",
              "\n",
              "    .dataframe thead th {\n",
              "        text-align: right;\n",
              "    }\n",
              "</style>\n",
              "<table border=\"1\" class=\"dataframe\">\n",
              "  <thead>\n",
              "    <tr style=\"text-align: right;\">\n",
              "      <th></th>\n",
              "      <th>model</th>\n",
              "      <th>R2</th>\n",
              "      <th>MAE</th>\n",
              "      <th>MSE</th>\n",
              "      <th>adj_R2</th>\n",
              "    </tr>\n",
              "  </thead>\n",
              "  <tbody>\n",
              "    <tr>\n",
              "      <th>0</th>\n",
              "      <td>S2</td>\n",
              "      <td>0.044948</td>\n",
              "      <td>61.647424</td>\n",
              "      <td>5060.010769</td>\n",
              "      <td>0.033970</td>\n",
              "    </tr>\n",
              "    <tr>\n",
              "      <th>0</th>\n",
              "      <td>s2+AGE</td>\n",
              "      <td>0.048916</td>\n",
              "      <td>61.492642</td>\n",
              "      <td>5038.988059</td>\n",
              "      <td>0.026798</td>\n",
              "    </tr>\n",
              "    <tr>\n",
              "      <th>0</th>\n",
              "      <td>s2+AGE+s1</td>\n",
              "      <td>0.057140</td>\n",
              "      <td>60.903220</td>\n",
              "      <td>4995.413644</td>\n",
              "      <td>0.023863</td>\n",
              "    </tr>\n",
              "    <tr>\n",
              "      <th>0</th>\n",
              "      <td>s2+AGE+s1+rand</td>\n",
              "      <td>0.046631</td>\n",
              "      <td>61.369077</td>\n",
              "      <td>5051.094321</td>\n",
              "      <td>0.001232</td>\n",
              "    </tr>\n",
              "  </tbody>\n",
              "</table>\n",
              "</div>\n",
              "      <button class=\"colab-df-convert\" onclick=\"convertToInteractive('df-f6089725-3d2b-494f-ad44-4ed402dcfb57')\"\n",
              "              title=\"Convert this dataframe to an interactive table.\"\n",
              "              style=\"display:none;\">\n",
              "        \n",
              "  <svg xmlns=\"http://www.w3.org/2000/svg\" height=\"24px\"viewBox=\"0 0 24 24\"\n",
              "       width=\"24px\">\n",
              "    <path d=\"M0 0h24v24H0V0z\" fill=\"none\"/>\n",
              "    <path d=\"M18.56 5.44l.94 2.06.94-2.06 2.06-.94-2.06-.94-.94-2.06-.94 2.06-2.06.94zm-11 1L8.5 8.5l.94-2.06 2.06-.94-2.06-.94L8.5 2.5l-.94 2.06-2.06.94zm10 10l.94 2.06.94-2.06 2.06-.94-2.06-.94-.94-2.06-.94 2.06-2.06.94z\"/><path d=\"M17.41 7.96l-1.37-1.37c-.4-.4-.92-.59-1.43-.59-.52 0-1.04.2-1.43.59L10.3 9.45l-7.72 7.72c-.78.78-.78 2.05 0 2.83L4 21.41c.39.39.9.59 1.41.59.51 0 1.02-.2 1.41-.59l7.78-7.78 2.81-2.81c.8-.78.8-2.07 0-2.86zM5.41 20L4 18.59l7.72-7.72 1.47 1.35L5.41 20z\"/>\n",
              "  </svg>\n",
              "      </button>\n",
              "      \n",
              "  <style>\n",
              "    .colab-df-container {\n",
              "      display:flex;\n",
              "      flex-wrap:wrap;\n",
              "      gap: 12px;\n",
              "    }\n",
              "\n",
              "    .colab-df-convert {\n",
              "      background-color: #E8F0FE;\n",
              "      border: none;\n",
              "      border-radius: 50%;\n",
              "      cursor: pointer;\n",
              "      display: none;\n",
              "      fill: #1967D2;\n",
              "      height: 32px;\n",
              "      padding: 0 0 0 0;\n",
              "      width: 32px;\n",
              "    }\n",
              "\n",
              "    .colab-df-convert:hover {\n",
              "      background-color: #E2EBFA;\n",
              "      box-shadow: 0px 1px 2px rgba(60, 64, 67, 0.3), 0px 1px 3px 1px rgba(60, 64, 67, 0.15);\n",
              "      fill: #174EA6;\n",
              "    }\n",
              "\n",
              "    [theme=dark] .colab-df-convert {\n",
              "      background-color: #3B4455;\n",
              "      fill: #D2E3FC;\n",
              "    }\n",
              "\n",
              "    [theme=dark] .colab-df-convert:hover {\n",
              "      background-color: #434B5C;\n",
              "      box-shadow: 0px 1px 3px 1px rgba(0, 0, 0, 0.15);\n",
              "      filter: drop-shadow(0px 1px 2px rgba(0, 0, 0, 0.3));\n",
              "      fill: #FFFFFF;\n",
              "    }\n",
              "  </style>\n",
              "\n",
              "      <script>\n",
              "        const buttonEl =\n",
              "          document.querySelector('#df-f6089725-3d2b-494f-ad44-4ed402dcfb57 button.colab-df-convert');\n",
              "        buttonEl.style.display =\n",
              "          google.colab.kernel.accessAllowed ? 'block' : 'none';\n",
              "\n",
              "        async function convertToInteractive(key) {\n",
              "          const element = document.querySelector('#df-f6089725-3d2b-494f-ad44-4ed402dcfb57');\n",
              "          const dataTable =\n",
              "            await google.colab.kernel.invokeFunction('convertToInteractive',\n",
              "                                                     [key], {});\n",
              "          if (!dataTable) return;\n",
              "\n",
              "          const docLinkHtml = 'Like what you see? Visit the ' +\n",
              "            '<a target=\"_blank\" href=https://colab.research.google.com/notebooks/data_table.ipynb>data table notebook</a>'\n",
              "            + ' to learn more about interactive tables.';\n",
              "          element.innerHTML = '';\n",
              "          dataTable['output_type'] = 'display_data';\n",
              "          await google.colab.output.renderOutput(dataTable, element);\n",
              "          const docLink = document.createElement('div');\n",
              "          docLink.innerHTML = docLinkHtml;\n",
              "          element.appendChild(docLink);\n",
              "        }\n",
              "      </script>\n",
              "    </div>\n",
              "  </div>\n",
              "  "
            ]
          },
          "metadata": {},
          "execution_count": 34
        }
      ]
    },
    {
      "cell_type": "markdown",
      "source": [
        "---\n",
        "Note, however, that $R^2_{Adj}$ is only a certain statistical approximation, useful in some situations and less so in others. "
      ],
      "metadata": {
        "id": "ZUc6IhNNWgTX"
      }
    },
    {
      "cell_type": "code",
      "source": [
        "def plotR2againstAdjustedR2(r2, start_sample_size=30, stop_sample_size = 1000, n_features=2):\n",
        "  adj_r2 = []\n",
        "\n",
        "  adj_r2_start = 1 - (1-r2)*(start_sample_size-1)/(start_sample_size - n_features -1)\n",
        "\n",
        "  sample_sizes = range(start_sample_size, stop_sample_size, 20)\n",
        "  # calculate adjusted R2 for increasing sample sizes\n",
        "  for item in sample_sizes:\n",
        "    current_adj_r2 = 1 - (1-r2)*(item-1)/(item - n_features -1)\n",
        "    adj_r2 = np.append(adj_r2, current_adj_r2)\n",
        "\n",
        "  # plot results\n",
        "  fig, ax = plt.subplots(figsize=(10,5))\n",
        "\n",
        "  adj_ax = plt.scatter(sample_sizes, adj_r2, c=\"r\", alpha=0.5, label='Adj. R2')\n",
        "  plt.plot(sample_sizes, adj_r2, c=\"r\", alpha=0.5)\n",
        "  \n",
        "  r_ax = plt.axhline(y=r2, color='g', linestyle='-', label='R2')\n",
        "  adj_h_ax = plt.axhline(y=adj_r2_start, color='r', alpha=0.9, linestyle='-', label='Adj. R2 start')\n",
        "\n",
        "  # add legends and axes labels\n",
        "  plt.xlabel(\"Sample Size\")\n",
        "  plt.ylabel(\"Scores\")\n",
        "  ax.legend(handles=[adj_ax, r_ax, adj_h_ax])"
      ],
      "metadata": {
        "id": "mG3gn01lQG77"
      },
      "execution_count": 37,
      "outputs": []
    },
    {
      "cell_type": "code",
      "source": [
        "@widgets.interact(R2=(0, 1, 0.01), Features =(1, 28, 1))\n",
        "def update(R2 = 0.01, Features=1):\n",
        "    plotR2againstAdjustedR2(r2 = R2, n_features=Features)"
      ],
      "metadata": {
        "colab": {
          "base_uri": "https://localhost:8080/",
          "height": 398,
          "referenced_widgets": [
            "a795aacdfe7c46898fe7bbda948a6b33",
            "45681054571b444faf15547c61e3560f",
            "007a190d395b4dec95f0606df1603122",
            "96d67cc9277b41128f682d6ebf4afcc9",
            "d63dd3875ffb4d4d8ac6d384337cd22c",
            "9082413ccba0457ba5663602440e45fc",
            "c8348d86252a41b789c4f983b6e5ca1e",
            "196dbdde774e46909bc347aef0127177",
            "22c32c3d1e56447bb2f1781156410c1b",
            "fcc67da25b9e487d9fcbafff16c69e24"
          ]
        },
        "id": "jRd4P2uJQG_U",
        "outputId": "be2d65e0-1376-4d58-ed2f-8fa56d92f1af"
      },
      "execution_count": 38,
      "outputs": [
        {
          "output_type": "display_data",
          "data": {
            "text/plain": [
              "interactive(children=(FloatSlider(value=0.01, description='R2', max=1.0, step=0.01), IntSlider(value=1, descri…"
            ],
            "application/vnd.jupyter.widget-view+json": {
              "version_major": 2,
              "version_minor": 0,
              "model_id": "a795aacdfe7c46898fe7bbda948a6b33"
            }
          },
          "metadata": {}
        }
      ]
    },
    {
      "cell_type": "markdown",
      "source": [
        "# Exercise"
      ],
      "metadata": {
        "id": "_83fARpBAsc_"
      }
    },
    {
      "cell_type": "markdown",
      "source": [
        "# Life Expectancy with Multivariate Linear Regression\n",
        "\n",
        "*   Download [Life Expectancy Data](https://www.kaggle.com/datasets/kumarajarshi/life-expectancy-who) from Kaggle. After downloading it should be .zip dir that consists of `Live Expectancy Data.csv` file.\n",
        "*   Read the data using code below.\n",
        "*   Predict a choosen variable on the basis of 2-3 other variables.\n"
      ],
      "metadata": {
        "id": "SppTQDSkB_xx"
      }
    },
    {
      "cell_type": "markdown",
      "source": [
        "## Load the Life Expectancy Dataset"
      ],
      "metadata": {
        "id": "Ge9K0MM0D-CI"
      }
    },
    {
      "cell_type": "code",
      "source": [
        "# To upload from your local drive, start with the following code. \n",
        "# It will prompt you to select a file. Click on “Choose Files” \n",
        "# then select and upload the .csv file you downloaded. \n",
        "\n",
        "from google.colab import files\n",
        "uploaded = files.upload()"
      ],
      "metadata": {
        "colab": {
          "base_uri": "https://localhost:8080/",
          "height": 74
        },
        "id": "4WTmqze-BiBs",
        "outputId": "dd4f2a08-7126-4e78-8e82-4af5e76340d6"
      },
      "execution_count": null,
      "outputs": [
        {
          "output_type": "display_data",
          "data": {
            "text/plain": [
              "<IPython.core.display.HTML object>"
            ],
            "text/html": [
              "\n",
              "     <input type=\"file\" id=\"files-9ef0682e-c592-4347-97a3-3dac3efa1891\" name=\"files[]\" multiple disabled\n",
              "        style=\"border:none\" />\n",
              "     <output id=\"result-9ef0682e-c592-4347-97a3-3dac3efa1891\">\n",
              "      Upload widget is only available when the cell has been executed in the\n",
              "      current browser session. Please rerun this cell to enable.\n",
              "      </output>\n",
              "      <script>// Copyright 2017 Google LLC\n",
              "//\n",
              "// Licensed under the Apache License, Version 2.0 (the \"License\");\n",
              "// you may not use this file except in compliance with the License.\n",
              "// You may obtain a copy of the License at\n",
              "//\n",
              "//      http://www.apache.org/licenses/LICENSE-2.0\n",
              "//\n",
              "// Unless required by applicable law or agreed to in writing, software\n",
              "// distributed under the License is distributed on an \"AS IS\" BASIS,\n",
              "// WITHOUT WARRANTIES OR CONDITIONS OF ANY KIND, either express or implied.\n",
              "// See the License for the specific language governing permissions and\n",
              "// limitations under the License.\n",
              "\n",
              "/**\n",
              " * @fileoverview Helpers for google.colab Python module.\n",
              " */\n",
              "(function(scope) {\n",
              "function span(text, styleAttributes = {}) {\n",
              "  const element = document.createElement('span');\n",
              "  element.textContent = text;\n",
              "  for (const key of Object.keys(styleAttributes)) {\n",
              "    element.style[key] = styleAttributes[key];\n",
              "  }\n",
              "  return element;\n",
              "}\n",
              "\n",
              "// Max number of bytes which will be uploaded at a time.\n",
              "const MAX_PAYLOAD_SIZE = 100 * 1024;\n",
              "\n",
              "function _uploadFiles(inputId, outputId) {\n",
              "  const steps = uploadFilesStep(inputId, outputId);\n",
              "  const outputElement = document.getElementById(outputId);\n",
              "  // Cache steps on the outputElement to make it available for the next call\n",
              "  // to uploadFilesContinue from Python.\n",
              "  outputElement.steps = steps;\n",
              "\n",
              "  return _uploadFilesContinue(outputId);\n",
              "}\n",
              "\n",
              "// This is roughly an async generator (not supported in the browser yet),\n",
              "// where there are multiple asynchronous steps and the Python side is going\n",
              "// to poll for completion of each step.\n",
              "// This uses a Promise to block the python side on completion of each step,\n",
              "// then passes the result of the previous step as the input to the next step.\n",
              "function _uploadFilesContinue(outputId) {\n",
              "  const outputElement = document.getElementById(outputId);\n",
              "  const steps = outputElement.steps;\n",
              "\n",
              "  const next = steps.next(outputElement.lastPromiseValue);\n",
              "  return Promise.resolve(next.value.promise).then((value) => {\n",
              "    // Cache the last promise value to make it available to the next\n",
              "    // step of the generator.\n",
              "    outputElement.lastPromiseValue = value;\n",
              "    return next.value.response;\n",
              "  });\n",
              "}\n",
              "\n",
              "/**\n",
              " * Generator function which is called between each async step of the upload\n",
              " * process.\n",
              " * @param {string} inputId Element ID of the input file picker element.\n",
              " * @param {string} outputId Element ID of the output display.\n",
              " * @return {!Iterable<!Object>} Iterable of next steps.\n",
              " */\n",
              "function* uploadFilesStep(inputId, outputId) {\n",
              "  const inputElement = document.getElementById(inputId);\n",
              "  inputElement.disabled = false;\n",
              "\n",
              "  const outputElement = document.getElementById(outputId);\n",
              "  outputElement.innerHTML = '';\n",
              "\n",
              "  const pickedPromise = new Promise((resolve) => {\n",
              "    inputElement.addEventListener('change', (e) => {\n",
              "      resolve(e.target.files);\n",
              "    });\n",
              "  });\n",
              "\n",
              "  const cancel = document.createElement('button');\n",
              "  inputElement.parentElement.appendChild(cancel);\n",
              "  cancel.textContent = 'Cancel upload';\n",
              "  const cancelPromise = new Promise((resolve) => {\n",
              "    cancel.onclick = () => {\n",
              "      resolve(null);\n",
              "    };\n",
              "  });\n",
              "\n",
              "  // Wait for the user to pick the files.\n",
              "  const files = yield {\n",
              "    promise: Promise.race([pickedPromise, cancelPromise]),\n",
              "    response: {\n",
              "      action: 'starting',\n",
              "    }\n",
              "  };\n",
              "\n",
              "  cancel.remove();\n",
              "\n",
              "  // Disable the input element since further picks are not allowed.\n",
              "  inputElement.disabled = true;\n",
              "\n",
              "  if (!files) {\n",
              "    return {\n",
              "      response: {\n",
              "        action: 'complete',\n",
              "      }\n",
              "    };\n",
              "  }\n",
              "\n",
              "  for (const file of files) {\n",
              "    const li = document.createElement('li');\n",
              "    li.append(span(file.name, {fontWeight: 'bold'}));\n",
              "    li.append(span(\n",
              "        `(${file.type || 'n/a'}) - ${file.size} bytes, ` +\n",
              "        `last modified: ${\n",
              "            file.lastModifiedDate ? file.lastModifiedDate.toLocaleDateString() :\n",
              "                                    'n/a'} - `));\n",
              "    const percent = span('0% done');\n",
              "    li.appendChild(percent);\n",
              "\n",
              "    outputElement.appendChild(li);\n",
              "\n",
              "    const fileDataPromise = new Promise((resolve) => {\n",
              "      const reader = new FileReader();\n",
              "      reader.onload = (e) => {\n",
              "        resolve(e.target.result);\n",
              "      };\n",
              "      reader.readAsArrayBuffer(file);\n",
              "    });\n",
              "    // Wait for the data to be ready.\n",
              "    let fileData = yield {\n",
              "      promise: fileDataPromise,\n",
              "      response: {\n",
              "        action: 'continue',\n",
              "      }\n",
              "    };\n",
              "\n",
              "    // Use a chunked sending to avoid message size limits. See b/62115660.\n",
              "    let position = 0;\n",
              "    do {\n",
              "      const length = Math.min(fileData.byteLength - position, MAX_PAYLOAD_SIZE);\n",
              "      const chunk = new Uint8Array(fileData, position, length);\n",
              "      position += length;\n",
              "\n",
              "      const base64 = btoa(String.fromCharCode.apply(null, chunk));\n",
              "      yield {\n",
              "        response: {\n",
              "          action: 'append',\n",
              "          file: file.name,\n",
              "          data: base64,\n",
              "        },\n",
              "      };\n",
              "\n",
              "      let percentDone = fileData.byteLength === 0 ?\n",
              "          100 :\n",
              "          Math.round((position / fileData.byteLength) * 100);\n",
              "      percent.textContent = `${percentDone}% done`;\n",
              "\n",
              "    } while (position < fileData.byteLength);\n",
              "  }\n",
              "\n",
              "  // All done.\n",
              "  yield {\n",
              "    response: {\n",
              "      action: 'complete',\n",
              "    }\n",
              "  };\n",
              "}\n",
              "\n",
              "scope.google = scope.google || {};\n",
              "scope.google.colab = scope.google.colab || {};\n",
              "scope.google.colab._files = {\n",
              "  _uploadFiles,\n",
              "  _uploadFilesContinue,\n",
              "};\n",
              "})(self);\n",
              "</script> "
            ]
          },
          "metadata": {}
        },
        {
          "output_type": "stream",
          "name": "stdout",
          "text": [
            "Saving Life Expectancy Data.csv to Life Expectancy Data (2).csv\n"
          ]
        }
      ]
    },
    {
      "cell_type": "code",
      "source": [
        "# make sure the filename matches the name of the uploaded file \n",
        "life_expectancy_data = pd.read_csv(io.BytesIO(uploaded['Life Expectancy Data.csv']))\n",
        "life_expectancy_df = life_expectancy_data.copy()"
      ],
      "metadata": {
        "id": "zsJGm6nXAsCQ"
      },
      "execution_count": null,
      "outputs": []
    },
    {
      "cell_type": "markdown",
      "source": [
        "### Inspect data"
      ],
      "metadata": {
        "id": "yS3MffWsD6Um"
      }
    },
    {
      "cell_type": "code",
      "source": [
        "life_expectancy_df.head()"
      ],
      "metadata": {
        "colab": {
          "base_uri": "https://localhost:8080/",
          "height": 352
        },
        "id": "jDI_rgo4D5tT",
        "outputId": "9fd6d8d6-41aa-4b3c-c672-da284490020e"
      },
      "execution_count": null,
      "outputs": [
        {
          "output_type": "execute_result",
          "data": {
            "text/plain": [
              "       Country  Year      Status  Life expectancy   Adult Mortality  \\\n",
              "0  Afghanistan  2015  Developing              65.0            263.0   \n",
              "1  Afghanistan  2014  Developing              59.9            271.0   \n",
              "2  Afghanistan  2013  Developing              59.9            268.0   \n",
              "3  Afghanistan  2012  Developing              59.5            272.0   \n",
              "4  Afghanistan  2011  Developing              59.2            275.0   \n",
              "\n",
              "   infant deaths  Alcohol  percentage expenditure  Hepatitis B  Measles   ...  \\\n",
              "0             62     0.01               71.279624         65.0      1154  ...   \n",
              "1             64     0.01               73.523582         62.0       492  ...   \n",
              "2             66     0.01               73.219243         64.0       430  ...   \n",
              "3             69     0.01               78.184215         67.0      2787  ...   \n",
              "4             71     0.01                7.097109         68.0      3013  ...   \n",
              "\n",
              "   Polio  Total expenditure  Diphtheria    HIV/AIDS         GDP  Population  \\\n",
              "0    6.0               8.16         65.0        0.1  584.259210  33736494.0   \n",
              "1   58.0               8.18         62.0        0.1  612.696514    327582.0   \n",
              "2   62.0               8.13         64.0        0.1  631.744976  31731688.0   \n",
              "3   67.0               8.52         67.0        0.1  669.959000   3696958.0   \n",
              "4   68.0               7.87         68.0        0.1   63.537231   2978599.0   \n",
              "\n",
              "    thinness  1-19 years   thinness 5-9 years  \\\n",
              "0                   17.2                 17.3   \n",
              "1                   17.5                 17.5   \n",
              "2                   17.7                 17.7   \n",
              "3                   17.9                 18.0   \n",
              "4                   18.2                 18.2   \n",
              "\n",
              "   Income composition of resources  Schooling  \n",
              "0                            0.479       10.1  \n",
              "1                            0.476       10.0  \n",
              "2                            0.470        9.9  \n",
              "3                            0.463        9.8  \n",
              "4                            0.454        9.5  \n",
              "\n",
              "[5 rows x 22 columns]"
            ],
            "text/html": [
              "\n",
              "  <div id=\"df-5b74874a-ba69-4c30-b75b-4c3604e14892\">\n",
              "    <div class=\"colab-df-container\">\n",
              "      <div>\n",
              "<style scoped>\n",
              "    .dataframe tbody tr th:only-of-type {\n",
              "        vertical-align: middle;\n",
              "    }\n",
              "\n",
              "    .dataframe tbody tr th {\n",
              "        vertical-align: top;\n",
              "    }\n",
              "\n",
              "    .dataframe thead th {\n",
              "        text-align: right;\n",
              "    }\n",
              "</style>\n",
              "<table border=\"1\" class=\"dataframe\">\n",
              "  <thead>\n",
              "    <tr style=\"text-align: right;\">\n",
              "      <th></th>\n",
              "      <th>Country</th>\n",
              "      <th>Year</th>\n",
              "      <th>Status</th>\n",
              "      <th>Life expectancy</th>\n",
              "      <th>Adult Mortality</th>\n",
              "      <th>infant deaths</th>\n",
              "      <th>Alcohol</th>\n",
              "      <th>percentage expenditure</th>\n",
              "      <th>Hepatitis B</th>\n",
              "      <th>Measles</th>\n",
              "      <th>...</th>\n",
              "      <th>Polio</th>\n",
              "      <th>Total expenditure</th>\n",
              "      <th>Diphtheria</th>\n",
              "      <th>HIV/AIDS</th>\n",
              "      <th>GDP</th>\n",
              "      <th>Population</th>\n",
              "      <th>thinness  1-19 years</th>\n",
              "      <th>thinness 5-9 years</th>\n",
              "      <th>Income composition of resources</th>\n",
              "      <th>Schooling</th>\n",
              "    </tr>\n",
              "  </thead>\n",
              "  <tbody>\n",
              "    <tr>\n",
              "      <th>0</th>\n",
              "      <td>Afghanistan</td>\n",
              "      <td>2015</td>\n",
              "      <td>Developing</td>\n",
              "      <td>65.0</td>\n",
              "      <td>263.0</td>\n",
              "      <td>62</td>\n",
              "      <td>0.01</td>\n",
              "      <td>71.279624</td>\n",
              "      <td>65.0</td>\n",
              "      <td>1154</td>\n",
              "      <td>...</td>\n",
              "      <td>6.0</td>\n",
              "      <td>8.16</td>\n",
              "      <td>65.0</td>\n",
              "      <td>0.1</td>\n",
              "      <td>584.259210</td>\n",
              "      <td>33736494.0</td>\n",
              "      <td>17.2</td>\n",
              "      <td>17.3</td>\n",
              "      <td>0.479</td>\n",
              "      <td>10.1</td>\n",
              "    </tr>\n",
              "    <tr>\n",
              "      <th>1</th>\n",
              "      <td>Afghanistan</td>\n",
              "      <td>2014</td>\n",
              "      <td>Developing</td>\n",
              "      <td>59.9</td>\n",
              "      <td>271.0</td>\n",
              "      <td>64</td>\n",
              "      <td>0.01</td>\n",
              "      <td>73.523582</td>\n",
              "      <td>62.0</td>\n",
              "      <td>492</td>\n",
              "      <td>...</td>\n",
              "      <td>58.0</td>\n",
              "      <td>8.18</td>\n",
              "      <td>62.0</td>\n",
              "      <td>0.1</td>\n",
              "      <td>612.696514</td>\n",
              "      <td>327582.0</td>\n",
              "      <td>17.5</td>\n",
              "      <td>17.5</td>\n",
              "      <td>0.476</td>\n",
              "      <td>10.0</td>\n",
              "    </tr>\n",
              "    <tr>\n",
              "      <th>2</th>\n",
              "      <td>Afghanistan</td>\n",
              "      <td>2013</td>\n",
              "      <td>Developing</td>\n",
              "      <td>59.9</td>\n",
              "      <td>268.0</td>\n",
              "      <td>66</td>\n",
              "      <td>0.01</td>\n",
              "      <td>73.219243</td>\n",
              "      <td>64.0</td>\n",
              "      <td>430</td>\n",
              "      <td>...</td>\n",
              "      <td>62.0</td>\n",
              "      <td>8.13</td>\n",
              "      <td>64.0</td>\n",
              "      <td>0.1</td>\n",
              "      <td>631.744976</td>\n",
              "      <td>31731688.0</td>\n",
              "      <td>17.7</td>\n",
              "      <td>17.7</td>\n",
              "      <td>0.470</td>\n",
              "      <td>9.9</td>\n",
              "    </tr>\n",
              "    <tr>\n",
              "      <th>3</th>\n",
              "      <td>Afghanistan</td>\n",
              "      <td>2012</td>\n",
              "      <td>Developing</td>\n",
              "      <td>59.5</td>\n",
              "      <td>272.0</td>\n",
              "      <td>69</td>\n",
              "      <td>0.01</td>\n",
              "      <td>78.184215</td>\n",
              "      <td>67.0</td>\n",
              "      <td>2787</td>\n",
              "      <td>...</td>\n",
              "      <td>67.0</td>\n",
              "      <td>8.52</td>\n",
              "      <td>67.0</td>\n",
              "      <td>0.1</td>\n",
              "      <td>669.959000</td>\n",
              "      <td>3696958.0</td>\n",
              "      <td>17.9</td>\n",
              "      <td>18.0</td>\n",
              "      <td>0.463</td>\n",
              "      <td>9.8</td>\n",
              "    </tr>\n",
              "    <tr>\n",
              "      <th>4</th>\n",
              "      <td>Afghanistan</td>\n",
              "      <td>2011</td>\n",
              "      <td>Developing</td>\n",
              "      <td>59.2</td>\n",
              "      <td>275.0</td>\n",
              "      <td>71</td>\n",
              "      <td>0.01</td>\n",
              "      <td>7.097109</td>\n",
              "      <td>68.0</td>\n",
              "      <td>3013</td>\n",
              "      <td>...</td>\n",
              "      <td>68.0</td>\n",
              "      <td>7.87</td>\n",
              "      <td>68.0</td>\n",
              "      <td>0.1</td>\n",
              "      <td>63.537231</td>\n",
              "      <td>2978599.0</td>\n",
              "      <td>18.2</td>\n",
              "      <td>18.2</td>\n",
              "      <td>0.454</td>\n",
              "      <td>9.5</td>\n",
              "    </tr>\n",
              "  </tbody>\n",
              "</table>\n",
              "<p>5 rows × 22 columns</p>\n",
              "</div>\n",
              "      <button class=\"colab-df-convert\" onclick=\"convertToInteractive('df-5b74874a-ba69-4c30-b75b-4c3604e14892')\"\n",
              "              title=\"Convert this dataframe to an interactive table.\"\n",
              "              style=\"display:none;\">\n",
              "        \n",
              "  <svg xmlns=\"http://www.w3.org/2000/svg\" height=\"24px\"viewBox=\"0 0 24 24\"\n",
              "       width=\"24px\">\n",
              "    <path d=\"M0 0h24v24H0V0z\" fill=\"none\"/>\n",
              "    <path d=\"M18.56 5.44l.94 2.06.94-2.06 2.06-.94-2.06-.94-.94-2.06-.94 2.06-2.06.94zm-11 1L8.5 8.5l.94-2.06 2.06-.94-2.06-.94L8.5 2.5l-.94 2.06-2.06.94zm10 10l.94 2.06.94-2.06 2.06-.94-2.06-.94-.94-2.06-.94 2.06-2.06.94z\"/><path d=\"M17.41 7.96l-1.37-1.37c-.4-.4-.92-.59-1.43-.59-.52 0-1.04.2-1.43.59L10.3 9.45l-7.72 7.72c-.78.78-.78 2.05 0 2.83L4 21.41c.39.39.9.59 1.41.59.51 0 1.02-.2 1.41-.59l7.78-7.78 2.81-2.81c.8-.78.8-2.07 0-2.86zM5.41 20L4 18.59l7.72-7.72 1.47 1.35L5.41 20z\"/>\n",
              "  </svg>\n",
              "      </button>\n",
              "      \n",
              "  <style>\n",
              "    .colab-df-container {\n",
              "      display:flex;\n",
              "      flex-wrap:wrap;\n",
              "      gap: 12px;\n",
              "    }\n",
              "\n",
              "    .colab-df-convert {\n",
              "      background-color: #E8F0FE;\n",
              "      border: none;\n",
              "      border-radius: 50%;\n",
              "      cursor: pointer;\n",
              "      display: none;\n",
              "      fill: #1967D2;\n",
              "      height: 32px;\n",
              "      padding: 0 0 0 0;\n",
              "      width: 32px;\n",
              "    }\n",
              "\n",
              "    .colab-df-convert:hover {\n",
              "      background-color: #E2EBFA;\n",
              "      box-shadow: 0px 1px 2px rgba(60, 64, 67, 0.3), 0px 1px 3px 1px rgba(60, 64, 67, 0.15);\n",
              "      fill: #174EA6;\n",
              "    }\n",
              "\n",
              "    [theme=dark] .colab-df-convert {\n",
              "      background-color: #3B4455;\n",
              "      fill: #D2E3FC;\n",
              "    }\n",
              "\n",
              "    [theme=dark] .colab-df-convert:hover {\n",
              "      background-color: #434B5C;\n",
              "      box-shadow: 0px 1px 3px 1px rgba(0, 0, 0, 0.15);\n",
              "      filter: drop-shadow(0px 1px 2px rgba(0, 0, 0, 0.3));\n",
              "      fill: #FFFFFF;\n",
              "    }\n",
              "  </style>\n",
              "\n",
              "      <script>\n",
              "        const buttonEl =\n",
              "          document.querySelector('#df-5b74874a-ba69-4c30-b75b-4c3604e14892 button.colab-df-convert');\n",
              "        buttonEl.style.display =\n",
              "          google.colab.kernel.accessAllowed ? 'block' : 'none';\n",
              "\n",
              "        async function convertToInteractive(key) {\n",
              "          const element = document.querySelector('#df-5b74874a-ba69-4c30-b75b-4c3604e14892');\n",
              "          const dataTable =\n",
              "            await google.colab.kernel.invokeFunction('convertToInteractive',\n",
              "                                                     [key], {});\n",
              "          if (!dataTable) return;\n",
              "\n",
              "          const docLinkHtml = 'Like what you see? Visit the ' +\n",
              "            '<a target=\"_blank\" href=https://colab.research.google.com/notebooks/data_table.ipynb>data table notebook</a>'\n",
              "            + ' to learn more about interactive tables.';\n",
              "          element.innerHTML = '';\n",
              "          dataTable['output_type'] = 'display_data';\n",
              "          await google.colab.output.renderOutput(dataTable, element);\n",
              "          const docLink = document.createElement('div');\n",
              "          docLink.innerHTML = docLinkHtml;\n",
              "          element.appendChild(docLink);\n",
              "        }\n",
              "      </script>\n",
              "    </div>\n",
              "  </div>\n",
              "  "
            ]
          },
          "metadata": {},
          "execution_count": 36
        }
      ]
    },
    {
      "cell_type": "code",
      "source": [
        "life_expectancy_df.info()"
      ],
      "metadata": {
        "colab": {
          "base_uri": "https://localhost:8080/"
        },
        "id": "wkz7Q5lfBuZd",
        "outputId": "0d466c2b-b0b6-4fe5-ab1b-3c0785718735"
      },
      "execution_count": null,
      "outputs": [
        {
          "output_type": "stream",
          "name": "stdout",
          "text": [
            "<class 'pandas.core.frame.DataFrame'>\n",
            "RangeIndex: 2938 entries, 0 to 2937\n",
            "Data columns (total 22 columns):\n",
            " #   Column                           Non-Null Count  Dtype  \n",
            "---  ------                           --------------  -----  \n",
            " 0   Country                          2938 non-null   object \n",
            " 1   Year                             2938 non-null   int64  \n",
            " 2   Status                           2938 non-null   object \n",
            " 3   Life expectancy                  2928 non-null   float64\n",
            " 4   Adult Mortality                  2928 non-null   float64\n",
            " 5   infant deaths                    2938 non-null   int64  \n",
            " 6   Alcohol                          2744 non-null   float64\n",
            " 7   percentage expenditure           2938 non-null   float64\n",
            " 8   Hepatitis B                      2385 non-null   float64\n",
            " 9   Measles                          2938 non-null   int64  \n",
            " 10   BMI                             2904 non-null   float64\n",
            " 11  under-five deaths                2938 non-null   int64  \n",
            " 12  Polio                            2919 non-null   float64\n",
            " 13  Total expenditure                2712 non-null   float64\n",
            " 14  Diphtheria                       2919 non-null   float64\n",
            " 15   HIV/AIDS                        2938 non-null   float64\n",
            " 16  GDP                              2490 non-null   float64\n",
            " 17  Population                       2286 non-null   float64\n",
            " 18   thinness  1-19 years            2904 non-null   float64\n",
            " 19   thinness 5-9 years              2904 non-null   float64\n",
            " 20  Income composition of resources  2771 non-null   float64\n",
            " 21  Schooling                        2775 non-null   float64\n",
            "dtypes: float64(16), int64(4), object(2)\n",
            "memory usage: 505.1+ KB\n"
          ]
        }
      ]
    },
    {
      "cell_type": "code",
      "source": [
        "life_expectancy_df.describe()"
      ],
      "metadata": {
        "colab": {
          "base_uri": "https://localhost:8080/",
          "height": 416
        },
        "id": "CKlPA-ecB2qz",
        "outputId": "577a93fa-7d09-4939-8726-0b7e5f9d9c3e"
      },
      "execution_count": null,
      "outputs": [
        {
          "output_type": "execute_result",
          "data": {
            "text/plain": [
              "              Year  Life expectancy   Adult Mortality  infant deaths  \\\n",
              "count  2938.000000       2928.000000      2928.000000    2938.000000   \n",
              "mean   2007.518720         69.224932       164.796448      30.303948   \n",
              "std       4.613841          9.523867       124.292079     117.926501   \n",
              "min    2000.000000         36.300000         1.000000       0.000000   \n",
              "25%    2004.000000         63.100000        74.000000       0.000000   \n",
              "50%    2008.000000         72.100000       144.000000       3.000000   \n",
              "75%    2012.000000         75.700000       228.000000      22.000000   \n",
              "max    2015.000000         89.000000       723.000000    1800.000000   \n",
              "\n",
              "           Alcohol  percentage expenditure  Hepatitis B       Measles   \\\n",
              "count  2744.000000             2938.000000  2385.000000    2938.000000   \n",
              "mean      4.602861              738.251295    80.940461    2419.592240   \n",
              "std       4.052413             1987.914858    25.070016   11467.272489   \n",
              "min       0.010000                0.000000     1.000000       0.000000   \n",
              "25%       0.877500                4.685343    77.000000       0.000000   \n",
              "50%       3.755000               64.912906    92.000000      17.000000   \n",
              "75%       7.702500              441.534144    97.000000     360.250000   \n",
              "max      17.870000            19479.911610    99.000000  212183.000000   \n",
              "\n",
              "              BMI   under-five deaths         Polio  Total expenditure  \\\n",
              "count  2904.000000         2938.000000  2919.000000         2712.00000   \n",
              "mean     38.321247           42.035739    82.550188            5.93819   \n",
              "std      20.044034          160.445548    23.428046            2.49832   \n",
              "min       1.000000            0.000000     3.000000            0.37000   \n",
              "25%      19.300000            0.000000    78.000000            4.26000   \n",
              "50%      43.500000            4.000000    93.000000            5.75500   \n",
              "75%      56.200000           28.000000    97.000000            7.49250   \n",
              "max      87.300000         2500.000000    99.000000           17.60000   \n",
              "\n",
              "       Diphtheria      HIV/AIDS            GDP    Population  \\\n",
              "count  2919.000000  2938.000000    2490.000000  2.286000e+03   \n",
              "mean     82.324084     1.742103    7483.158469  1.275338e+07   \n",
              "std      23.716912     5.077785   14270.169342  6.101210e+07   \n",
              "min       2.000000     0.100000       1.681350  3.400000e+01   \n",
              "25%      78.000000     0.100000     463.935626  1.957932e+05   \n",
              "50%      93.000000     0.100000    1766.947595  1.386542e+06   \n",
              "75%      97.000000     0.800000    5910.806335  7.420359e+06   \n",
              "max      99.000000    50.600000  119172.741800  1.293859e+09   \n",
              "\n",
              "        thinness  1-19 years   thinness 5-9 years  \\\n",
              "count            2904.000000          2904.000000   \n",
              "mean                4.839704             4.870317   \n",
              "std                 4.420195             4.508882   \n",
              "min                 0.100000             0.100000   \n",
              "25%                 1.600000             1.500000   \n",
              "50%                 3.300000             3.300000   \n",
              "75%                 7.200000             7.200000   \n",
              "max                27.700000            28.600000   \n",
              "\n",
              "       Income composition of resources    Schooling  \n",
              "count                      2771.000000  2775.000000  \n",
              "mean                          0.627551    11.992793  \n",
              "std                           0.210904     3.358920  \n",
              "min                           0.000000     0.000000  \n",
              "25%                           0.493000    10.100000  \n",
              "50%                           0.677000    12.300000  \n",
              "75%                           0.779000    14.300000  \n",
              "max                           0.948000    20.700000  "
            ],
            "text/html": [
              "\n",
              "  <div id=\"df-b8ebf99f-de1b-410f-b85e-9c01910f6ad8\">\n",
              "    <div class=\"colab-df-container\">\n",
              "      <div>\n",
              "<style scoped>\n",
              "    .dataframe tbody tr th:only-of-type {\n",
              "        vertical-align: middle;\n",
              "    }\n",
              "\n",
              "    .dataframe tbody tr th {\n",
              "        vertical-align: top;\n",
              "    }\n",
              "\n",
              "    .dataframe thead th {\n",
              "        text-align: right;\n",
              "    }\n",
              "</style>\n",
              "<table border=\"1\" class=\"dataframe\">\n",
              "  <thead>\n",
              "    <tr style=\"text-align: right;\">\n",
              "      <th></th>\n",
              "      <th>Year</th>\n",
              "      <th>Life expectancy</th>\n",
              "      <th>Adult Mortality</th>\n",
              "      <th>infant deaths</th>\n",
              "      <th>Alcohol</th>\n",
              "      <th>percentage expenditure</th>\n",
              "      <th>Hepatitis B</th>\n",
              "      <th>Measles</th>\n",
              "      <th>BMI</th>\n",
              "      <th>under-five deaths</th>\n",
              "      <th>Polio</th>\n",
              "      <th>Total expenditure</th>\n",
              "      <th>Diphtheria</th>\n",
              "      <th>HIV/AIDS</th>\n",
              "      <th>GDP</th>\n",
              "      <th>Population</th>\n",
              "      <th>thinness  1-19 years</th>\n",
              "      <th>thinness 5-9 years</th>\n",
              "      <th>Income composition of resources</th>\n",
              "      <th>Schooling</th>\n",
              "    </tr>\n",
              "  </thead>\n",
              "  <tbody>\n",
              "    <tr>\n",
              "      <th>count</th>\n",
              "      <td>2938.000000</td>\n",
              "      <td>2928.000000</td>\n",
              "      <td>2928.000000</td>\n",
              "      <td>2938.000000</td>\n",
              "      <td>2744.000000</td>\n",
              "      <td>2938.000000</td>\n",
              "      <td>2385.000000</td>\n",
              "      <td>2938.000000</td>\n",
              "      <td>2904.000000</td>\n",
              "      <td>2938.000000</td>\n",
              "      <td>2919.000000</td>\n",
              "      <td>2712.00000</td>\n",
              "      <td>2919.000000</td>\n",
              "      <td>2938.000000</td>\n",
              "      <td>2490.000000</td>\n",
              "      <td>2.286000e+03</td>\n",
              "      <td>2904.000000</td>\n",
              "      <td>2904.000000</td>\n",
              "      <td>2771.000000</td>\n",
              "      <td>2775.000000</td>\n",
              "    </tr>\n",
              "    <tr>\n",
              "      <th>mean</th>\n",
              "      <td>2007.518720</td>\n",
              "      <td>69.224932</td>\n",
              "      <td>164.796448</td>\n",
              "      <td>30.303948</td>\n",
              "      <td>4.602861</td>\n",
              "      <td>738.251295</td>\n",
              "      <td>80.940461</td>\n",
              "      <td>2419.592240</td>\n",
              "      <td>38.321247</td>\n",
              "      <td>42.035739</td>\n",
              "      <td>82.550188</td>\n",
              "      <td>5.93819</td>\n",
              "      <td>82.324084</td>\n",
              "      <td>1.742103</td>\n",
              "      <td>7483.158469</td>\n",
              "      <td>1.275338e+07</td>\n",
              "      <td>4.839704</td>\n",
              "      <td>4.870317</td>\n",
              "      <td>0.627551</td>\n",
              "      <td>11.992793</td>\n",
              "    </tr>\n",
              "    <tr>\n",
              "      <th>std</th>\n",
              "      <td>4.613841</td>\n",
              "      <td>9.523867</td>\n",
              "      <td>124.292079</td>\n",
              "      <td>117.926501</td>\n",
              "      <td>4.052413</td>\n",
              "      <td>1987.914858</td>\n",
              "      <td>25.070016</td>\n",
              "      <td>11467.272489</td>\n",
              "      <td>20.044034</td>\n",
              "      <td>160.445548</td>\n",
              "      <td>23.428046</td>\n",
              "      <td>2.49832</td>\n",
              "      <td>23.716912</td>\n",
              "      <td>5.077785</td>\n",
              "      <td>14270.169342</td>\n",
              "      <td>6.101210e+07</td>\n",
              "      <td>4.420195</td>\n",
              "      <td>4.508882</td>\n",
              "      <td>0.210904</td>\n",
              "      <td>3.358920</td>\n",
              "    </tr>\n",
              "    <tr>\n",
              "      <th>min</th>\n",
              "      <td>2000.000000</td>\n",
              "      <td>36.300000</td>\n",
              "      <td>1.000000</td>\n",
              "      <td>0.000000</td>\n",
              "      <td>0.010000</td>\n",
              "      <td>0.000000</td>\n",
              "      <td>1.000000</td>\n",
              "      <td>0.000000</td>\n",
              "      <td>1.000000</td>\n",
              "      <td>0.000000</td>\n",
              "      <td>3.000000</td>\n",
              "      <td>0.37000</td>\n",
              "      <td>2.000000</td>\n",
              "      <td>0.100000</td>\n",
              "      <td>1.681350</td>\n",
              "      <td>3.400000e+01</td>\n",
              "      <td>0.100000</td>\n",
              "      <td>0.100000</td>\n",
              "      <td>0.000000</td>\n",
              "      <td>0.000000</td>\n",
              "    </tr>\n",
              "    <tr>\n",
              "      <th>25%</th>\n",
              "      <td>2004.000000</td>\n",
              "      <td>63.100000</td>\n",
              "      <td>74.000000</td>\n",
              "      <td>0.000000</td>\n",
              "      <td>0.877500</td>\n",
              "      <td>4.685343</td>\n",
              "      <td>77.000000</td>\n",
              "      <td>0.000000</td>\n",
              "      <td>19.300000</td>\n",
              "      <td>0.000000</td>\n",
              "      <td>78.000000</td>\n",
              "      <td>4.26000</td>\n",
              "      <td>78.000000</td>\n",
              "      <td>0.100000</td>\n",
              "      <td>463.935626</td>\n",
              "      <td>1.957932e+05</td>\n",
              "      <td>1.600000</td>\n",
              "      <td>1.500000</td>\n",
              "      <td>0.493000</td>\n",
              "      <td>10.100000</td>\n",
              "    </tr>\n",
              "    <tr>\n",
              "      <th>50%</th>\n",
              "      <td>2008.000000</td>\n",
              "      <td>72.100000</td>\n",
              "      <td>144.000000</td>\n",
              "      <td>3.000000</td>\n",
              "      <td>3.755000</td>\n",
              "      <td>64.912906</td>\n",
              "      <td>92.000000</td>\n",
              "      <td>17.000000</td>\n",
              "      <td>43.500000</td>\n",
              "      <td>4.000000</td>\n",
              "      <td>93.000000</td>\n",
              "      <td>5.75500</td>\n",
              "      <td>93.000000</td>\n",
              "      <td>0.100000</td>\n",
              "      <td>1766.947595</td>\n",
              "      <td>1.386542e+06</td>\n",
              "      <td>3.300000</td>\n",
              "      <td>3.300000</td>\n",
              "      <td>0.677000</td>\n",
              "      <td>12.300000</td>\n",
              "    </tr>\n",
              "    <tr>\n",
              "      <th>75%</th>\n",
              "      <td>2012.000000</td>\n",
              "      <td>75.700000</td>\n",
              "      <td>228.000000</td>\n",
              "      <td>22.000000</td>\n",
              "      <td>7.702500</td>\n",
              "      <td>441.534144</td>\n",
              "      <td>97.000000</td>\n",
              "      <td>360.250000</td>\n",
              "      <td>56.200000</td>\n",
              "      <td>28.000000</td>\n",
              "      <td>97.000000</td>\n",
              "      <td>7.49250</td>\n",
              "      <td>97.000000</td>\n",
              "      <td>0.800000</td>\n",
              "      <td>5910.806335</td>\n",
              "      <td>7.420359e+06</td>\n",
              "      <td>7.200000</td>\n",
              "      <td>7.200000</td>\n",
              "      <td>0.779000</td>\n",
              "      <td>14.300000</td>\n",
              "    </tr>\n",
              "    <tr>\n",
              "      <th>max</th>\n",
              "      <td>2015.000000</td>\n",
              "      <td>89.000000</td>\n",
              "      <td>723.000000</td>\n",
              "      <td>1800.000000</td>\n",
              "      <td>17.870000</td>\n",
              "      <td>19479.911610</td>\n",
              "      <td>99.000000</td>\n",
              "      <td>212183.000000</td>\n",
              "      <td>87.300000</td>\n",
              "      <td>2500.000000</td>\n",
              "      <td>99.000000</td>\n",
              "      <td>17.60000</td>\n",
              "      <td>99.000000</td>\n",
              "      <td>50.600000</td>\n",
              "      <td>119172.741800</td>\n",
              "      <td>1.293859e+09</td>\n",
              "      <td>27.700000</td>\n",
              "      <td>28.600000</td>\n",
              "      <td>0.948000</td>\n",
              "      <td>20.700000</td>\n",
              "    </tr>\n",
              "  </tbody>\n",
              "</table>\n",
              "</div>\n",
              "      <button class=\"colab-df-convert\" onclick=\"convertToInteractive('df-b8ebf99f-de1b-410f-b85e-9c01910f6ad8')\"\n",
              "              title=\"Convert this dataframe to an interactive table.\"\n",
              "              style=\"display:none;\">\n",
              "        \n",
              "  <svg xmlns=\"http://www.w3.org/2000/svg\" height=\"24px\"viewBox=\"0 0 24 24\"\n",
              "       width=\"24px\">\n",
              "    <path d=\"M0 0h24v24H0V0z\" fill=\"none\"/>\n",
              "    <path d=\"M18.56 5.44l.94 2.06.94-2.06 2.06-.94-2.06-.94-.94-2.06-.94 2.06-2.06.94zm-11 1L8.5 8.5l.94-2.06 2.06-.94-2.06-.94L8.5 2.5l-.94 2.06-2.06.94zm10 10l.94 2.06.94-2.06 2.06-.94-2.06-.94-.94-2.06-.94 2.06-2.06.94z\"/><path d=\"M17.41 7.96l-1.37-1.37c-.4-.4-.92-.59-1.43-.59-.52 0-1.04.2-1.43.59L10.3 9.45l-7.72 7.72c-.78.78-.78 2.05 0 2.83L4 21.41c.39.39.9.59 1.41.59.51 0 1.02-.2 1.41-.59l7.78-7.78 2.81-2.81c.8-.78.8-2.07 0-2.86zM5.41 20L4 18.59l7.72-7.72 1.47 1.35L5.41 20z\"/>\n",
              "  </svg>\n",
              "      </button>\n",
              "      \n",
              "  <style>\n",
              "    .colab-df-container {\n",
              "      display:flex;\n",
              "      flex-wrap:wrap;\n",
              "      gap: 12px;\n",
              "    }\n",
              "\n",
              "    .colab-df-convert {\n",
              "      background-color: #E8F0FE;\n",
              "      border: none;\n",
              "      border-radius: 50%;\n",
              "      cursor: pointer;\n",
              "      display: none;\n",
              "      fill: #1967D2;\n",
              "      height: 32px;\n",
              "      padding: 0 0 0 0;\n",
              "      width: 32px;\n",
              "    }\n",
              "\n",
              "    .colab-df-convert:hover {\n",
              "      background-color: #E2EBFA;\n",
              "      box-shadow: 0px 1px 2px rgba(60, 64, 67, 0.3), 0px 1px 3px 1px rgba(60, 64, 67, 0.15);\n",
              "      fill: #174EA6;\n",
              "    }\n",
              "\n",
              "    [theme=dark] .colab-df-convert {\n",
              "      background-color: #3B4455;\n",
              "      fill: #D2E3FC;\n",
              "    }\n",
              "\n",
              "    [theme=dark] .colab-df-convert:hover {\n",
              "      background-color: #434B5C;\n",
              "      box-shadow: 0px 1px 3px 1px rgba(0, 0, 0, 0.15);\n",
              "      filter: drop-shadow(0px 1px 2px rgba(0, 0, 0, 0.3));\n",
              "      fill: #FFFFFF;\n",
              "    }\n",
              "  </style>\n",
              "\n",
              "      <script>\n",
              "        const buttonEl =\n",
              "          document.querySelector('#df-b8ebf99f-de1b-410f-b85e-9c01910f6ad8 button.colab-df-convert');\n",
              "        buttonEl.style.display =\n",
              "          google.colab.kernel.accessAllowed ? 'block' : 'none';\n",
              "\n",
              "        async function convertToInteractive(key) {\n",
              "          const element = document.querySelector('#df-b8ebf99f-de1b-410f-b85e-9c01910f6ad8');\n",
              "          const dataTable =\n",
              "            await google.colab.kernel.invokeFunction('convertToInteractive',\n",
              "                                                     [key], {});\n",
              "          if (!dataTable) return;\n",
              "\n",
              "          const docLinkHtml = 'Like what you see? Visit the ' +\n",
              "            '<a target=\"_blank\" href=https://colab.research.google.com/notebooks/data_table.ipynb>data table notebook</a>'\n",
              "            + ' to learn more about interactive tables.';\n",
              "          element.innerHTML = '';\n",
              "          dataTable['output_type'] = 'display_data';\n",
              "          await google.colab.output.renderOutput(dataTable, element);\n",
              "          const docLink = document.createElement('div');\n",
              "          docLink.innerHTML = docLinkHtml;\n",
              "          element.appendChild(docLink);\n",
              "        }\n",
              "      </script>\n",
              "    </div>\n",
              "  </div>\n",
              "  "
            ]
          },
          "metadata": {},
          "execution_count": 38
        }
      ]
    },
    {
      "cell_type": "code",
      "source": [
        "# checking for null values\n",
        "life_expectancy_df.isnull().sum()"
      ],
      "metadata": {
        "colab": {
          "base_uri": "https://localhost:8080/"
        },
        "id": "RDgyOVUjEH4N",
        "outputId": "1fbc1aa7-82ce-4a9c-abc6-4fef904c8016"
      },
      "execution_count": null,
      "outputs": [
        {
          "output_type": "execute_result",
          "data": {
            "text/plain": [
              "Country                              0\n",
              "Year                                 0\n",
              "Status                               0\n",
              "Life expectancy                     10\n",
              "Adult Mortality                     10\n",
              "infant deaths                        0\n",
              "Alcohol                            194\n",
              "percentage expenditure               0\n",
              "Hepatitis B                        553\n",
              "Measles                              0\n",
              " BMI                                34\n",
              "under-five deaths                    0\n",
              "Polio                               19\n",
              "Total expenditure                  226\n",
              "Diphtheria                          19\n",
              " HIV/AIDS                            0\n",
              "GDP                                448\n",
              "Population                         652\n",
              " thinness  1-19 years               34\n",
              " thinness 5-9 years                 34\n",
              "Income composition of resources    167\n",
              "Schooling                          163\n",
              "dtype: int64"
            ]
          },
          "metadata": {},
          "execution_count": 39
        }
      ]
    },
    {
      "cell_type": "code",
      "source": [
        "# delete missing/empty observations\n",
        "life_expectancy_df = life_expectancy_df.dropna()            "
      ],
      "metadata": {
        "id": "odOxRmevEad8"
      },
      "execution_count": null,
      "outputs": []
    },
    {
      "cell_type": "code",
      "source": [
        "# checking again for null values\n",
        "life_expectancy_df.isnull().sum()"
      ],
      "metadata": {
        "colab": {
          "base_uri": "https://localhost:8080/"
        },
        "id": "3UOOHUcdFEHj",
        "outputId": "184e2160-b297-4043-f8e0-bd4b8baa8a58"
      },
      "execution_count": null,
      "outputs": [
        {
          "output_type": "execute_result",
          "data": {
            "text/plain": [
              "Country                            0\n",
              "Year                               0\n",
              "Status                             0\n",
              "Life expectancy                    0\n",
              "Adult Mortality                    0\n",
              "infant deaths                      0\n",
              "Alcohol                            0\n",
              "percentage expenditure             0\n",
              "Hepatitis B                        0\n",
              "Measles                            0\n",
              " BMI                               0\n",
              "under-five deaths                  0\n",
              "Polio                              0\n",
              "Total expenditure                  0\n",
              "Diphtheria                         0\n",
              " HIV/AIDS                          0\n",
              "GDP                                0\n",
              "Population                         0\n",
              " thinness  1-19 years              0\n",
              " thinness 5-9 years                0\n",
              "Income composition of resources    0\n",
              "Schooling                          0\n",
              "dtype: int64"
            ]
          },
          "metadata": {},
          "execution_count": 41
        }
      ]
    },
    {
      "cell_type": "markdown",
      "source": [
        "Mind, that after dropping some rows, the size of dataset changed.\n",
        "\n",
        "As an alternative to deleting missing observations, the empty cells can be filled with the expected (mean) value of the data series:\n",
        "\n",
        " ``` \n",
        " life_expectancy_df = life_expectancy_data.copy()\n",
        " life_expectancy_df.fillna(life_expectancy_df.mean(), inplace=True)\n",
        " ```\n",
        " This forces pandas to replace cells with NaN values with column mean."
      ],
      "metadata": {
        "id": "HCVjkzTvFIbG"
      }
    },
    {
      "cell_type": "code",
      "source": [
        "# create correlation matix\n",
        "corr = life_expectancy_df.corr()"
      ],
      "metadata": {
        "id": "Wicys4YuGgvr"
      },
      "execution_count": null,
      "outputs": []
    },
    {
      "cell_type": "code",
      "source": [
        "# plot matrix\n",
        "plt.figure(figsize=(15,10))\n",
        "\n",
        "sns.heatmap(\n",
        "    corr,\n",
        "    vmax=.8, \n",
        "    annot=True,\n",
        "    cmap='icefire'\n",
        "    )\n",
        "\n",
        "plt.show()"
      ],
      "metadata": {
        "colab": {
          "base_uri": "https://localhost:8080/",
          "height": 770
        },
        "outputId": "f3ece4a3-e26c-44d9-ddca-72010b47c462",
        "id": "OEaGe8joGgvt"
      },
      "execution_count": null,
      "outputs": [
        {
          "output_type": "display_data",
          "data": {
            "text/plain": [
              "<Figure size 1080x720 with 2 Axes>"
            ],
            "image/png": "[encoded data removed]"
          },
          "metadata": {
            "needs_background": "light"
          }
        }
      ]
    },
    {
      "cell_type": "markdown",
      "source": [
        "## Prepare data"
      ],
      "metadata": {
        "id": "FHThwsdcIRW7"
      }
    },
    {
      "cell_type": "code",
      "source": [
        "## your code goes here..."
      ],
      "metadata": {
        "id": "-LQ6-shiIifR"
      },
      "execution_count": null,
      "outputs": []
    },
    {
      "cell_type": "markdown",
      "source": [
        "## Fit the model"
      ],
      "metadata": {
        "id": "gMFL06OpJGBF"
      }
    },
    {
      "cell_type": "code",
      "source": [
        "## your code goes here..."
      ],
      "metadata": {
        "id": "7VPXf7VqIfys"
      },
      "execution_count": null,
      "outputs": []
    },
    {
      "cell_type": "markdown",
      "source": [
        "## Test the model"
      ],
      "metadata": {
        "id": "22uuIQUeJWFQ"
      }
    },
    {
      "cell_type": "markdown",
      "source": [
        "* print R^2, MAE and MSE of predicted data."
      ],
      "metadata": {
        "id": "03l9A01gJe4q"
      }
    },
    {
      "cell_type": "code",
      "source": [
        "## your code goes here..."
      ],
      "metadata": {
        "id": "vmasOy6rJVie"
      },
      "execution_count": null,
      "outputs": []
    }
  ]
}