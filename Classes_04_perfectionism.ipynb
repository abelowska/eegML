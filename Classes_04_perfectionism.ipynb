{
  "cells": [
    {
      "cell_type": "markdown",
      "metadata": {
        "id": "view-in-github",
        "colab_type": "text"
      },
      "source": [
        "<a href=\"https://colab.research.google.com/github/abelowska/eegML/blob/main/Classes_04_perfectionism.ipynb\" target=\"_parent\"><img src=\"https://colab.research.google.com/assets/colab-badge.svg\" alt=\"Open In Colab\"/></a>"
      ]
    },
    {
      "cell_type": "markdown",
      "id": "40a73099-38c1-4bf0-afd3-5481df7c3d19",
      "metadata": {
        "id": "40a73099-38c1-4bf0-afd3-5481df7c3d19"
      },
      "source": [
        "# Prediction of perfectionism CMDA subscale from error-related negativity component"
      ]
    },
    {
      "cell_type": "markdown",
      "source": [
        "Install additional libraries"
      ],
      "metadata": {
        "id": "scBXb1bvEzGA"
      },
      "id": "scBXb1bvEzGA"
    },
    {
      "cell_type": "code",
      "source": [
        "!pip install MNE"
      ],
      "metadata": {
        "id": "EIW4QA1REv8X"
      },
      "id": "EIW4QA1REv8X",
      "execution_count": null,
      "outputs": []
    },
    {
      "cell_type": "markdown",
      "id": "d8ff9f56-5483-44c7-b9cc-486a31838279",
      "metadata": {
        "tags": [],
        "id": "d8ff9f56-5483-44c7-b9cc-486a31838279"
      },
      "source": [
        "Imports"
      ]
    },
    {
      "cell_type": "code",
      "execution_count": null,
      "id": "e9e84d26-b32c-41ae-b3f4-81e0ee55156b",
      "metadata": {
        "id": "e9e84d26-b32c-41ae-b3f4-81e0ee55156b"
      },
      "outputs": [],
      "source": [
        "import os\n",
        "import re\n",
        "import glob\n",
        "import os\n",
        "import sys\n",
        "import ast\n",
        "import os.path as op\n",
        "from collections import defaultdict\n",
        "from copy import deepcopy\n",
        "import copy\n",
        "\n",
        "import pickle\n",
        "import mne\n",
        "import scipy\n",
        "import numpy as np\n",
        "import pandas as pd\n",
        "from sklearn.model_selection import train_test_split\n",
        "from sklearn.metrics import mean_absolute_error\n",
        "from sklearn.metrics import mean_squared_error\n",
        "from sklearn.metrics import r2_score\n",
        "\n",
        "from sklearn.linear_model import LinearRegression\n",
        "\n",
        "import seaborn as sns\n",
        "import matplotlib.pyplot as plt\n",
        "\n",
        "from sklearn.base import TransformerMixin, BaseEstimator\n",
        "\n",
        "import warnings\n",
        "\n",
        "from sklearn import datasets, linear_model\n",
        "import seaborn as sns\n",
        "sns.set_theme(style=\"whitegrid\", palette=\"deep\")\n",
        "\n",
        "from sklearn.preprocessing import StandardScaler\n",
        "from sklearn.pipeline import Pipeline\n",
        "from sklearn import set_config\n",
        "from sklearn.svm import SVR\n",
        "from sklearn.neighbors import KNeighborsRegressor\n",
        "from sklearn import tree\n",
        "from sklearn.model_selection import cross_val_score\n",
        "\n",
        "warnings.filterwarnings(\"ignore\")"
      ]
    },
    {
      "cell_type": "markdown",
      "id": "59c69899-6a32-4418-9079-8bd66aed497f",
      "metadata": {
        "tags": [],
        "id": "59c69899-6a32-4418-9079-8bd66aed497f"
      },
      "source": [
        "---\n",
        "## Load data\n",
        "\n",
        "Loading EEG and questionnaire data. By default create_df_data loads all info from given .csv file but one can specify it by passing a list of desired labels."
      ]
    },
    {
      "cell_type": "code",
      "execution_count": null,
      "id": "7c412f36-66a2-4fd8-bfa7-caa98c4a315c",
      "metadata": {
        "id": "7c412f36-66a2-4fd8-bfa7-caa98c4a315c"
      },
      "outputs": [],
      "source": [
        "def create_df_data(\n",
        "    dir_path,\n",
        "    info_filename=None,\n",
        "    info=\"all\",\n",
        "):\n",
        "    \"\"\"Loads data for all participants and create DataFrame with optional additional info from given .csv file.\n",
        "\n",
        "    On default, loads a train set: chooses only 80% of participants\n",
        "    and for each of them chooses 80% of epochs.\n",
        "    It will choose them deterministically.\n",
        "\n",
        "    If test_participants is set to True, it will load remaining 20% of participants.\n",
        "\n",
        "    Parameters\n",
        "    ----------\n",
        "    test: bool\n",
        "        whether load data for training or final testing.\n",
        "        If true load participants data for testing.\n",
        "    info_filename: String | None\n",
        "        path to .csv file with additional data.\n",
        "    info: array\n",
        "        listed parameters from the info file to be loaded.\n",
        "        if 'all', load all parameters\n",
        "\n",
        "    Returns\n",
        "    -------\n",
        "    go_nogo_data_df : pandas.DataFrame\n",
        "\n",
        "    \"\"\"\n",
        "    print(dir_path)\n",
        "    header_files_glob = \"responses_100_600/*.vhdr\"\n",
        "    print(header_files_glob)\n",
        "\n",
        "    # extract header files\n",
        "    header_files = glob.glob(header_files_glob)\n",
        "    header_files = sorted(header_files)\n",
        "    print(header_files)\n",
        "\n",
        "    # create dataframe for results\n",
        "    go_nogo_data_df = pd.DataFrame()\n",
        "\n",
        "    for file in header_files:\n",
        "        # load eeg data for given participant\n",
        "        participant_epochs = load_epochs_from_file(file)\n",
        "\n",
        "        # and compute participant's id from file_name\n",
        "        participant_id = re.match(r\".*_(\\w+).*\", file).group(1)\n",
        "\n",
        "        error = participant_epochs[\"error_response\"]._data\n",
        "        correct = participant_epochs[\"correct_response\"]._data\n",
        "\n",
        "        # exclude those participants who have too few samples\n",
        "        if len(error) < 5 or len(correct) < 5:\n",
        "            # not enough data for this participant\n",
        "            continue\n",
        "\n",
        "        # construct dataframe for participant with: id|epoch_data|response_type|additional info...\n",
        "        participant_df = create_df_from_epochs(\n",
        "            participant_id, participant_epochs, info_filename, info\n",
        "        )\n",
        "\n",
        "        # add participant's data to results dataframe\n",
        "        print(participant_id)\n",
        "        go_nogo_data_df = go_nogo_data_df.append(participant_df, ignore_index=True)\n",
        "\n",
        "    return go_nogo_data_df"
      ]
    },
    {
      "cell_type": "code",
      "execution_count": null,
      "id": "aa88517e-884a-4b5b-9652-1bf2e7787aef",
      "metadata": {
        "id": "aa88517e-884a-4b5b-9652-1bf2e7787aef"
      },
      "outputs": [],
      "source": [
        "def load_epochs_from_file(file, reject_bad_segments=\"auto\", mask=None):\n",
        "    \"\"\"Load epochs from a header file.\n",
        "\n",
        "    Args:\n",
        "        file: path to a header file (.vhdr)\n",
        "        reject_bad_segments: 'auto' means that bad segments are rejected automatically.\n",
        "\n",
        "    Returns:\n",
        "        mne Epochs\n",
        "\n",
        "    \"\"\"\n",
        "    # Import the BrainVision data into an MNE Raw object\n",
        "    raw = mne.io.read_raw_brainvision(file)\n",
        "\n",
        "    # Construct annotation filename\n",
        "    annot_file = file[:-4] + \"vmrk\"\n",
        "\n",
        "    # Read in the event information as MNE annotations\n",
        "    annotations = mne.read_annotations(annot_file)\n",
        "\n",
        "    # Add the annotations to our raw object so we can use them with the data\n",
        "    raw.set_annotations(annotations)\n",
        "\n",
        "    # Map with response markers only\n",
        "    event_dict = {\n",
        "        \"Stimulus/RE*ex*1_n*1_c_1*R*FB\": 10004,\n",
        "        \"Stimulus/RE*ex*1_n*1_c_1*R*FG\": 10005,\n",
        "        \"Stimulus/RE*ex*1_n*1_c_2*R\": 10006,\n",
        "        \"Stimulus/RE*ex*1_n*2_c_1*R\": 10007,\n",
        "        \"Stimulus/RE*ex*2_n*1_c_1*R\": 10008,\n",
        "        \"Stimulus/RE*ex*2_n*2_c_1*R*FB\": 10009,\n",
        "        \"Stimulus/RE*ex*2_n*2_c_1*R*FG\": 10010,\n",
        "        \"Stimulus/RE*ex*2_n*2_c_2*R\": 10011,\n",
        "    }\n",
        "\n",
        "    # Map for merged correct/error response markers\n",
        "    merged_event_dict = {\"correct_response\": 0, \"error_response\": 1}\n",
        "\n",
        "    # Reconstruct the original events from Raw object\n",
        "    events, event_ids = mne.events_from_annotations(raw, event_id=event_dict)\n",
        "\n",
        "    # Merge correct/error response events\n",
        "    merged_events = mne.merge_events(\n",
        "        events,\n",
        "        [10004, 10005, 10009, 10010],\n",
        "        merged_event_dict[\"correct_response\"],\n",
        "        replace_events=True,\n",
        "    )\n",
        "    merged_events = mne.merge_events(\n",
        "        merged_events,\n",
        "        [10006, 10007, 10008, 10011],\n",
        "        merged_event_dict[\"error_response\"],\n",
        "        replace_events=True,\n",
        "    )\n",
        "\n",
        "    # epochs = []\n",
        "    this_reject_by_annotation = True\n",
        "\n",
        "    # Read epochs\n",
        "    epochs = mne.Epochs(\n",
        "        raw=raw,\n",
        "        events=merged_events,\n",
        "        event_id=merged_event_dict,\n",
        "        tmin=tmin,\n",
        "        tmax=tmax,\n",
        "        baseline=None,\n",
        "        reject_by_annotation=this_reject_by_annotation,\n",
        "        preload=True,\n",
        "        # verbose='CRITICAL',\n",
        "    )\n",
        "    \n",
        "    return epochs"
      ]
    },
    {
      "cell_type": "code",
      "execution_count": null,
      "id": "0991419b-7acd-42bc-b048-e5e9fa3cb3e6",
      "metadata": {
        "id": "0991419b-7acd-42bc-b048-e5e9fa3cb3e6"
      },
      "outputs": [],
      "source": [
        "def create_df_from_epochs(\n",
        "    id, \n",
        "    participant_epochs, \n",
        "    info_filename, \n",
        "    info\n",
        "):\n",
        "    \"\"\"Create df for each participant. DF structure is like: {id: String ; epoch: epoch_data ; marker: 1.0|0.0}\n",
        "    1.0 means correct and 0.0 means error response.\n",
        "\n",
        "    Parameters\n",
        "    ----------\n",
        "    id: String\n",
        "        participant's id extracted from filename\n",
        "    participant_epochs: mne Epochs\n",
        "        epoched eeg data\n",
        "    info_filename: String\n",
        "        path to .csv file with questionnaire data.\n",
        "    info: array\n",
        "        listed parameters from the info file to be loaded.\n",
        "        if 'all', load all parameters\n",
        "\n",
        "    Returns\n",
        "    -------\n",
        "    participant_df : pandas.DataFrame\n",
        "\n",
        "    \"\"\"\n",
        "\n",
        "    # create dataframe for participant's questionnaire data\n",
        "    info_df = pd.DataFrame()\n",
        "\n",
        "    # extract questionnaire data from .csv file\n",
        "    if info_filename is not None:\n",
        "        if info == \"all\":\n",
        "            this_info_df = pd.read_csv(info_filename)\n",
        "        else:\n",
        "            this_info_df = pd.read_csv(info_filename, usecols=[\"Demo_kod\"] + info)\n",
        "        info_df = (\n",
        "            this_info_df.loc[this_info_df[\"Demo_kod\"] == id]\n",
        "            .reset_index()\n",
        "            .drop(\"index\", axis=1)\n",
        "        )\n",
        "        \n",
        "    # create dataframe record with participant's data: ID, eeg data, questionnaire data    \n",
        "    participant_df = pd.DataFrame(\n",
        "        {\n",
        "            \"id\": [id], \n",
        "            \"epoch\": [participant_epochs], \n",
        "        }).join(\n",
        "            info_df\n",
        "        )\n",
        "\n",
        "    return participant_df"
      ]
    },
    {
      "cell_type": "markdown",
      "id": "2db5e07d-9618-47de-a706-687a529fb2fe",
      "metadata": {
        "id": "2db5e07d-9618-47de-a706-687a529fb2fe"
      },
      "source": [
        "### Read data"
      ]
    },
    {
      "cell_type": "code",
      "execution_count": null,
      "metadata": {
        "id": "27a25389-d030-415b-982d-b68df981b758"
      },
      "outputs": [],
      "source": [
        "# constants\n",
        "tmin, tmax = -0.101562, 0.5937525  # Start and end of the segments\n",
        "signal_frequency = 256\n",
        "random_state = 42\n",
        "test_size = 0.3\n",
        "\n",
        "ERROR = 1\n",
        "CORRECT = 0"
      ],
      "id": "27a25389-d030-415b-982d-b68df981b758"
    },
    {
      "cell_type": "code",
      "source": [
        "# mount google drive in colab\n",
        "from google.colab import drive\n",
        "drive.mount('/content/gdrive')"
      ],
      "metadata": {
        "id": "JWiBXAsRJmeY",
        "colab": {
          "base_uri": "https://localhost:8080/"
        },
        "outputId": "2a01213c-cbd1-4047-83db-3c7ae38cfb2a"
      },
      "execution_count": null,
      "outputs": [
        {
          "output_type": "stream",
          "name": "stdout",
          "text": [
            "Mounted at /content/gdrive\n"
          ]
        }
      ],
      "id": "JWiBXAsRJmeY"
    },
    {
      "cell_type": "code",
      "source": [
        "# display data in folder\n",
        "!ls gdrive/MyDrive/perfectionism_data"
      ],
      "metadata": {
        "colab": {
          "base_uri": "https://localhost:8080/"
        },
        "id": "yiggyQrRJ_YL",
        "outputId": "823be3ea-c187-49ff-a69a-c1915b62c9b7"
      },
      "execution_count": null,
      "outputs": [
        {
          "output_type": "stream",
          "name": "stdout",
          "text": [
            "'GNG_perfectionism (1).pkl'  'GNG_perfectionism (6).pkl'\n",
            "'GNG_perfectionism (2).pkl'   GNG_perfectionism.pkl\n",
            "'GNG_perfectionism (3).pkl'   picked\n",
            "'GNG_perfectionism (4).pkl'   responses_100_600.zip\n",
            "'GNG_perfectionism (5).pkl'   scales\n"
          ]
        }
      ],
      "id": "yiggyQrRJ_YL"
    },
    {
      "cell_type": "code",
      "source": [
        "# unzip and load eeg data\n",
        "# !unzip gdrive/MyDrive/perfectionism_data/responses_100_600.zip"
      ],
      "metadata": {
        "id": "SS779cdOl9Fd"
      },
      "id": "SS779cdOl9Fd",
      "execution_count": null,
      "outputs": []
    },
    {
      "cell_type": "code",
      "execution_count": null,
      "id": "9db8c673-5477-4126-b09d-870a8fcd9477",
      "metadata": {
        "id": "9db8c673-5477-4126-b09d-870a8fcd9477",
        "colab": {
          "base_uri": "https://localhost:8080/"
        },
        "outputId": "644b0885-7f0c-42d2-aa4c-c5e8219d7c44"
      },
      "outputs": [
        {
          "output_type": "stream",
          "name": "stdout",
          "text": [
            "Pickled file found. Loading pickled data...\n",
            "Done\n"
          ]
        }
      ],
      "source": [
        "# paths to data\n",
        "dir_path = \"gdrive/MyDrive/perfectionism_data/\"\n",
        "questionnaire_filename = dir_path + \"scales/all_scales.csv\"\n",
        "\n",
        "# define dataframe name in a way: TASK_questionnaire\n",
        "df_name = \"GNG_perfectionism\"\n",
        "\n",
        "# check whether pickled data exists\n",
        "pickled_data_filename = dir_path + df_name + \".pkl\"\n",
        "\n",
        "if os.path.isfile(pickled_data_filename):\n",
        "    print(\"Pickled file found. Loading pickled data...\")\n",
        "    epochs_df = pd.read_pickle(pickled_data_filename)\n",
        "    print(\"Done\")\n",
        "    pass\n",
        "else:\n",
        "    print(\"Pickled file not found. Loading data...\")\n",
        "    epochs_df = create_df_data(\n",
        "        dir_path = dir_path,\n",
        "        info_filename=questionnaire_filename,\n",
        "        info=\"all\"\n",
        "    )\n",
        "\n",
        "    epochs_df.name = df_name\n",
        "    \n",
        "    # save loaded data into a pickle file\n",
        "    epochs_df.to_pickle(dir_path + epochs_df.name + \".pkl\")\n",
        "    print(\"Done. Pickle file created\")"
      ]
    },
    {
      "cell_type": "code",
      "source": [
        "print(epochs_df.shape)\n",
        "epochs_df.head()"
      ],
      "metadata": {
        "id": "Z8EvPrqJiLpB",
        "colab": {
          "base_uri": "https://localhost:8080/",
          "height": 844
        },
        "outputId": "36f188eb-53fa-44bd-c3ab-259c539149a7"
      },
      "id": "Z8EvPrqJiLpB",
      "execution_count": null,
      "outputs": [
        {
          "output_type": "stream",
          "name": "stdout",
          "text": [
            "(138, 11)\n"
          ]
        },
        {
          "output_type": "execute_result",
          "data": {
            "text/plain": [
              "       id                                              epoch Demo_kod  \\\n",
              "0  AA0303  <Epochs |  201 events (all good), -0.101562 - ...   AA0303   \n",
              "1  AB0601  <Epochs |  221 events (all good), -0.101562 - ...   AB0601   \n",
              "2  AB0612  <Epochs |  253 events (all good), -0.101562 - ...   AB0612   \n",
              "3  AC2011  <Epochs |  173 events (all good), -0.101562 - ...   AC2011   \n",
              "4  AD1308  <Epochs |  202 events (all good), -0.101562 - ...   AD1308   \n",
              "\n",
              "   17-Perfect CM-Concern over Mistakes (9 items mean)  \\\n",
              "0                                               2.22    \n",
              "1                                               1.78    \n",
              "2                                               2.56    \n",
              "3                                               1.67    \n",
              "4                                               4.22    \n",
              "\n",
              "   17-Perfect PS-Personal Standards (7 items mean)  \\\n",
              "0                                             2.43   \n",
              "1                                             2.14   \n",
              "2                                             1.86   \n",
              "3                                             4.57   \n",
              "4                                             4.86   \n",
              "\n",
              "   17-Perfect PE-Parental Expectations (5 items mean)  \\\n",
              "0                                                1.8    \n",
              "1                                                1.8    \n",
              "2                                                1.4    \n",
              "3                                                1.2    \n",
              "4                                                3.4    \n",
              "\n",
              "   17-Perfect PC=Parental Criticism (4 items mean)  \\\n",
              "0                                             1.50   \n",
              "1                                             1.75   \n",
              "2                                             2.25   \n",
              "3                                             1.75   \n",
              "4                                             2.50   \n",
              "\n",
              "   17-Perfect D=Doubts about Actions (4 items mean)  \\\n",
              "0                                              2.75   \n",
              "1                                              2.00   \n",
              "2                                              2.50   \n",
              "3                                              3.75   \n",
              "4                                              4.50   \n",
              "\n",
              "   17-Perfect O=Organization (6 items mean)  \\\n",
              "0                                      3.83   \n",
              "1                                      3.33   \n",
              "2                                      4.00   \n",
              "3                                      5.00   \n",
              "4                                      3.67   \n",
              "\n",
              "   17-Perfectionism full scale (mean)  17-Perfectionism CMDA  \n",
              "0                                2.46                   4.97  \n",
              "1                                2.14                   3.78  \n",
              "2                                2.46                   5.06  \n",
              "3                                3.00                   5.42  \n",
              "4                                3.97                   8.72  "
            ],
            "text/html": [
              "\n",
              "  <div id=\"df-4c4171a1-d2f7-43c2-81a4-f5975e0f0ad8\">\n",
              "    <div class=\"colab-df-container\">\n",
              "      <div>\n",
              "<style scoped>\n",
              "    .dataframe tbody tr th:only-of-type {\n",
              "        vertical-align: middle;\n",
              "    }\n",
              "\n",
              "    .dataframe tbody tr th {\n",
              "        vertical-align: top;\n",
              "    }\n",
              "\n",
              "    .dataframe thead th {\n",
              "        text-align: right;\n",
              "    }\n",
              "</style>\n",
              "<table border=\"1\" class=\"dataframe\">\n",
              "  <thead>\n",
              "    <tr style=\"text-align: right;\">\n",
              "      <th></th>\n",
              "      <th>id</th>\n",
              "      <th>epoch</th>\n",
              "      <th>Demo_kod</th>\n",
              "      <th>17-Perfect CM-Concern over Mistakes (9 items mean)</th>\n",
              "      <th>17-Perfect PS-Personal Standards (7 items mean)</th>\n",
              "      <th>17-Perfect PE-Parental Expectations (5 items mean)</th>\n",
              "      <th>17-Perfect PC=Parental Criticism (4 items mean)</th>\n",
              "      <th>17-Perfect D=Doubts about Actions (4 items mean)</th>\n",
              "      <th>17-Perfect O=Organization (6 items mean)</th>\n",
              "      <th>17-Perfectionism full scale (mean)</th>\n",
              "      <th>17-Perfectionism CMDA</th>\n",
              "    </tr>\n",
              "  </thead>\n",
              "  <tbody>\n",
              "    <tr>\n",
              "      <th>0</th>\n",
              "      <td>AA0303</td>\n",
              "      <td>&lt;Epochs |  201 events (all good), -0.101562 - ...</td>\n",
              "      <td>AA0303</td>\n",
              "      <td>2.22</td>\n",
              "      <td>2.43</td>\n",
              "      <td>1.8</td>\n",
              "      <td>1.50</td>\n",
              "      <td>2.75</td>\n",
              "      <td>3.83</td>\n",
              "      <td>2.46</td>\n",
              "      <td>4.97</td>\n",
              "    </tr>\n",
              "    <tr>\n",
              "      <th>1</th>\n",
              "      <td>AB0601</td>\n",
              "      <td>&lt;Epochs |  221 events (all good), -0.101562 - ...</td>\n",
              "      <td>AB0601</td>\n",
              "      <td>1.78</td>\n",
              "      <td>2.14</td>\n",
              "      <td>1.8</td>\n",
              "      <td>1.75</td>\n",
              "      <td>2.00</td>\n",
              "      <td>3.33</td>\n",
              "      <td>2.14</td>\n",
              "      <td>3.78</td>\n",
              "    </tr>\n",
              "    <tr>\n",
              "      <th>2</th>\n",
              "      <td>AB0612</td>\n",
              "      <td>&lt;Epochs |  253 events (all good), -0.101562 - ...</td>\n",
              "      <td>AB0612</td>\n",
              "      <td>2.56</td>\n",
              "      <td>1.86</td>\n",
              "      <td>1.4</td>\n",
              "      <td>2.25</td>\n",
              "      <td>2.50</td>\n",
              "      <td>4.00</td>\n",
              "      <td>2.46</td>\n",
              "      <td>5.06</td>\n",
              "    </tr>\n",
              "    <tr>\n",
              "      <th>3</th>\n",
              "      <td>AC2011</td>\n",
              "      <td>&lt;Epochs |  173 events (all good), -0.101562 - ...</td>\n",
              "      <td>AC2011</td>\n",
              "      <td>1.67</td>\n",
              "      <td>4.57</td>\n",
              "      <td>1.2</td>\n",
              "      <td>1.75</td>\n",
              "      <td>3.75</td>\n",
              "      <td>5.00</td>\n",
              "      <td>3.00</td>\n",
              "      <td>5.42</td>\n",
              "    </tr>\n",
              "    <tr>\n",
              "      <th>4</th>\n",
              "      <td>AD1308</td>\n",
              "      <td>&lt;Epochs |  202 events (all good), -0.101562 - ...</td>\n",
              "      <td>AD1308</td>\n",
              "      <td>4.22</td>\n",
              "      <td>4.86</td>\n",
              "      <td>3.4</td>\n",
              "      <td>2.50</td>\n",
              "      <td>4.50</td>\n",
              "      <td>3.67</td>\n",
              "      <td>3.97</td>\n",
              "      <td>8.72</td>\n",
              "    </tr>\n",
              "  </tbody>\n",
              "</table>\n",
              "</div>\n",
              "      <button class=\"colab-df-convert\" onclick=\"convertToInteractive('df-4c4171a1-d2f7-43c2-81a4-f5975e0f0ad8')\"\n",
              "              title=\"Convert this dataframe to an interactive table.\"\n",
              "              style=\"display:none;\">\n",
              "        \n",
              "  <svg xmlns=\"http://www.w3.org/2000/svg\" height=\"24px\"viewBox=\"0 0 24 24\"\n",
              "       width=\"24px\">\n",
              "    <path d=\"M0 0h24v24H0V0z\" fill=\"none\"/>\n",
              "    <path d=\"M18.56 5.44l.94 2.06.94-2.06 2.06-.94-2.06-.94-.94-2.06-.94 2.06-2.06.94zm-11 1L8.5 8.5l.94-2.06 2.06-.94-2.06-.94L8.5 2.5l-.94 2.06-2.06.94zm10 10l.94 2.06.94-2.06 2.06-.94-2.06-.94-.94-2.06-.94 2.06-2.06.94z\"/><path d=\"M17.41 7.96l-1.37-1.37c-.4-.4-.92-.59-1.43-.59-.52 0-1.04.2-1.43.59L10.3 9.45l-7.72 7.72c-.78.78-.78 2.05 0 2.83L4 21.41c.39.39.9.59 1.41.59.51 0 1.02-.2 1.41-.59l7.78-7.78 2.81-2.81c.8-.78.8-2.07 0-2.86zM5.41 20L4 18.59l7.72-7.72 1.47 1.35L5.41 20z\"/>\n",
              "  </svg>\n",
              "      </button>\n",
              "      \n",
              "  <style>\n",
              "    .colab-df-container {\n",
              "      display:flex;\n",
              "      flex-wrap:wrap;\n",
              "      gap: 12px;\n",
              "    }\n",
              "\n",
              "    .colab-df-convert {\n",
              "      background-color: #E8F0FE;\n",
              "      border: none;\n",
              "      border-radius: 50%;\n",
              "      cursor: pointer;\n",
              "      display: none;\n",
              "      fill: #1967D2;\n",
              "      height: 32px;\n",
              "      padding: 0 0 0 0;\n",
              "      width: 32px;\n",
              "    }\n",
              "\n",
              "    .colab-df-convert:hover {\n",
              "      background-color: #E2EBFA;\n",
              "      box-shadow: 0px 1px 2px rgba(60, 64, 67, 0.3), 0px 1px 3px 1px rgba(60, 64, 67, 0.15);\n",
              "      fill: #174EA6;\n",
              "    }\n",
              "\n",
              "    [theme=dark] .colab-df-convert {\n",
              "      background-color: #3B4455;\n",
              "      fill: #D2E3FC;\n",
              "    }\n",
              "\n",
              "    [theme=dark] .colab-df-convert:hover {\n",
              "      background-color: #434B5C;\n",
              "      box-shadow: 0px 1px 3px 1px rgba(0, 0, 0, 0.15);\n",
              "      filter: drop-shadow(0px 1px 2px rgba(0, 0, 0, 0.3));\n",
              "      fill: #FFFFFF;\n",
              "    }\n",
              "  </style>\n",
              "\n",
              "      <script>\n",
              "        const buttonEl =\n",
              "          document.querySelector('#df-4c4171a1-d2f7-43c2-81a4-f5975e0f0ad8 button.colab-df-convert');\n",
              "        buttonEl.style.display =\n",
              "          google.colab.kernel.accessAllowed ? 'block' : 'none';\n",
              "\n",
              "        async function convertToInteractive(key) {\n",
              "          const element = document.querySelector('#df-4c4171a1-d2f7-43c2-81a4-f5975e0f0ad8');\n",
              "          const dataTable =\n",
              "            await google.colab.kernel.invokeFunction('convertToInteractive',\n",
              "                                                     [key], {});\n",
              "          if (!dataTable) return;\n",
              "\n",
              "          const docLinkHtml = 'Like what you see? Visit the ' +\n",
              "            '<a target=\"_blank\" href=https://colab.research.google.com/notebooks/data_table.ipynb>data table notebook</a>'\n",
              "            + ' to learn more about interactive tables.';\n",
              "          element.innerHTML = '';\n",
              "          dataTable['output_type'] = 'display_data';\n",
              "          await google.colab.output.renderOutput(dataTable, element);\n",
              "          const docLink = document.createElement('div');\n",
              "          docLink.innerHTML = docLinkHtml;\n",
              "          element.appendChild(docLink);\n",
              "        }\n",
              "      </script>\n",
              "    </div>\n",
              "  </div>\n",
              "  "
            ]
          },
          "metadata": {},
          "execution_count": 10
        }
      ]
    },
    {
      "cell_type": "markdown",
      "source": [
        "---\n",
        "## Prepare data"
      ],
      "metadata": {
        "id": "_-x3hDhdUncr"
      },
      "id": "_-x3hDhdUncr"
    },
    {
      "cell_type": "markdown",
      "source": [
        "#### 1. Check for Nans"
      ],
      "metadata": {
        "id": "mu8C_fA83JJR"
      },
      "id": "mu8C_fA83JJR"
    },
    {
      "cell_type": "code",
      "source": [
        "epochs_df.isnull().sum()"
      ],
      "metadata": {
        "colab": {
          "base_uri": "https://localhost:8080/"
        },
        "id": "HYAMXqDW3Iai",
        "outputId": "2bb226ef-d57b-4781-b913-9a375e3f5ac3"
      },
      "id": "HYAMXqDW3Iai",
      "execution_count": null,
      "outputs": [
        {
          "output_type": "execute_result",
          "data": {
            "text/plain": [
              "id                                                    0\n",
              "epoch                                                 0\n",
              "Demo_kod                                              1\n",
              "17-Perfect CM-Concern over Mistakes (9 items mean)    1\n",
              "17-Perfect PS-Personal Standards (7 items mean)       1\n",
              "17-Perfect PE-Parental Expectations (5 items mean)    1\n",
              "17-Perfect PC=Parental Criticism (4 items mean)       1\n",
              "17-Perfect D=Doubts about Actions (4 items mean)      1\n",
              "17-Perfect O=Organization (6 items mean)              1\n",
              "17-Perfectionism full scale (mean)                    1\n",
              "17-Perfectionism CMDA                                 1\n",
              "dtype: int64"
            ]
          },
          "metadata": {},
          "execution_count": 11
        }
      ]
    },
    {
      "cell_type": "code",
      "source": [
        "# replace Nan values with the mean of given column\n",
        "epochs_df.fillna(epochs_df.mean(), inplace=True)\n",
        "epochs_df.isnull().sum()"
      ],
      "metadata": {
        "colab": {
          "base_uri": "https://localhost:8080/"
        },
        "id": "A0rjTonp36le",
        "outputId": "faecf47f-fb4a-4f49-edc3-2c24e67ea46e"
      },
      "id": "A0rjTonp36le",
      "execution_count": null,
      "outputs": [
        {
          "output_type": "execute_result",
          "data": {
            "text/plain": [
              "id                                                    0\n",
              "epoch                                                 0\n",
              "Demo_kod                                              1\n",
              "17-Perfect CM-Concern over Mistakes (9 items mean)    0\n",
              "17-Perfect PS-Personal Standards (7 items mean)       0\n",
              "17-Perfect PE-Parental Expectations (5 items mean)    0\n",
              "17-Perfect PC=Parental Criticism (4 items mean)       0\n",
              "17-Perfect D=Doubts about Actions (4 items mean)      0\n",
              "17-Perfect O=Organization (6 items mean)              0\n",
              "17-Perfectionism full scale (mean)                    0\n",
              "17-Perfectionism CMDA                                 0\n",
              "dtype: int64"
            ]
          },
          "metadata": {},
          "execution_count": 12
        }
      ]
    },
    {
      "cell_type": "code",
      "source": [
        "# create deep copy for multiple operations on epochs_df\n",
        "# work on COPY (!)\n",
        "epochs_df_copy = pd.DataFrame(copy.deepcopy(epochs_df.to_dict()))"
      ],
      "metadata": {
        "id": "bbxafY3fI8gd"
      },
      "id": "bbxafY3fI8gd",
      "execution_count": null,
      "outputs": []
    },
    {
      "cell_type": "markdown",
      "source": [
        "#### 2. Create X and y sets\n",
        "Adopt following pipeline:\n",
        "* Select one channel (e.g. Fz)\n",
        "* Select time-window 0 to 100ms (usual time-window for ERN)\n",
        "* Average signal in selected window."
      ],
      "metadata": {
        "id": "25Lvnxt44oek"
      },
      "id": "25Lvnxt44oek"
    },
    {
      "cell_type": "code",
      "source": [
        "y = epochs_df_copy[\"17-Perfectionism CMDA\"].to_numpy().ravel()"
      ],
      "metadata": {
        "id": "aF8FI8XYJ_D8"
      },
      "id": "aF8FI8XYJ_D8",
      "execution_count": null,
      "outputs": []
    },
    {
      "cell_type": "code",
      "source": [
        "# extract MNE epochs from DF to list\n",
        "epochs_list = epochs_df_copy.epoch.to_list()"
      ],
      "metadata": {
        "id": "hu_8js3rJkwh"
      },
      "id": "hu_8js3rJkwh",
      "execution_count": null,
      "outputs": []
    },
    {
      "cell_type": "code",
      "source": [
        "# transform MNE epochs into MNE evoked\n",
        "evoked_list = [epoch[\"error_response\"].average() for epoch in epochs_list] "
      ],
      "metadata": {
        "id": "bYQ7_de2KJF_"
      },
      "id": "bYQ7_de2KJF_",
      "execution_count": null,
      "outputs": []
    },
    {
      "cell_type": "code",
      "source": [
        "# pick one channel\n",
        "\n",
        "# your code goes here"
      ],
      "metadata": {
        "id": "G3QBMXwRKHmQ"
      },
      "id": "G3QBMXwRKHmQ",
      "execution_count": null,
      "outputs": []
    },
    {
      "cell_type": "code",
      "source": [
        "# crop time window\n",
        "\n",
        "# your code goes here"
      ],
      "metadata": {
        "id": "WYx6Pa6MKYMr"
      },
      "id": "WYx6Pa6MKYMr",
      "execution_count": null,
      "outputs": []
    },
    {
      "cell_type": "code",
      "source": [
        "# select data from MNE Evoked with get_data() method\n",
        "\n",
        "# your code goes here"
      ],
      "metadata": {
        "id": "m9vXOsjaKj8W"
      },
      "id": "m9vXOsjaKj8W",
      "execution_count": null,
      "outputs": []
    },
    {
      "cell_type": "code",
      "source": [
        "# average signal in the selected time-window\n",
        "\n",
        "# your code goes here"
      ],
      "metadata": {
        "id": "zcZmda6-KYwK"
      },
      "id": "zcZmda6-KYwK",
      "execution_count": null,
      "outputs": []
    },
    {
      "cell_type": "markdown",
      "source": [
        "#### 3. Train-test split"
      ],
      "metadata": {
        "id": "x-rmifjK2zIv"
      },
      "id": "x-rmifjK2zIv"
    },
    {
      "cell_type": "code",
      "source": [
        "# train-test split\n",
        "X_train, X_test, y_train, y_test = train_test_split(\n",
        "    X, \n",
        "    y, \n",
        "    test_size=test_size, \n",
        "    random_state=random_state\n",
        ")"
      ],
      "metadata": {
        "id": "cfBmqyJb3C12"
      },
      "id": "cfBmqyJb3C12",
      "execution_count": null,
      "outputs": []
    },
    {
      "cell_type": "markdown",
      "source": [
        "---\n",
        "## Create models with `Pipelines`\n",
        "\n",
        "Test:\n",
        "- Linear Regression;\n",
        "- KNN;\n",
        "- SVR with both linear and rbf kernels.\n",
        "- For model evaluation use method `evaluate_model()`. Example of `evaluate_model()` usage is in *Classes_04_nonlinear_regression_pipelines.ipynb* notebook.\n",
        "\n",
        "Do not forget scale your data befor training. Use `Pipeline` to chain `Scaler` and `Regressor`.\n",
        "\n",
        "\n",
        "\n",
        "\n",
        "**You can play with the SVR and test various C and epsilon values :)**\n",
        "\n",
        "Enjoy! 🔥"
      ],
      "metadata": {
        "id": "CplUGNQWYV1-"
      },
      "id": "CplUGNQWYV1-"
    },
    {
      "cell_type": "code",
      "source": [
        "def evaluate_model(pipe, X_train, y_train, X_test, y_test):\n",
        "  '''\n",
        "  Takes Pipeline model, train and test data. \n",
        "  Fit model and evaluate it on test data.\n",
        "  '''\n",
        "\n",
        "  # fit model\n",
        "  pipe.fit(X_train, y_train)\n",
        "\n",
        "  # predict test data\n",
        "  y_pred = pipe.predict(X_test)\n",
        "\n",
        "  # predict train data\n",
        "  y_train_pred = pipe.predict(X_train)\n",
        "\n",
        "  # The coefficient of determination: 1 is perfect prediction\n",
        "  print(f\"Coefficient of determination: {r2_score(y_test, y_pred )}\")\n",
        "\n",
        "  return y_pred, y_train_pred"
      ],
      "metadata": {
        "id": "le_jQ-gqYorN"
      },
      "id": "le_jQ-gqYorN",
      "execution_count": null,
      "outputs": []
    },
    {
      "cell_type": "code",
      "source": [
        "# your code goes here"
      ],
      "metadata": {
        "id": "WIDJpwk6aN0m"
      },
      "id": "WIDJpwk6aN0m",
      "execution_count": null,
      "outputs": []
    }
  ],
  "metadata": {
    "kernelspec": {
      "display_name": "erpinator",
      "language": "python",
      "name": "erpinator"
    },
    "language_info": {
      "codemirror_mode": {
        "name": "ipython",
        "version": 3
      },
      "file_extension": ".py",
      "mimetype": "text/x-python",
      "name": "python",
      "nbconvert_exporter": "python",
      "pygments_lexer": "ipython3",
      "version": "3.8.10"
    },
    "colab": {
      "provenance": [],
      "toc_visible": true,
      "include_colab_link": true
    }
  },
  "nbformat": 4,
  "nbformat_minor": 5
}